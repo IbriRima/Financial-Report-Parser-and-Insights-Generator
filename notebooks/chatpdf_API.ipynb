{
 "cells": [
  {
   "cell_type": "code",
   "execution_count": 15,
   "metadata": {},
   "outputs": [
    {
     "name": "stdout",
     "output_type": "stream",
     "text": [
      "Source ID: src_d69MjzCmaZrWQJcOV2vB4\n"
     ]
    }
   ],
   "source": [
    "import requests\n",
    "\n",
    "files = [\n",
    "    ('file', ('file', open('../data/08 07 2022_Erste_Week Ahead.csv', 'rb'), 'application/octet-stream'))\n",
    "]\n",
    "headers = {\n",
    "    'x-api-key': 'sec_AdCY4tRVl6F0FA5bvco9VOn0hxP5KyvI'\n",
    "}\n",
    "\n",
    "response = requests.post(\n",
    "    'https://api.chatpdf.com/v1/sources/add-file', headers=headers, files=files)\n",
    "\n",
    "if response.status_code == 200:\n",
    "    print('Source ID:', response.json()['sourceId'])\n",
    "    sourceId=response.json()['sourceId']\n",
    "else:\n",
    "    print('Status:', response.status_code)\n",
    "    print('Error:', response.text)"
   ]
  },
  {
   "cell_type": "code",
   "execution_count": 14,
   "metadata": {},
   "outputs": [
    {
     "name": "stdout",
     "output_type": "stream",
     "text": [
      "Status: 500\n",
      "Error: {\"error\":\"invalid json response body at https://prompt-pr4yueoqha-ue.a.run.app/ reason: Unexpected token 'I', \\\"Internal S\\\"... is not valid JSON\"}\n"
     ]
    }
   ],
   "source": [
    "data = {\n",
    "    'sourceId': sourceId,\n",
    "    'messages': [\n",
    "        {\n",
    "            'role': \"user\",\n",
    "            'content': \"What is the topic of the pdf?\",\n",
    "        }\n",
    "    ]\n",
    "}\n",
    "\n",
    "response = requests.post(\n",
    "    'https://api.chatpdf.com/v1/chats/message', headers=headers, json=data)\n",
    "\n",
    "if response.status_code == 200:\n",
    "    print('Result:', response.json()['content'])\n",
    "else:\n",
    "    print('Status:', response.status_code)\n",
    "    print('Error:', response.text)"
   ]
  },
  {
   "cell_type": "code",
   "execution_count": 5,
   "metadata": {},
   "outputs": [
    {
     "name": "stderr",
     "output_type": "stream",
     "text": [
      "Some weights of the model checkpoint at nlpaueb/legal-bert-base-uncased were not used when initializing BertForSequenceClassification: ['cls.predictions.transform.dense.weight', 'cls.predictions.decoder.bias', 'cls.predictions.bias', 'cls.seq_relationship.bias', 'cls.predictions.transform.LayerNorm.bias', 'cls.seq_relationship.weight', 'cls.predictions.transform.LayerNorm.weight', 'cls.predictions.transform.dense.bias', 'cls.predictions.decoder.weight']\n",
      "- This IS expected if you are initializing BertForSequenceClassification from the checkpoint of a model trained on another task or with another architecture (e.g. initializing a BertForSequenceClassification model from a BertForPreTraining model).\n",
      "- This IS NOT expected if you are initializing BertForSequenceClassification from the checkpoint of a model that you expect to be exactly identical (initializing a BertForSequenceClassification model from a BertForSequenceClassification model).\n",
      "Some weights of BertForSequenceClassification were not initialized from the model checkpoint at nlpaueb/legal-bert-base-uncased and are newly initialized: ['classifier.weight', 'classifier.bias']\n",
      "You should probably TRAIN this model on a down-stream task to be able to use it for predictions and inference.\n"
     ]
    }
   ],
   "source": [
    "from transformers import AutoTokenizer, AutoModelForSequenceClassification, AdamW\n",
    "import torch\n",
    "from torch.utils.data import DataLoader\n",
    "\n",
    "# Step 1: Prepare the dataset\n",
    "# Assume you have a labeled dataset consisting of input texts and corresponding labels\n",
    "\n",
    "# Step 2: Load the pre-trained Legal BERT model\n",
    "model_name = \"nlpaueb/legal-bert-base-uncased\"\n",
    "tokenizer = AutoTokenizer.from_pretrained(model_name)\n",
    "model = AutoModelForSequenceClassification.from_pretrained(model_name, num_labels=2)\n"
   ]
  },
  {
   "cell_type": "code",
   "execution_count": 7,
   "metadata": {},
   "outputs": [
    {
     "name": "stderr",
     "output_type": "stream",
     "text": [
      "Some weights of the model checkpoint at nlpaueb/legal-bert-base-uncased were not used when initializing BertForSequenceClassification: ['cls.predictions.transform.dense.weight', 'cls.predictions.decoder.bias', 'cls.predictions.bias', 'cls.seq_relationship.bias', 'cls.predictions.transform.LayerNorm.bias', 'cls.seq_relationship.weight', 'cls.predictions.transform.LayerNorm.weight', 'cls.predictions.transform.dense.bias', 'cls.predictions.decoder.weight']\n",
      "- This IS expected if you are initializing BertForSequenceClassification from the checkpoint of a model trained on another task or with another architecture (e.g. initializing a BertForSequenceClassification model from a BertForPreTraining model).\n",
      "- This IS NOT expected if you are initializing BertForSequenceClassification from the checkpoint of a model that you expect to be exactly identical (initializing a BertForSequenceClassification model from a BertForSequenceClassification model).\n",
      "Some weights of BertForSequenceClassification were not initialized from the model checkpoint at nlpaueb/legal-bert-base-uncased and are newly initialized: ['classifier.weight', 'classifier.bias']\n",
      "You should probably TRAIN this model on a down-stream task to be able to use it for predictions and inference.\n"
     ]
    },
    {
     "name": "stdout",
     "output_type": "stream",
     "text": [
      "Predicted Label: 1\n"
     ]
    }
   ],
   "source": [
    "from transformers import AutoTokenizer, AutoModelForSequenceClassification\n",
    "import torch\n",
    "\n",
    "# Step 1: Install the required libraries\n",
    "\n",
    "# Step 2: Import the necessary modules\n",
    "\n",
    "# Step 3: Load the Legal BERT tokenizer and model\n",
    "tokenizer = AutoTokenizer.from_pretrained(\"nlpaueb/legal-bert-base-uncased\")\n",
    "model = AutoModelForSequenceClassification.from_pretrained(\"nlpaueb/legal-bert-base-uncased\")\n",
    "\n",
    "# Step 4: Tokenize and preprocess your input text\n",
    "\n",
    "encoded_input = tokenizer(text, padding=True, truncation=True, return_tensors='pt')\n",
    "\n",
    "# Step 5: Perform the text classification inference\n",
    "with torch.no_grad():\n",
    "    model.eval()\n",
    "    outputs = model(**encoded_input)\n",
    "    predictions = torch.argmax(outputs.logits, dim=1)\n",
    "\n",
    "# Step 6: Get the predicted class label\n",
    "predicted_label = predictions.item()\n",
    "\n",
    "print(\"Predicted Label:\", predicted_label)"
   ]
  },
  {
   "cell_type": "code",
   "execution_count": 14,
   "metadata": {},
   "outputs": [
    {
     "name": "stdout",
     "output_type": "stream",
     "text": [
      "Subjectivity score: 0.548531746031746\n"
     ]
    }
   ],
   "source": [
    "from textblob import TextBlob\n",
    "\n",
    "# Example text\n",
    "text = \"Disclosures Views and opinions are current as of date of publication and may be subject to change, \\\n",
    "they should not be construed as investment advice.\\\n",
    "Views and opinions expressed are for informational purposes only and do not constitute a \\\n",
    "recommendation by Goldman Sachs Asset Management to buy, sell, or hold any security. \\\n",
    "Individual portfolio management teams for Goldman Sachs Asset Management may have \\\n",
    "views and opinions and/or make investment decisions that, in certain instances, may not \\\n",
    "always be consistent with the views and opinions expressed herein. \\\n",
    "This material is provided at your request for informational purposes only. It is not an offer \\\n",
    "or solicitation to buy or sell any securities.\\\n",
    "The website links provided are for your convenience only and are not an endorsement or \\\n",
    "recommendation by Goldman Sachs Asset Management of any of these websites or the \\\n",
    "products or services offered. Goldman Sachs Asset Management is not responsible for the \\\n",
    "accuracy and validity of the content of these websites.\\\n",
    "Although certain information has been obtained from sources believed to be reliable, we \\\n",
    "do not guarantee its accuracy, completeness or fairness. We have relied upon and \\\n",
    "assumed without independent verification, the accuracy and completeness of all \\\n",
    "information available from public sources.\\\n",
    "Goldman Sachs does not provide legal, tax or accounting advice, unless explicitly agreed \\\n",
    "between you and Goldman Sachs (generally through certain services offered only to clients \\\n",
    "of Private Wealth Management). Any statement contained in this presentation concerning \\\n",
    "U.S. tax matters is not intended or written to be used and cannot be used for the purpose \\\n",
    "of avoiding penalties imposed on the relevant taxpayer. Notwithstanding anything in this `\\\n",
    "document to the contrary, and except as required to enable compliance with applicable \\\n",
    "securities law, you may disclose to any person the US federal and state income tax \\\n",
    "treatment and tax structure of the transaction and all materials of any kind (including tax \\\n",
    "opinions and other tax analyses) that are provided to you relating to such tax treatment \\\n",
    "and tax structure, without Goldman Sachs imposing any limitation of any kind. Investors \\\n",
    "should be aware that a determination of the tax consequences to them should take into \\\n",
    "account their specific circumstances and that the tax law is subject to change in the future \\\n",
    "or retroactively and investors are strongly urged to consult with their own tax advisor \\\n",
    "regarding any potential strategy, investment or transaction.\"\n",
    "\n",
    "# Create a TextBlob object\n",
    "blob = TextBlob(text)\n",
    "\n",
    "# Get the subjectivity score\n",
    "subjectivity_score = blob.subjectivity\n",
    "\n",
    "# Print the subjectivity score\n",
    "print(\"Subjectivity score:\", subjectivity_score)\n"
   ]
  },
  {
   "cell_type": "code",
   "execution_count": 15,
   "metadata": {},
   "outputs": [
    {
     "name": "stdout",
     "output_type": "stream",
     "text": [
      "Polarity score: 0.12892857142857142\n"
     ]
    }
   ],
   "source": [
    "\n",
    "\n",
    "# Create a TextBlob object\n",
    "blob = TextBlob(text)\n",
    "\n",
    "# Get the polarity score\n",
    "polarity_score = blob.sentiment.polarity\n",
    "\n",
    "# Print the polarity score\n",
    "print(\"Polarity score:\", polarity_score)\n"
   ]
  },
  {
   "cell_type": "code",
   "execution_count": 5,
   "metadata": {},
   "outputs": [],
   "source": [
    "import gensim\n",
    "from gensim import corpora"
   ]
  },
  {
   "cell_type": "code",
   "execution_count": 12,
   "metadata": {},
   "outputs": [
    {
     "name": "stdout",
     "output_type": "stream",
     "text": [
      "[]\n"
     ]
    }
   ],
   "source": [
    "import re\n",
    "\n",
    "def segment_text(text):\n",
    "    legal_vocab = [\"contract\", \"clause\", \"statute\", \"regulation\",'law']  # Example legal vocabulary\n",
    "\n",
    "    # Split the text into paragraphs\n",
    "    paragraphs = text.split(\"\\n\\n\")\n",
    "\n",
    "    # Perform segmentation based on the presence of legal vocabulary\n",
    "    segments = []\n",
    "    for paragraph in paragraphs:\n",
    "        if any(re.search(r\"\\b\" + re.escape(term) + r\"\\b\", paragraph, re.IGNORECASE) for term in legal_vocab):\n",
    "            segments.append(paragraph)\n",
    "\n",
    "    return segments\n",
    "\n",
    "# Example usage\n",
    "document = \"\"\"\n",
    "\n",
    "This document and its contents have not been reviewed by, delivered to \n",
    "or registered with any regulatory or other relevant authority in APAC. This\n",
    "document is for informational purposes and should not be construed \n",
    "as an offer or invitation to the public, direct or indirect, to buy or sell \n",
    "securities. This document is intended for limited distribution and only \n",
    "to the extent permitted under applicable laws in your jurisdiction. No \n",
    "representations are made with respect to the eligibility of any recipients \n",
    "of this document to acquire interests in securities under the laws of your \n",
    "jurisdiction.\n",
    "\n",
    "\n",
    "\n",
    "The alternatives market has evolved over the last 30 years \n",
    "and has gained wide acceptance with investors. What was \n",
    "once obscure and mysterious, it now standard for many \n",
    "institutional investors. We now have enough experience to \n",
    "understand how they perform and react in different market \n",
    "environments.\n",
    "\"\"\"\n",
    "\n",
    "segments = segment_text(document)\n",
    "print(segments)\n",
    "for segment in segments:\n",
    "    print(\"Segment:\")\n",
    "    print(segment)\n",
    "    print()\n"
   ]
  }
 ],
 "metadata": {
  "kernelspec": {
   "display_name": "Python 3",
   "language": "python",
   "name": "python3"
  },
  "language_info": {
   "codemirror_mode": {
    "name": "ipython",
    "version": 3
   },
   "file_extension": ".py",
   "mimetype": "text/x-python",
   "name": "python",
   "nbconvert_exporter": "python",
   "pygments_lexer": "ipython3",
   "version": "3.10.9"
  },
  "orig_nbformat": 4
 },
 "nbformat": 4,
 "nbformat_minor": 2
}
