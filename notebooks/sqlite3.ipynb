{
 "cells": [
  {
   "cell_type": "code",
   "execution_count": 2,
   "metadata": {},
   "outputs": [],
   "source": [
    "import sqlite3\n",
    "import pandas as pd"
   ]
  },
  {
   "cell_type": "code",
   "execution_count": 61,
   "metadata": {},
   "outputs": [],
   "source": [
    "csv_file = '../data/data_by_report.csv'\n",
    "df = pd.read_csv(csv_file)"
   ]
  },
  {
   "cell_type": "code",
   "execution_count": 43,
   "metadata": {},
   "outputs": [],
   "source": [
    "conn = sqlite3.connect('financial_reports.db')\n",
    "cursor = conn.cursor()"
   ]
  },
  {
   "cell_type": "code",
   "execution_count": 25,
   "metadata": {},
   "outputs": [],
   "source": [
    "import sqlite3\n",
    "\n",
    "# Connect to your SQLite database (or create one if it doesn't exist)\n",
    "conn = sqlite3.connect('financial_reports.db')\n",
    "\n",
    "# Create a cursor object\n",
    "cursor = conn.cursor()\n",
    "\n",
    "# Define the SQL statement to create the table with a primary key\n",
    "create_table_sql = \"\"\"\n",
    "CREATE TABLE pdfs (\n",
    "    file_name TEXT PRIMARY KEY,\n",
    "    date TEXT,\n",
    "    title TEXT,\n",
    "    bank TEXT,\n",
    "    text TEXT,\n",
    "    clean_text TEXT,\n",
    "    tokens TEXT\n",
    ");\n",
    "\"\"\"\n",
    "\n",
    "# Execute the SQL statement to create the table\n",
    "cursor.execute(create_table_sql)\n",
    "\n",
    "# Commit the changes to the database\n",
    "conn.commit()\n",
    "\n",
    "# Close the cursor and the database connection\n",
    "cursor.close()\n",
    "conn.close()"
   ]
  },
  {
   "cell_type": "code",
   "execution_count": 65,
   "metadata": {},
   "outputs": [],
   "source": [
    "query = \"SELECT * FROM pdfs\"\n",
    "    \n",
    "    # Read data from the database into a DataFrame\n",
    "df = pd.read_sql(query, conn)"
   ]
  },
  {
   "cell_type": "code",
   "execution_count": 71,
   "metadata": {},
   "outputs": [
    {
     "data": {
      "text/html": [
       "<div>\n",
       "<style scoped>\n",
       "    .dataframe tbody tr th:only-of-type {\n",
       "        vertical-align: middle;\n",
       "    }\n",
       "\n",
       "    .dataframe tbody tr th {\n",
       "        vertical-align: top;\n",
       "    }\n",
       "\n",
       "    .dataframe thead th {\n",
       "        text-align: right;\n",
       "    }\n",
       "</style>\n",
       "<table border=\"1\" class=\"dataframe\">\n",
       "  <thead>\n",
       "    <tr style=\"text-align: right;\">\n",
       "      <th></th>\n",
       "      <th>file_name</th>\n",
       "      <th>date</th>\n",
       "      <th>title</th>\n",
       "      <th>bank</th>\n",
       "      <th>text</th>\n",
       "      <th>clean_text</th>\n",
       "      <th>tokens</th>\n",
       "    </tr>\n",
       "  </thead>\n",
       "  <tbody>\n",
       "    <tr>\n",
       "      <th>0</th>\n",
       "      <td>01 01 2023_Goldman Sachs_Caution Heavy Fog</td>\n",
       "      <td>01 01 2023</td>\n",
       "      <td>Caution Heavy Fog</td>\n",
       "      <td>Goldman Sachs</td>\n",
       "      <td>Outlook Caution: Heavy Fog Investment Strategy...</td>\n",
       "      <td>caution heavi fog invest strategi januari weal...</td>\n",
       "      <td>['caution', 'heavy', 'fog', 'investment', 'str...</td>\n",
       "    </tr>\n",
       "    <tr>\n",
       "      <th>1</th>\n",
       "      <td>01 07 2022_Unicredit_Economics chartbook Q2</td>\n",
       "      <td>01 07 2022</td>\n",
       "      <td>Economics chartbook Q2</td>\n",
       "      <td>Unicredit</td>\n",
       "      <td>3Q          2022      Editor: Chiara Silvestr...</td>\n",
       "      <td>editor chiara silvestr economist unicredit mil...</td>\n",
       "      <td>['editor', 'chiara', 'silvestre', 'economist',...</td>\n",
       "    </tr>\n",
       "    <tr>\n",
       "      <th>2</th>\n",
       "      <td>01 11 2022_bnp_parisbas global view 2023</td>\n",
       "      <td>01 11 2022</td>\n",
       "      <td>parisbas global view 2023</td>\n",
       "      <td>bnp</td>\n",
       "      <td>TABLE OF CONTENTS Letter to investors 4 Execut...</td>\n",
       "      <td>tabl content letter investor execut summari ma...</td>\n",
       "      <td>['table', 'contents', 'letter', 'investors', '...</td>\n",
       "    </tr>\n",
       "    <tr>\n",
       "      <th>3</th>\n",
       "      <td>01 12 2020_UBS_alternative-investments-improvi...</td>\n",
       "      <td>01 12 2020</td>\n",
       "      <td>alternative-investments-improving-portfolio-pe...</td>\n",
       "      <td>UBS</td>\n",
       "      <td>7 Still we can compare the total size of the a...</td>\n",
       "      <td>compar total size altern marketplac ad base ma...</td>\n",
       "      <td>['compare', 'total', 'size', 'alternative', 'm...</td>\n",
       "    </tr>\n",
       "    <tr>\n",
       "      <th>4</th>\n",
       "      <td>01 12 2022_Goldman Sachs_global view 2023</td>\n",
       "      <td>01 12 2022</td>\n",
       "      <td>global view 2023</td>\n",
       "      <td>Goldman Sachs</td>\n",
       "      <td>1 Goldman Sachs Asset Management Strategic Adv...</td>\n",
       "      <td>asset manag strateg advisori solut market puls...</td>\n",
       "      <td>['asset', 'management', 'strategic', 'advisory...</td>\n",
       "    </tr>\n",
       "  </tbody>\n",
       "</table>\n",
       "</div>"
      ],
      "text/plain": [
       "                                           file_name        date  \\\n",
       "0         01 01 2023_Goldman Sachs_Caution Heavy Fog  01 01 2023   \n",
       "1        01 07 2022_Unicredit_Economics chartbook Q2  01 07 2022   \n",
       "2           01 11 2022_bnp_parisbas global view 2023  01 11 2022   \n",
       "3  01 12 2020_UBS_alternative-investments-improvi...  01 12 2020   \n",
       "4          01 12 2022_Goldman Sachs_global view 2023  01 12 2022   \n",
       "\n",
       "                                               title           bank  \\\n",
       "0                                  Caution Heavy Fog  Goldman Sachs   \n",
       "1                             Economics chartbook Q2      Unicredit   \n",
       "2                          parisbas global view 2023            bnp   \n",
       "3  alternative-investments-improving-portfolio-pe...            UBS   \n",
       "4                                   global view 2023  Goldman Sachs   \n",
       "\n",
       "                                                text  \\\n",
       "0  Outlook Caution: Heavy Fog Investment Strategy...   \n",
       "1   3Q          2022      Editor: Chiara Silvestr...   \n",
       "2  TABLE OF CONTENTS Letter to investors 4 Execut...   \n",
       "3  7 Still we can compare the total size of the a...   \n",
       "4  1 Goldman Sachs Asset Management Strategic Adv...   \n",
       "\n",
       "                                          clean_text  \\\n",
       "0  caution heavi fog invest strategi januari weal...   \n",
       "1  editor chiara silvestr economist unicredit mil...   \n",
       "2  tabl content letter investor execut summari ma...   \n",
       "3  compar total size altern marketplac ad base ma...   \n",
       "4  asset manag strateg advisori solut market puls...   \n",
       "\n",
       "                                              tokens  \n",
       "0  ['caution', 'heavy', 'fog', 'investment', 'str...  \n",
       "1  ['editor', 'chiara', 'silvestre', 'economist',...  \n",
       "2  ['table', 'contents', 'letter', 'investors', '...  \n",
       "3  ['compare', 'total', 'size', 'alternative', 'm...  \n",
       "4  ['asset', 'management', 'strategic', 'advisory...  "
      ]
     },
     "execution_count": 71,
     "metadata": {},
     "output_type": "execute_result"
    }
   ],
   "source": [
    "df.head()"
   ]
  },
  {
   "cell_type": "code",
   "execution_count": 59,
   "metadata": {},
   "outputs": [],
   "source": [
    "conn.close()"
   ]
  },
  {
   "cell_type": "code",
   "execution_count": 6,
   "metadata": {},
   "outputs": [],
   "source": [
    "conn = sqlite3.connect('financial_reports.db') \n",
    "cursor = conn.cursor()\n",
    "report_name_to_delete = '08 07 2022_Erste_Week Ahead'\n",
    "delete_query = f\"DELETE FROM pdfs WHERE file_name = ?\"\n",
    "cursor.execute(delete_query, (report_name_to_delete,))\n",
    "conn.commit()\n",
    "conn.close()\n"
   ]
  },
  {
   "cell_type": "code",
   "execution_count": 21,
   "metadata": {},
   "outputs": [
    {
     "name": "stdout",
     "output_type": "stream",
     "text": [
      "pdfs\n"
     ]
    }
   ],
   "source": [
    "conn = sqlite3.connect('financial_reports.db')\n",
    "cursor = conn.cursor()\n",
    "cursor.execute(\"SELECT name FROM sqlite_master WHERE type='table';\")\n",
    "table_names = cursor.fetchall()\n",
    "conn.close()\n",
    "for table in table_names:\n",
    "    print(table[0])"
   ]
  },
  {
   "cell_type": "code",
   "execution_count": 27,
   "metadata": {},
   "outputs": [],
   "source": [
    "conn = sqlite3.connect('financial_reports.db')\n",
    "cursor = conn.cursor()\n",
    "table_name_to_delete = 'reports'\n",
    "cursor.execute(f\"DROP TABLE IF EXISTS {table_name_to_delete};\")\n",
    "conn.commit()\n",
    "conn.close()"
   ]
  },
  {
   "cell_type": "code",
   "execution_count": 28,
   "metadata": {},
   "outputs": [
    {
     "name": "stdout",
     "output_type": "stream",
     "text": [
      "The primary key column(s) of pdfs is/are: file_name\n"
     ]
    }
   ],
   "source": [
    "conn = sqlite3.connect('financial_reports.db')\n",
    "cursor = conn.cursor()\n",
    "table_name = 'pdfs'\n",
    "cursor.execute(f\"PRAGMA table_info({table_name})\")\n",
    "columns = cursor.fetchall()\n",
    "\n",
    "primary_key_columns = []\n",
    "for column in columns:\n",
    "    if column[5] == 1:  \n",
    "        primary_key_columns.append(column[1]) \n",
    "\n",
    "cursor.close()\n",
    "conn.close()\n",
    "if primary_key_columns:\n",
    "    print(f\"The primary key column(s) of {table_name} is/are: {', '.join(primary_key_columns)}\")\n",
    "else:\n",
    "    print(f\"{table_name} does not have a primary key.\")\n"
   ]
  },
  {
   "cell_type": "code",
   "execution_count": null,
   "metadata": {},
   "outputs": [],
   "source": []
  }
 ],
 "metadata": {
  "kernelspec": {
   "display_name": "venv",
   "language": "python",
   "name": "python3"
  },
  "language_info": {
   "codemirror_mode": {
    "name": "ipython",
    "version": 3
   },
   "file_extension": ".py",
   "mimetype": "text/x-python",
   "name": "python",
   "nbconvert_exporter": "python",
   "pygments_lexer": "ipython3",
   "version": "3.10.9"
  },
  "orig_nbformat": 4
 },
 "nbformat": 4,
 "nbformat_minor": 2
}
