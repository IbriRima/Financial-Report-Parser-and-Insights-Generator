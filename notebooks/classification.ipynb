{
 "cells": [
  {
   "cell_type": "code",
   "execution_count": 1,
   "metadata": {},
   "outputs": [],
   "source": [
    "import pandas as pd\n",
    "import pyLDAvis.gensim_models\n",
    "import nltk\n",
    "from nltk.corpus import stopwords\n",
    "from nltk.tokenize import word_tokenize\n",
    "from gensim.corpora import Dictionary\n",
    "import gensim\n",
    "from gensim.utils import simple_preprocess\n",
    "from gensim.parsing.preprocessing import STOPWORDS\n",
    "from gensim.models import CoherenceModel\n",
    "import joblib\n",
    "from xgboost import XGBClassifier\n",
    "from sklearn.model_selection import GridSearchCV\n",
    "from sklearn.metrics import accuracy_score,confusion_matrix\n",
    "from sklearn.model_selection import train_test_split\n",
    "from sklearn.linear_model import LogisticRegression\n",
    "from sklearn.metrics import accuracy_score"
   ]
  },
  {
   "cell_type": "code",
   "execution_count": 2,
   "metadata": {},
   "outputs": [],
   "source": [
    "data_=pd.read_csv('../data/data.csv')"
   ]
  },
  {
   "cell_type": "code",
   "execution_count": 5,
   "metadata": {},
   "outputs": [
    {
     "data": {
      "text/plain": [
       "array(['01 01 2023_Goldman Sachs_Caution Heavy Fog',\n",
       "       '01 07 2022_Unicredit_Economics chartbook Q2',\n",
       "       '01 11 2022_bnp_parisbas global view 2023',\n",
       "       '01 12 2020_UBS_alternative-investments-improving-portfolio-performance',\n",
       "       '01 12 2022_Goldman Sachs_global view 2023',\n",
       "       '01 12 2023_kkr_global view 2023',\n",
       "       '07 08 2022_Moodys_Weekly-Market-Outlook',\n",
       "       '08 07 2022_CACIB_-Monde-Hebdo', '08 07 2022_Erste_Week Ahead',\n",
       "       '08 07 2022_ScotiaBank_global week ahead',\n",
       "       '11 07 2022_Commerz_European Sunrise',\n",
       "       '11 07 2022_ING_FX Talking July22 (v3)',\n",
       "       '12 31 2022_jpmorgan_asset management Q1 2023',\n",
       "       '16 11 2022_Goldman Sachs_global outlook',\n",
       "       '2022_jpmorgan_private banking global view 2023',\n",
       "       '29 07 2022_Goldman Sachs_exemple analyse macro economique goldman sachs',\n",
       "       '29 07 2022_Goldman Sachs_recession'], dtype=object)"
      ]
     },
     "execution_count": 5,
     "metadata": {},
     "output_type": "execute_result"
    }
   ],
   "source": [
    "data_['file_name'].unique()"
   ]
  },
  {
   "cell_type": "code",
   "execution_count": 3,
   "metadata": {},
   "outputs": [],
   "source": [
    "data=data_.drop(['file_name','subjectivity_score'],axis=1)"
   ]
  },
  {
   "cell_type": "code",
   "execution_count": 4,
   "metadata": {},
   "outputs": [
    {
     "data": {
      "text/plain": [
       "date\n",
       "01 01 2023    110\n",
       "01 12 2023     74\n",
       "12 31 2022     71\n",
       "2022           55\n",
       "01 07 2022     53\n",
       "01 12 2020     34\n",
       "01 11 2022     32\n",
       "08 07 2022     29\n",
       "11 07 2022     25\n",
       "16 11 2022     24\n",
       "07 08 2022     22\n",
       "29 07 2022     14\n",
       "01 12 2022      4\n",
       "Name: count, dtype: int64"
      ]
     },
     "execution_count": 4,
     "metadata": {},
     "output_type": "execute_result"
    }
   ],
   "source": [
    "data.date.value_counts()"
   ]
  },
  {
   "cell_type": "code",
   "execution_count": 28,
   "metadata": {},
   "outputs": [
    {
     "data": {
      "text/plain": [
       "bank\n",
       "Goldman Sachs    152\n",
       "jpmorgan         126\n",
       "kkr               74\n",
       "Unicredit         53\n",
       "UBS               34\n",
       "bnp               32\n",
       "Moodys            22\n",
       "ING               16\n",
       "ScotiaBank        13\n",
       "CACIB             10\n",
       "Commerz            9\n",
       "Erste              6\n",
       "Name: count, dtype: int64"
      ]
     },
     "execution_count": 28,
     "metadata": {},
     "output_type": "execute_result"
    }
   ],
   "source": [
    "data.bank.value_counts()"
   ]
  },
  {
   "cell_type": "code",
   "execution_count": 37,
   "metadata": {},
   "outputs": [
    {
     "data": {
      "text/plain": [
       "title\n",
       "Caution Heavy Fog                                          110\n",
       "global view 2023                                            78\n",
       "asset management Q1 2023                                    71\n",
       "private banking global view 2023                            55\n",
       "Economics chartbook Q2                                      53\n",
       "alternative-investments-improving-portfolio-performance     34\n",
       "parisbas global view 2023                                   32\n",
       "global outlook                                              24\n",
       "Weekly-Market-Outlook                                       22\n",
       "FX Talking July22 (v3)                                      16\n",
       "global week ahead                                           13\n",
       "-Monde-Hebdo                                                10\n",
       "European Sunrise                                             9\n",
       "exemple analyse macro economique goldman sachs               7\n",
       "recession                                                    7\n",
       "Week Ahead                                                   6\n",
       "Name: count, dtype: int64"
      ]
     },
     "execution_count": 37,
     "metadata": {},
     "output_type": "execute_result"
    }
   ],
   "source": [
    "data.title.value_counts()"
   ]
  },
  {
   "cell_type": "code",
   "execution_count": 4,
   "metadata": {},
   "outputs": [
    {
     "name": "stdout",
     "output_type": "stream",
     "text": [
      "<class 'pandas.core.frame.DataFrame'>\n",
      "RangeIndex: 547 entries, 0 to 546\n",
      "Data columns (total 7 columns):\n",
      " #   Column      Non-Null Count  Dtype \n",
      "---  ------      --------------  ----- \n",
      " 0   page_num    547 non-null    int64 \n",
      " 1   text        544 non-null    object\n",
      " 2   clean_text  542 non-null    object\n",
      " 3   tokens      547 non-null    object\n",
      " 4   date        547 non-null    object\n",
      " 5   bank        547 non-null    object\n",
      " 6   title       547 non-null    object\n",
      "dtypes: int64(1), object(6)\n",
      "memory usage: 30.0+ KB\n"
     ]
    }
   ],
   "source": [
    "data.info()"
   ]
  },
  {
   "cell_type": "code",
   "execution_count": 5,
   "metadata": {},
   "outputs": [
    {
     "data": {
      "text/html": [
       "<div>\n",
       "<style scoped>\n",
       "    .dataframe tbody tr th:only-of-type {\n",
       "        vertical-align: middle;\n",
       "    }\n",
       "\n",
       "    .dataframe tbody tr th {\n",
       "        vertical-align: top;\n",
       "    }\n",
       "\n",
       "    .dataframe thead th {\n",
       "        text-align: right;\n",
       "    }\n",
       "</style>\n",
       "<table border=\"1\" class=\"dataframe\">\n",
       "  <thead>\n",
       "    <tr style=\"text-align: right;\">\n",
       "      <th></th>\n",
       "      <th>page_num</th>\n",
       "      <th>text</th>\n",
       "      <th>clean_text</th>\n",
       "      <th>tokens</th>\n",
       "      <th>date</th>\n",
       "      <th>bank</th>\n",
       "      <th>title</th>\n",
       "    </tr>\n",
       "  </thead>\n",
       "  <tbody>\n",
       "    <tr>\n",
       "      <th>0</th>\n",
       "      <td>1</td>\n",
       "      <td>Outlook Caution: Heavy Fog Investment Strategy...</td>\n",
       "      <td>caution heavi fog invest strategi januari weal...</td>\n",
       "      <td>['caution', 'heavy', 'fog', 'investment', 'str...</td>\n",
       "      <td>01 01 2023</td>\n",
       "      <td>Goldman Sachs</td>\n",
       "      <td>Caution Heavy Fog</td>\n",
       "    </tr>\n",
       "    <tr>\n",
       "      <th>1</th>\n",
       "      <td>2</td>\n",
       "      <td>This material represents the views of the Inve...</td>\n",
       "      <td>materi repres view invest strategi wealth mana...</td>\n",
       "      <td>['material', 'represents', 'views', 'investmen...</td>\n",
       "      <td>01 01 2023</td>\n",
       "      <td>Goldman Sachs</td>\n",
       "      <td>Caution Heavy Fog</td>\n",
       "    </tr>\n",
       "  </tbody>\n",
       "</table>\n",
       "</div>"
      ],
      "text/plain": [
       "   page_num                                               text  \\\n",
       "0         1  Outlook Caution: Heavy Fog Investment Strategy...   \n",
       "1         2  This material represents the views of the Inve...   \n",
       "\n",
       "                                          clean_text  \\\n",
       "0  caution heavi fog invest strategi januari weal...   \n",
       "1  materi repres view invest strategi wealth mana...   \n",
       "\n",
       "                                              tokens        date  \\\n",
       "0  ['caution', 'heavy', 'fog', 'investment', 'str...  01 01 2023   \n",
       "1  ['material', 'represents', 'views', 'investmen...  01 01 2023   \n",
       "\n",
       "            bank              title  \n",
       "0  Goldman Sachs  Caution Heavy Fog  \n",
       "1  Goldman Sachs  Caution Heavy Fog  "
      ]
     },
     "execution_count": 5,
     "metadata": {},
     "output_type": "execute_result"
    }
   ],
   "source": [
    "data.head(2)"
   ]
  },
  {
   "cell_type": "code",
   "execution_count": 6,
   "metadata": {},
   "outputs": [
    {
     "ename": "AttributeError",
     "evalue": "'DataFrame' object has no attribute 'file_name'",
     "output_type": "error",
     "traceback": [
      "\u001b[1;31m---------------------------------------------------------------------------\u001b[0m",
      "\u001b[1;31mAttributeError\u001b[0m                            Traceback (most recent call last)",
      "\u001b[1;32m~\\AppData\\Local\\Temp\\ipykernel_1932\\1141334704.py\u001b[0m in \u001b[0;36m?\u001b[1;34m()\u001b[0m\n\u001b[1;32m----> 1\u001b[1;33m \u001b[0mdata\u001b[0m\u001b[1;33m.\u001b[0m\u001b[0mfile_name\u001b[0m\u001b[1;33m.\u001b[0m\u001b[0mvalue_counts\u001b[0m\u001b[1;33m(\u001b[0m\u001b[1;33m)\u001b[0m\u001b[1;33m\u001b[0m\u001b[1;33m\u001b[0m\u001b[0m\n\u001b[0m",
      "\u001b[1;32mc:\\Users\\rimai\\Desktop\\financial_nlp_nlu\\venv\\lib\\site-packages\\pandas\\core\\generic.py\u001b[0m in \u001b[0;36m?\u001b[1;34m(self, name)\u001b[0m\n\u001b[0;32m   5985\u001b[0m             \u001b[1;32mand\u001b[0m \u001b[0mname\u001b[0m \u001b[1;32mnot\u001b[0m \u001b[1;32min\u001b[0m \u001b[0mself\u001b[0m\u001b[1;33m.\u001b[0m\u001b[0m_accessors\u001b[0m\u001b[1;33m\u001b[0m\u001b[1;33m\u001b[0m\u001b[0m\n\u001b[0;32m   5986\u001b[0m             \u001b[1;32mand\u001b[0m \u001b[0mself\u001b[0m\u001b[1;33m.\u001b[0m\u001b[0m_info_axis\u001b[0m\u001b[1;33m.\u001b[0m\u001b[0m_can_hold_identifiers_and_holds_name\u001b[0m\u001b[1;33m(\u001b[0m\u001b[0mname\u001b[0m\u001b[1;33m)\u001b[0m\u001b[1;33m\u001b[0m\u001b[1;33m\u001b[0m\u001b[0m\n\u001b[0;32m   5987\u001b[0m         ):\n\u001b[0;32m   5988\u001b[0m             \u001b[1;32mreturn\u001b[0m \u001b[0mself\u001b[0m\u001b[1;33m[\u001b[0m\u001b[0mname\u001b[0m\u001b[1;33m]\u001b[0m\u001b[1;33m\u001b[0m\u001b[1;33m\u001b[0m\u001b[0m\n\u001b[1;32m-> 5989\u001b[1;33m         \u001b[1;32mreturn\u001b[0m \u001b[0mobject\u001b[0m\u001b[1;33m.\u001b[0m\u001b[0m__getattribute__\u001b[0m\u001b[1;33m(\u001b[0m\u001b[0mself\u001b[0m\u001b[1;33m,\u001b[0m \u001b[0mname\u001b[0m\u001b[1;33m)\u001b[0m\u001b[1;33m\u001b[0m\u001b[1;33m\u001b[0m\u001b[0m\n\u001b[0m",
      "\u001b[1;31mAttributeError\u001b[0m: 'DataFrame' object has no attribute 'file_name'"
     ]
    }
   ],
   "source": [
    "data.file_name.value_counts()"
   ]
  },
  {
   "cell_type": "code",
   "execution_count": 7,
   "metadata": {},
   "outputs": [
    {
     "data": {
      "text/plain": [
       "page_num      0\n",
       "text          3\n",
       "clean_text    5\n",
       "tokens        0\n",
       "date          0\n",
       "bank          0\n",
       "title         0\n",
       "dtype: int64"
      ]
     },
     "execution_count": 7,
     "metadata": {},
     "output_type": "execute_result"
    }
   ],
   "source": [
    "data.isna().sum()"
   ]
  },
  {
   "cell_type": "code",
   "execution_count": 8,
   "metadata": {},
   "outputs": [],
   "source": [
    "def topic_modeling(n_topics,text):\n",
    "    processed_docs = text.tolist()\n",
    "    tokenized_docs = [word_tokenize(str(doc).lower()) for doc in processed_docs]\n",
    "    stop_words = set(stopwords.words('english'))\n",
    "    filtered_docs = [[word for word in doc if word.lower() not in stop_words] for doc in tokenized_docs]\n",
    "    dictionary = Dictionary(filtered_docs)\n",
    "    dictionary.filter_extremes(no_below=15, no_above=0.1, keep_n=3000)\n",
    "    bow_corpus = [dictionary.doc2bow(doc) for doc in filtered_docs]\n",
    "    lda_model = gensim.models.LdaMulticore(bow_corpus, num_topics =n_topics, id2word = dictionary, passes =10)\n",
    "    return lda_model,bow_corpus,dictionary "
   ]
  },
  {
   "cell_type": "code",
   "execution_count": 27,
   "metadata": {},
   "outputs": [],
   "source": [
    "lda_model,bow_corpus,dictionary =topic_modeling(2,data['clean_text'])"
   ]
  },
  {
   "cell_type": "code",
   "execution_count": null,
   "metadata": {},
   "outputs": [
    {
     "name": "stdout",
     "output_type": "stream",
     "text": [
      "Perplexity: -6.186660019034764\n"
     ]
    }
   ],
   "source": [
    "from gensim.models import CoherenceModel\n",
    "\n",
    "def calculate_perplexity(lda_model, corpus):\n",
    "    perplexity = lda_model.log_perplexity(corpus)\n",
    "    return perplexity\n",
    "\n",
    "# Assuming you have lda_model and bow_corpus from your topic_modeling function\n",
    "perplexity = calculate_perplexity(lda_model, bow_corpus)\n",
    "print(f\"Perplexity: {perplexity}\")\n"
   ]
  },
  {
   "cell_type": "code",
   "execution_count": null,
   "metadata": {},
   "outputs": [],
   "source": [
    "pyLDAvis.enable_notebook()\n",
    "vis=pyLDAvis.gensim_models.prepare(lda_model, bow_corpus, dictionary)"
   ]
  },
  {
   "cell_type": "code",
   "execution_count": 14,
   "metadata": {},
   "outputs": [
    {
     "data": {
      "text/html": [
       "\n",
       "<link rel=\"stylesheet\" type=\"text/css\" href=\"https://cdn.jsdelivr.net/gh/bmabey/pyLDAvis@3.4.0/pyLDAvis/js/ldavis.v1.0.0.css\">\n",
       "\n",
       "\n",
       "<div id=\"ldavis_el732824231397813125493178818\" style=\"background-color:white;\"></div>\n",
       "<script type=\"text/javascript\">\n",
       "\n",
       "var ldavis_el732824231397813125493178818_data = {\"mdsDat\": {\"x\": [0.1796147514342761, -0.1796147514342761], \"y\": [0.0, 0.0], \"topics\": [1, 2], \"cluster\": [1, 1], \"Freq\": [66.5605865448457, 33.4394134551543]}, \"tinfo\": {\"Term\": [\"document\", \"regul\", \"author\", \"moodi\", \"distribut\", \"hedg\", \"correl\", \"altern\", \"law\", \"report\", \"opinion\", \"instrument\", \"regist\", \"advic\", \"refer\", \"issuer\", \"contain\", \"eur\", \"offic\", \"affili\", \"issu\", \"leverag\", \"sell\", \"transact\", \"constitut\", \"municip\", \"disclosur\", \"intend\", \"singapor\", \"statement\", \"eur\", \"apr\", \"oil\", \"bp\", \"export\", \"sep\", \"mar\", \"food\", \"spend\", \"unemploy\", \"probabl\", \"manufactur\", \"headlin\", \"job\", \"nomin\", \"aug\", \"recoveri\", \"consensus\", \"feb\", \"economist\", \"stay\", \"survey\", \"moder\", \"war\", \"weak\", \"chain\", \"geopolit\", \"fwd\", \"resili\", \"elev\", \"eurozon\", \"attract\", \"percent\", \"em\", \"gain\", \"consumpt\", \"cap\", \"unicredit\", \"pre\", \"ing\", \"median\", \"ecb\", \"yr\", \"weight\", \"document\", \"author\", \"regul\", \"instrument\", \"law\", \"advic\", \"opinion\", \"contain\", \"regist\", \"affili\", \"issuer\", \"distribut\", \"constitut\", \"transact\", \"express\", \"legal\", \"jurisdict\", \"request\", \"specif\", \"applic\", \"intend\", \"relev\", \"solicit\", \"present\", \"recipi\", \"deriv\", \"advis\", \"accuraci\", \"content\", \"hong\", \"kong\", \"municip\", \"moodi\", \"singapor\", \"altern\", \"correl\", \"disclosur\", \"hedg\", \"statement\", \"offic\", \"report\", \"sell\", \"leverag\", \"refer\", \"issu\", \"institut\", \"index\"], \"Freq\": [154.0, 149.0, 134.0, 105.0, 90.0, 115.0, 104.0, 95.0, 82.0, 125.0, 80.0, 79.0, 75.0, 71.0, 108.0, 62.0, 61.0, 175.0, 73.0, 59.0, 82.0, 76.0, 70.0, 56.0, 55.0, 55.0, 59.0, 53.0, 56.0, 56.0, 175.3248760235949, 142.15330267942446, 129.43620327164123, 117.71995718732765, 91.34051270571308, 98.13711215349329, 103.94441926189998, 79.62024393979881, 80.58938906712172, 77.67297025964554, 85.43374563983012, 75.71280033553705, 73.75147262281662, 72.77639488523386, 81.50836053758876, 75.67581025703646, 69.84369942909599, 68.86858366196027, 65.92426806464391, 67.85894973726556, 66.88896373427193, 74.63140886993564, 62.02579520937198, 62.994078333494734, 66.86241065530255, 61.04528769672943, 62.981625767657256, 55.20193279763406, 61.01229917230012, 61.008530021052394, 104.08074253270037, 73.29966463177267, 80.53629981120652, 122.60384759307829, 66.59991800433887, 74.69604220792345, 126.20533076735697, 176.45558759386378, 75.34128540728366, 110.14489279070504, 78.77281028393254, 79.58110730430958, 73.05760230175376, 70.86982127774654, 154.08742524468934, 133.38001590006064, 148.7961850185869, 78.70396313307086, 81.61318233064227, 70.91332925511549, 79.61308829446214, 61.10763946271679, 74.68140017465863, 59.14917460257829, 62.014072844647565, 89.12916554373717, 55.19547704298252, 56.15473978110768, 45.48177902593251, 44.48100599161571, 38.64426859099204, 38.64360201469031, 47.331023023891426, 44.43275775535492, 53.12390225128613, 40.56568114931359, 35.709052917652855, 50.172378809953486, 32.7738945613842, 38.554276544548564, 33.71608742676328, 31.787272474925306, 38.52274366433834, 46.224833282594766, 46.223512867118075, 54.77343234696844, 100.76460728440513, 54.763314822592385, 89.79474834958539, 96.34422139941458, 56.756636953031936, 101.99790930530509, 53.92442217829244, 67.18322771051781, 101.71835484663248, 63.4660118925174, 66.94210965477276, 87.21323844135095, 70.51409675317298, 54.87032791612928, 60.38696433781542], \"Total\": [154.0, 149.0, 134.0, 105.0, 90.0, 115.0, 104.0, 95.0, 82.0, 125.0, 80.0, 79.0, 75.0, 71.0, 108.0, 62.0, 61.0, 175.0, 73.0, 59.0, 82.0, 76.0, 70.0, 56.0, 55.0, 55.0, 59.0, 53.0, 56.0, 56.0, 175.89302962774136, 142.66860244821098, 129.9650328543373, 118.23873939935379, 91.8545213809502, 98.69470721024878, 104.55780280129444, 80.12820835083254, 81.10536828201518, 78.17387465378438, 85.9911751139374, 76.21945534340162, 74.26502475166556, 73.28783775915507, 82.08241508009269, 76.2192828917909, 70.35625846009093, 69.37905970835148, 66.44742408659738, 68.40178823558804, 67.4245659524398, 75.24197637654423, 62.53870102854539, 63.51585187964804, 67.42450888342928, 61.56148360862624, 63.515798740887554, 55.698422914932344, 61.56136363790029, 61.561363548414434, 105.5355045789723, 74.26494758614051, 82.08291604532218, 128.0157105326872, 67.42450386999542, 76.21974846398379, 135.83832741052575, 211.11227999086697, 78.17566575893339, 127.05226951897865, 84.04180724095984, 95.7812179179045, 81.11369700759437, 85.02963736017406, 154.5805424414817, 134.03355330530468, 149.68684830660192, 79.24549125751876, 82.18036459069468, 71.41899016322769, 80.22328963762799, 61.63501362798575, 75.33132378201968, 59.67823748467108, 62.612759684281976, 90.00633718760865, 55.764370434846995, 56.74262602963431, 45.98147559947897, 45.00280783702487, 39.13307616792483, 39.13306715296439, 47.93720960828009, 45.00232069183128, 53.80707821310006, 41.08929028980542, 36.19796164263271, 50.871946037276174, 33.26285577506996, 39.132014118296944, 34.24071283443176, 32.28435286611836, 39.13180365875104, 46.958298574488104, 46.95830140258811, 55.763135946906715, 105.65476200262745, 56.74000106077434, 95.86964670999195, 104.67216953226334, 59.67399910469651, 115.42815156648396, 56.73892917850368, 73.3670199984729, 125.19973611832702, 70.43096975576242, 76.29831985500186, 108.57001634024937, 82.16572534514582, 60.64871671864855, 88.99388635845592], \"Category\": [\"Default\", \"Default\", \"Default\", \"Default\", \"Default\", \"Default\", \"Default\", \"Default\", \"Default\", \"Default\", \"Default\", \"Default\", \"Default\", \"Default\", \"Default\", \"Default\", \"Default\", \"Default\", \"Default\", \"Default\", \"Default\", \"Default\", \"Default\", \"Default\", \"Default\", \"Default\", \"Default\", \"Default\", \"Default\", \"Default\", \"Topic1\", \"Topic1\", \"Topic1\", \"Topic1\", \"Topic1\", \"Topic1\", \"Topic1\", \"Topic1\", \"Topic1\", \"Topic1\", \"Topic1\", \"Topic1\", \"Topic1\", \"Topic1\", \"Topic1\", \"Topic1\", \"Topic1\", \"Topic1\", \"Topic1\", \"Topic1\", \"Topic1\", \"Topic1\", \"Topic1\", \"Topic1\", \"Topic1\", \"Topic1\", \"Topic1\", \"Topic1\", \"Topic1\", \"Topic1\", \"Topic1\", \"Topic1\", \"Topic1\", \"Topic1\", \"Topic1\", \"Topic1\", \"Topic1\", \"Topic1\", \"Topic1\", \"Topic1\", \"Topic1\", \"Topic1\", \"Topic1\", \"Topic1\", \"Topic2\", \"Topic2\", \"Topic2\", \"Topic2\", \"Topic2\", \"Topic2\", \"Topic2\", \"Topic2\", \"Topic2\", \"Topic2\", \"Topic2\", \"Topic2\", \"Topic2\", \"Topic2\", \"Topic2\", \"Topic2\", \"Topic2\", \"Topic2\", \"Topic2\", \"Topic2\", \"Topic2\", \"Topic2\", \"Topic2\", \"Topic2\", \"Topic2\", \"Topic2\", \"Topic2\", \"Topic2\", \"Topic2\", \"Topic2\", \"Topic2\", \"Topic2\", \"Topic2\", \"Topic2\", \"Topic2\", \"Topic2\", \"Topic2\", \"Topic2\", \"Topic2\", \"Topic2\", \"Topic2\", \"Topic2\", \"Topic2\", \"Topic2\", \"Topic2\", \"Topic2\", \"Topic2\"], \"logprob\": [30.0, 29.0, 28.0, 27.0, 26.0, 25.0, 24.0, 23.0, 22.0, 21.0, 20.0, 19.0, 18.0, 17.0, 16.0, 15.0, 14.0, 13.0, 12.0, 11.0, 10.0, 9.0, 8.0, 7.0, 6.0, 5.0, 4.0, 3.0, 2.0, 1.0, -4.6397, -4.8494, -4.9432, -5.038, -5.2917, -5.22, -5.1625, -5.4291, -5.417, -5.4538, -5.3586, -5.4794, -5.5056, -5.5189, -5.4056, -5.4799, -5.5601, -5.5741, -5.6178, -5.5889, -5.6033, -5.4938, -5.6788, -5.6633, -5.6037, -5.6947, -5.6635, -5.7953, -5.6953, -5.6953, -5.1612, -5.5118, -5.4176, -4.9974, -5.6076, -5.4929, -4.9684, -4.6333, -5.4843, -5.1045, -5.4398, -5.4296, -5.5151, -5.5455, -4.0804, -4.2248, -4.1154, -4.7523, -4.716, -4.8565, -4.7408, -5.0053, -4.8047, -5.0379, -4.9906, -4.6279, -5.1071, -5.0898, -5.3006, -5.3229, -5.4636, -5.4636, -5.2608, -5.324, -5.1453, -5.415, -5.5426, -5.2025, -5.6283, -5.4659, -5.6, -5.6589, -5.4667, -5.2844, -5.2845, -5.1148, -4.5052, -5.1149, -4.6204, -4.55, -5.0792, -4.493, -5.1304, -4.9105, -4.4958, -4.9675, -4.9141, -4.6496, -4.8621, -5.113, -5.0172], \"loglift\": [30.0, 29.0, 28.0, 27.0, 26.0, 25.0, 24.0, 23.0, 22.0, 21.0, 20.0, 19.0, 18.0, 17.0, 16.0, 15.0, 14.0, 13.0, 12.0, 11.0, 10.0, 9.0, 8.0, 7.0, 6.0, 5.0, 4.0, 3.0, 2.0, 1.0, 0.4038, 0.4034, 0.403, 0.4027, 0.4014, 0.4014, 0.4012, 0.4007, 0.4007, 0.4006, 0.4006, 0.4004, 0.4001, 0.4001, 0.4, 0.3999, 0.3997, 0.3997, 0.3992, 0.3991, 0.3991, 0.3989, 0.3988, 0.3988, 0.3987, 0.3986, 0.3986, 0.3981, 0.3981, 0.398, 0.3932, 0.394, 0.388, 0.3639, 0.3948, 0.3869, 0.3335, 0.2277, 0.3701, 0.2643, 0.3423, 0.2218, 0.3025, 0.2249, 1.0922, 1.0905, 1.0895, 1.0886, 1.0885, 1.0883, 1.0878, 1.0868, 1.0868, 1.0865, 1.0858, 1.0856, 1.0852, 1.085, 1.0845, 1.0838, 1.0829, 1.0828, 1.0827, 1.0827, 1.0827, 1.0826, 1.0818, 1.0816, 1.0806, 1.0806, 1.08, 1.0799, 1.0797, 1.0797, 1.0797, 1.0775, 1.048, 1.06, 1.03, 1.0125, 1.0453, 0.9717, 1.0446, 1.0074, 0.8877, 0.9913, 0.9646, 0.8764, 0.9425, 0.9953, 0.7076]}, \"token.table\": {\"Topic\": [2, 1, 2, 1, 2, 1, 2, 1, 2, 1, 2, 1, 2, 1, 2, 1, 2, 1, 2, 1, 2, 1, 2, 1, 2, 1, 2, 1, 2, 1, 2, 1, 2, 1, 2, 1, 2, 1, 2, 1, 2, 1, 2, 2, 1, 2, 1, 2, 1, 2, 1, 2, 1, 2, 1, 2, 1, 2, 2, 1, 2, 1, 2, 1, 1, 2, 1, 2, 1, 2, 1, 2, 1, 2, 1, 2, 1, 2, 1, 2, 1, 2, 1, 2, 1, 2, 1, 2, 1, 2, 2, 1, 2, 1, 2, 1, 2, 1, 2, 1, 2, 1, 2, 1, 2, 1, 2, 1, 2, 1, 2, 1, 2, 1, 2, 1, 2, 1, 2, 1, 2, 1, 2, 1, 2, 1, 2, 2, 1, 2, 1, 2, 1, 2, 1, 2, 1, 2, 1, 2, 2, 1, 2, 1, 2, 1, 2, 1, 2, 2, 1, 2, 1, 2, 1, 2, 1, 2, 1, 2, 1, 2, 1, 2, 1, 2, 1, 2, 1, 2, 1, 2, 1, 2], \"Freq\": [0.9911922389369996, 0.014001878179942138, 0.9941333507758918, 0.029204999464684637, 0.9929699817992776, 0.01675652703813278, 0.9886350952498338, 0.06258498081410635, 0.9387747122115951, 0.0222210762606631, 0.9777273554691766, 0.9953135978292513, 0.00700925068893839, 0.9829670978401582, 0.013465302710139154, 0.9971229998043643, 0.013120039471110055, 0.007460818394646132, 0.9922888464879356, 0.9979808698860748, 0.008457464999034532, 0.9275732586076925, 0.0736169252863248, 0.990879303491192, 0.016243923008052327, 0.9945363959969344, 0.01441357095647731, 0.01793259732338165, 0.9862928527859907, 0.9839969497595474, 0.0262399186602546, 0.016224544153356755, 0.9896971933547619, 0.025554661592409635, 0.9966318021039757, 0.0764291027476424, 0.9171492329717089, 0.025554524154493503, 0.9966264420252466, 0.0502731515401972, 0.9551898792637469, 0.011110328797355748, 0.9888192629646616, 0.996244401576599, 0.8352368213627142, 0.16704736427254283, 0.994126056555653, 0.01461950083170078, 0.99088123595617, 0.016243954687806064, 0.960819570411973, 0.039057706114307846, 0.9949228822220451, 0.005685273612697401, 0.9854503507127947, 0.00947548414146918, 0.9906970134065994, 0.010886780367105489, 0.9786549781910415, 0.9932664946347013, 0.01504949234295002, 0.998399959845961, 0.012479999498074512, 0.9874606339213762, 0.9937040119595997, 0.014831403163576114, 0.991879205628953, 0.015744114375062745, 0.9964313652011593, 0.013465288718934584, 0.11262417203754925, 0.8836665806023095, 0.021295490474675934, 0.979592561835093, 0.32586508114941437, 0.6742036161712022, 0.8657854001070683, 0.1338031981983651, 0.098930370247308, 0.90686172726699, 0.012619014459136444, 0.9969021422717791, 0.01858491546483073, 0.9850005196360287, 0.146046297888721, 0.864107262508266, 0.015971185506634608, 0.9902135014113457, 0.9960725030515842, 0.013644828808925813, 0.9965993941454083, 0.021295489192138556, 0.9795925028383736, 0.012168356820763369, 0.9978052593025962, 0.02222083572254966, 0.9777167717921851, 0.11795803652169137, 0.8781320496614802, 0.9971207437469491, 0.013120009786144068, 0.9946651250662324, 0.009564087741021465, 0.9400083433890913, 0.05949419894867666, 0.9913861174011352, 0.015990098667760248, 0.047323943618136764, 0.9559436610863626, 0.0179329943163907, 0.9863146874014884, 0.9989959471829347, 0.012182877404669936, 0.08178061477929575, 0.9132168650354693, 0.9925746731013496, 0.007694377310863175, 0.012465208102497948, 0.9972166481998358, 0.9868070470994933, 0.024365606101222057, 0.9593778226497484, 0.03837511290598993, 0.019657199653169446, 0.9828599826584723, 0.9884735251887871, 0.01162910029633867, 0.99209761853139, 0.9949363643279437, 0.01421337663325634, 0.19342356856784246, 0.8013262126382045, 0.013274690391657277, 0.9956017793742958, 0.00668061363648803, 0.9954114318367165, 0.024337241966140944, 0.9978269206117787, 0.18370645748216724, 0.8146982027470024, 0.9965996237288468, 0.9908812345158208, 0.01624395466419378, 0.09938809623485674, 0.8944928661137107, 0.9929610489773393, 0.010132255601809585, 0.03524850127968442, 0.9693337851913217, 0.9945311383942802, 0.020860621804471326, 0.9804492248101523, 0.9987008470062204, 0.012329640086496549, 0.052873750763992054, 0.9517275137518569, 0.9937030969878354, 0.014831389507281125, 0.9967840241817509, 0.01329045365575668, 0.017623435324930884, 0.9869123781961295, 0.9977757958837983, 0.01279199738312562, 0.8336795946101004, 0.1657885557463268, 0.9918783758009655, 0.01574410120318993, 0.9937039380714924, 0.014831402060768543, 0.8350029731310459, 0.16464847357513582, 0.899971308090732, 0.09862699266747749], \"Term\": [\"accuraci\", \"advic\", \"advic\", \"advis\", \"advis\", \"affili\", \"affili\", \"altern\", \"altern\", \"applic\", \"applic\", \"apr\", \"apr\", \"attract\", \"attract\", \"aug\", \"aug\", \"author\", \"author\", \"bp\", \"bp\", \"cap\", \"cap\", \"chain\", \"chain\", \"consensus\", \"consensus\", \"constitut\", \"constitut\", \"consumpt\", \"consumpt\", \"contain\", \"contain\", \"content\", \"content\", \"correl\", \"correl\", \"deriv\", \"deriv\", \"disclosur\", \"disclosur\", \"distribut\", \"distribut\", \"document\", \"ecb\", \"ecb\", \"economist\", \"economist\", \"elev\", \"elev\", \"em\", \"em\", \"eur\", \"eur\", \"eurozon\", \"eurozon\", \"export\", \"export\", \"express\", \"feb\", \"feb\", \"food\", \"food\", \"fwd\", \"gain\", \"gain\", \"geopolit\", \"geopolit\", \"headlin\", \"headlin\", \"hedg\", \"hedg\", \"hong\", \"hong\", \"index\", \"index\", \"ing\", \"ing\", \"institut\", \"institut\", \"instrument\", \"instrument\", \"intend\", \"intend\", \"issu\", \"issu\", \"issuer\", \"issuer\", \"job\", \"job\", \"jurisdict\", \"kong\", \"kong\", \"law\", \"law\", \"legal\", \"legal\", \"leverag\", \"leverag\", \"manufactur\", \"manufactur\", \"mar\", \"mar\", \"median\", \"median\", \"moder\", \"moder\", \"moodi\", \"moodi\", \"municip\", \"municip\", \"nomin\", \"nomin\", \"offic\", \"offic\", \"oil\", \"oil\", \"opinion\", \"opinion\", \"percent\", \"percent\", \"pre\", \"pre\", \"present\", \"present\", \"probabl\", \"probabl\", \"recipi\", \"recoveri\", \"recoveri\", \"refer\", \"refer\", \"regist\", \"regist\", \"regul\", \"regul\", \"relev\", \"relev\", \"report\", \"report\", \"request\", \"resili\", \"resili\", \"sell\", \"sell\", \"sep\", \"sep\", \"singapor\", \"singapor\", \"solicit\", \"specif\", \"specif\", \"spend\", \"spend\", \"statement\", \"statement\", \"stay\", \"stay\", \"survey\", \"survey\", \"transact\", \"transact\", \"unemploy\", \"unemploy\", \"unicredit\", \"unicredit\", \"war\", \"war\", \"weak\", \"weak\", \"weight\", \"weight\", \"yr\", \"yr\"]}, \"R\": 30, \"lambda.step\": 0.01, \"plot.opts\": {\"xlab\": \"PC1\", \"ylab\": \"PC2\"}, \"topic.order\": [1, 2]};\n",
       "\n",
       "function LDAvis_load_lib(url, callback){\n",
       "  var s = document.createElement('script');\n",
       "  s.src = url;\n",
       "  s.async = true;\n",
       "  s.onreadystatechange = s.onload = callback;\n",
       "  s.onerror = function(){console.warn(\"failed to load library \" + url);};\n",
       "  document.getElementsByTagName(\"head\")[0].appendChild(s);\n",
       "}\n",
       "\n",
       "if(typeof(LDAvis) !== \"undefined\"){\n",
       "   // already loaded: just create the visualization\n",
       "   !function(LDAvis){\n",
       "       new LDAvis(\"#\" + \"ldavis_el732824231397813125493178818\", ldavis_el732824231397813125493178818_data);\n",
       "   }(LDAvis);\n",
       "}else if(typeof define === \"function\" && define.amd){\n",
       "   // require.js is available: use it to load d3/LDAvis\n",
       "   require.config({paths: {d3: \"https://d3js.org/d3.v5\"}});\n",
       "   require([\"d3\"], function(d3){\n",
       "      window.d3 = d3;\n",
       "      LDAvis_load_lib(\"https://cdn.jsdelivr.net/gh/bmabey/pyLDAvis@3.4.0/pyLDAvis/js/ldavis.v3.0.0.js\", function(){\n",
       "        new LDAvis(\"#\" + \"ldavis_el732824231397813125493178818\", ldavis_el732824231397813125493178818_data);\n",
       "      });\n",
       "    });\n",
       "}else{\n",
       "    // require.js not available: dynamically load d3 & LDAvis\n",
       "    LDAvis_load_lib(\"https://d3js.org/d3.v5.js\", function(){\n",
       "         LDAvis_load_lib(\"https://cdn.jsdelivr.net/gh/bmabey/pyLDAvis@3.4.0/pyLDAvis/js/ldavis.v3.0.0.js\", function(){\n",
       "                 new LDAvis(\"#\" + \"ldavis_el732824231397813125493178818\", ldavis_el732824231397813125493178818_data);\n",
       "            })\n",
       "         });\n",
       "}\n",
       "</script>"
      ],
      "text/plain": [
       "PreparedData(topic_coordinates=              x    y  topics  cluster       Freq\n",
       "topic                                           \n",
       "0      0.179615  0.0       1        1  66.560587\n",
       "1     -0.179615  0.0       2        1  33.439413, topic_info=          Term        Freq       Total Category  logprob  loglift\n",
       "579   document  154.000000  154.000000  Default  30.0000  30.0000\n",
       "587      regul  149.000000  149.000000  Default  29.0000  29.0000\n",
       "3       author  134.000000  134.000000  Default  28.0000  28.0000\n",
       "284      moodi  105.000000  105.000000  Default  27.0000  27.0000\n",
       "366  distribut   90.000000   90.000000  Default  26.0000  26.0000\n",
       "..         ...         ...         ...      ...      ...      ...\n",
       "245    leverag   66.942110   76.298320   Topic2  -4.9141   0.9646\n",
       "178      refer   87.213238  108.570016   Topic2  -4.6496   0.8764\n",
       "105       issu   70.514097   82.165725   Topic2  -4.8621   0.9425\n",
       "104   institut   54.870328   60.648717   Topic2  -5.1130   0.9953\n",
       "332      index   60.386964   88.993886   Topic2  -5.0172   0.7076\n",
       "\n",
       "[121 rows x 6 columns], token_table=      Topic      Freq      Term\n",
       "term                           \n",
       "446       2  0.991192  accuraci\n",
       "573       1  0.014002     advic\n",
       "573       2  0.994133     advic\n",
       "281       1  0.029205     advis\n",
       "281       2  0.992970     advis\n",
       "...     ...       ...       ...\n",
       "485       2  0.014831      weak\n",
       "135       1  0.835003    weight\n",
       "135       2  0.164648    weight\n",
       "611       1  0.899971        yr\n",
       "611       2  0.098627        yr\n",
       "\n",
       "[174 rows x 3 columns], R=30, lambda_step=0.01, plot_opts={'xlab': 'PC1', 'ylab': 'PC2'}, topic_order=[1, 2])"
      ]
     },
     "execution_count": 14,
     "metadata": {},
     "output_type": "execute_result"
    }
   ],
   "source": [
    "vis"
   ]
  },
  {
   "cell_type": "code",
   "execution_count": 13,
   "metadata": {},
   "outputs": [],
   "source": [
    "vis_html = pyLDAvis.prepared_data_to_html(vis)\n",
    "with open('../pyldavis_visualization.html', 'w') as f:\n",
    "    f.write(vis_html)"
   ]
  },
  {
   "cell_type": "code",
   "execution_count": 15,
   "metadata": {},
   "outputs": [
    {
     "name": "stdout",
     "output_type": "stream",
     "text": [
      "Topic: 0 -> Words: 0.010*\"unicredit\" + 0.010*\"eur\" + 0.008*\"apr\" + 0.007*\"oil\" + 0.007*\"cap\" + 0.007*\"em\" + 0.006*\"bp\" + 0.006*\"ing\" + 0.006*\"eurozon\" + 0.006*\"mar\"\n",
      "Topic: 1 -> Words: 0.017*\"document\" + 0.016*\"regul\" + 0.015*\"author\" + 0.011*\"hedg\" + 0.011*\"report\" + 0.011*\"moodi\" + 0.011*\"correl\" + 0.010*\"altern\" + 0.010*\"distribut\" + 0.010*\"refer\"\n"
     ]
    }
   ],
   "source": [
    "topics = []\n",
    "for idx, topic in lda_model.print_topics(-1) :\n",
    "    print(\"Topic: {} -> Words: {}\".format(idx, topic))\n",
    "    topics.append(topic)"
   ]
  },
  {
   "cell_type": "code",
   "execution_count": 16,
   "metadata": {},
   "outputs": [],
   "source": [
    "all_topic_model = []\n",
    "for i in range(len(topics)):\n",
    "  str = topics[i].split(' + ')\n",
    "  topic_model = []\n",
    "  for j in range(10):\n",
    "    weight = str[j][0:5]\n",
    "    word = str[j][7:len(str[j])-1]\n",
    "    topic_model.append((weight, word))\n",
    "  all_topic_model.append(topic_model)"
   ]
  },
  {
   "cell_type": "code",
   "execution_count": 17,
   "metadata": {},
   "outputs": [
    {
     "data": {
      "text/html": [
       "<div>\n",
       "<style scoped>\n",
       "    .dataframe tbody tr th:only-of-type {\n",
       "        vertical-align: middle;\n",
       "    }\n",
       "\n",
       "    .dataframe tbody tr th {\n",
       "        vertical-align: top;\n",
       "    }\n",
       "\n",
       "    .dataframe thead th {\n",
       "        text-align: right;\n",
       "    }\n",
       "</style>\n",
       "<table border=\"1\" class=\"dataframe\">\n",
       "  <thead>\n",
       "    <tr style=\"text-align: right;\">\n",
       "      <th></th>\n",
       "      <th>0</th>\n",
       "      <th>1</th>\n",
       "      <th>2</th>\n",
       "      <th>3</th>\n",
       "      <th>4</th>\n",
       "      <th>5</th>\n",
       "      <th>6</th>\n",
       "      <th>7</th>\n",
       "      <th>8</th>\n",
       "      <th>9</th>\n",
       "    </tr>\n",
       "  </thead>\n",
       "  <tbody>\n",
       "    <tr>\n",
       "      <th>Topic 0</th>\n",
       "      <td>(0.010, unicredit)</td>\n",
       "      <td>(0.010, eur)</td>\n",
       "      <td>(0.008, apr)</td>\n",
       "      <td>(0.007, oil)</td>\n",
       "      <td>(0.007, cap)</td>\n",
       "      <td>(0.007, em)</td>\n",
       "      <td>(0.006, bp)</td>\n",
       "      <td>(0.006, ing)</td>\n",
       "      <td>(0.006, eurozon)</td>\n",
       "      <td>(0.006, mar)</td>\n",
       "    </tr>\n",
       "    <tr>\n",
       "      <th>Topic 1</th>\n",
       "      <td>(0.017, document)</td>\n",
       "      <td>(0.016, regul)</td>\n",
       "      <td>(0.015, author)</td>\n",
       "      <td>(0.011, hedg)</td>\n",
       "      <td>(0.011, report)</td>\n",
       "      <td>(0.011, moodi)</td>\n",
       "      <td>(0.011, correl)</td>\n",
       "      <td>(0.010, altern)</td>\n",
       "      <td>(0.010, distribut)</td>\n",
       "      <td>(0.010, refer)</td>\n",
       "    </tr>\n",
       "  </tbody>\n",
       "</table>\n",
       "</div>"
      ],
      "text/plain": [
       "                          0               1                2              3  \\\n",
       "Topic 0  (0.010, unicredit)    (0.010, eur)     (0.008, apr)   (0.007, oil)   \n",
       "Topic 1   (0.017, document)  (0.016, regul)  (0.015, author)  (0.011, hedg)   \n",
       "\n",
       "                       4               5                6                7  \\\n",
       "Topic 0     (0.007, cap)     (0.007, em)      (0.006, bp)     (0.006, ing)   \n",
       "Topic 1  (0.011, report)  (0.011, moodi)  (0.011, correl)  (0.010, altern)   \n",
       "\n",
       "                          8               9  \n",
       "Topic 0    (0.006, eurozon)    (0.006, mar)  \n",
       "Topic 1  (0.010, distribut)  (0.010, refer)  "
      ]
     },
     "execution_count": 17,
     "metadata": {},
     "output_type": "execute_result"
    }
   ],
   "source": [
    "df_topic_model = pd.DataFrame(all_topic_model)\n",
    "df_topic_model.rename(index = {0: \"Topic 0\", 1: \"Topic 1\", 2: \"Topic 2\", 3: \"Topic 3\", 4: \"Topic 4\", 5: \"Topic 5\", 6: \"Topic 6\", 7: \"Topic 7\", 8: \"Topic 8\", 9: \"Topic 9\",10: \"Topic 10\",11: \"Topic 11\",12: \"Topic 12\",13: \"Topic 13\",14: \"Topic 14\"})"
   ]
  },
  {
   "cell_type": "code",
   "execution_count": 18,
   "metadata": {},
   "outputs": [
    {
     "data": {
      "text/plain": [
       "'import gensim\\nfrom gensim.models import LdaMulticore\\nfrom gensim.models import CoherenceModel\\n\\n\\ncoherence_model = CoherenceModel(model=lda_model, texts=filtered_docs, dictionary=dictionary, coherence=\\'c_v\\')\\ncoherence_scores = coherence_model.get_coherence_per_topic()\\nmost_different_topic_index = coherence_scores.index(max(coherence_scores))\\nmost_different_topic = lda_model.show_topic(most_different_topic_index)\\nprint(f\"The most different topic is Topic {most_different_topic_index}:\")\\nfor word, score in most_different_topic:\\n    print(f\"{word}: {score}\")\\n'"
      ]
     },
     "execution_count": 18,
     "metadata": {},
     "output_type": "execute_result"
    }
   ],
   "source": [
    "\"\"\"import gensim\n",
    "from gensim.models import LdaMulticore\n",
    "from gensim.models import CoherenceModel\n",
    "\n",
    "\n",
    "coherence_model = CoherenceModel(model=lda_model, texts=filtered_docs, dictionary=dictionary, coherence='c_v')\n",
    "coherence_scores = coherence_model.get_coherence_per_topic()\n",
    "most_different_topic_index = coherence_scores.index(max(coherence_scores))\n",
    "most_different_topic = lda_model.show_topic(most_different_topic_index)\n",
    "print(f\"The most different topic is Topic {most_different_topic_index}:\")\n",
    "for word, score in most_different_topic:\n",
    "    print(f\"{word}: {score}\")\n",
    "\"\"\""
   ]
  },
  {
   "cell_type": "code",
   "execution_count": 19,
   "metadata": {},
   "outputs": [
    {
     "name": "stdout",
     "output_type": "stream",
     "text": [
      "Topic: 0 -> bigram : ['apr oil', 'bp ing', 'cap em', 'em bp', 'eur apr', 'eurozon mar', 'ing eurozon', 'oil cap', 'unicredit eur']\n",
      "Topic: 1 -> bigram : ['altern distribut', 'author hedg', 'correl altern', 'distribut refer', 'document regul', 'hedg report', 'moodi correl', 'regul author', 'report moodi']\n"
     ]
    }
   ],
   "source": [
    "from nltk.collocations import BigramCollocationFinder\n",
    "from nltk.metrics import BigramAssocMeasures\n",
    "\n",
    "topics = []\n",
    "for idx, topic in lda_model.print_topics(-1):\n",
    "    topic_terms = lda_model.get_topic_terms(idx)\n",
    "    term_indexes = [term_id for term_id, _ in topic_terms]\n",
    "    term_words = [lda_model.id2word[term_id] for term_id in term_indexes]\n",
    "    bigram_finder = BigramCollocationFinder.from_words(term_words)\n",
    "    bigrams = bigram_finder.nbest(BigramAssocMeasures.pmi, 10)  # You can adjust the number of bigrams to retrieve\n",
    "    bigram_words = [' '.join(bigram) for bigram in bigrams]\n",
    "    print(\"Topic: {} -> bigram : {}\".format(idx,bigram_words))\n"
   ]
  },
  {
   "cell_type": "code",
   "execution_count": 20,
   "metadata": {},
   "outputs": [],
   "source": [
    "L_topic=[]\n",
    "document_topic_dist = [lda_model.get_document_topics(doc) for doc in bow_corpus]\n",
    "for i, doc_topics in enumerate(document_topic_dist):\n",
    "    sorted_topics = sorted(doc_topics, key=lambda x: x[1], reverse=True)\n",
    "    dominant_topic = sorted_topics[0]\n",
    "    L_topic.append(dominant_topic[0])"
   ]
  },
  {
   "cell_type": "code",
   "execution_count": 21,
   "metadata": {},
   "outputs": [],
   "source": [
    "data['topic']=L_topic"
   ]
  },
  {
   "cell_type": "code",
   "execution_count": 3,
   "metadata": {},
   "outputs": [
    {
     "ename": "NameError",
     "evalue": "name 'data' is not defined",
     "output_type": "error",
     "traceback": [
      "\u001b[1;31m---------------------------------------------------------------------------\u001b[0m",
      "\u001b[1;31mNameError\u001b[0m                                 Traceback (most recent call last)",
      "\u001b[1;32mc:\\Users\\rimai\\Desktop\\financial_nlp_nlu\\notebooks\\classification.ipynb Cell 23\u001b[0m line \u001b[0;36m1\n\u001b[1;32m----> <a href='vscode-notebook-cell:/c%3A/Users/rimai/Desktop/financial_nlp_nlu/notebooks/classification.ipynb#X31sZmlsZQ%3D%3D?line=0'>1</a>\u001b[0m data\u001b[39m.\u001b[39mto_csv(\u001b[39m'\u001b[39m\u001b[39m../data/data_class.csv\u001b[39m\u001b[39m'\u001b[39m,index\u001b[39m=\u001b[39m\u001b[39mFalse\u001b[39;00m)\n",
      "\u001b[1;31mNameError\u001b[0m: name 'data' is not defined"
     ]
    }
   ],
   "source": [
    "data.to_csv('../data/data_class.csv',index=False)"
   ]
  },
  {
   "cell_type": "code",
   "execution_count": 3,
   "metadata": {},
   "outputs": [],
   "source": [
    "data_class=pd.read_csv('../data/data_class.csv')"
   ]
  },
  {
   "cell_type": "code",
   "execution_count": 5,
   "metadata": {},
   "outputs": [
    {
     "name": "stdout",
     "output_type": "stream",
     "text": [
      "<class 'pandas.core.frame.DataFrame'>\n",
      "RangeIndex: 542 entries, 0 to 541\n",
      "Data columns (total 2 columns):\n",
      " #   Column      Non-Null Count  Dtype \n",
      "---  ------      --------------  ----- \n",
      " 0   clean_text  542 non-null    object\n",
      " 1   topic       542 non-null    int64 \n",
      "dtypes: int64(1), object(1)\n",
      "memory usage: 8.6+ KB\n"
     ]
    }
   ],
   "source": [
    "data_class[['clean_text','topic']].info()"
   ]
  },
  {
   "cell_type": "code",
   "execution_count": 6,
   "metadata": {},
   "outputs": [
    {
     "data": {
      "image/png": "[encoded data removed]",
      "text/plain": [
       "<Figure size 600x600 with 1 Axes>"
      ]
     },
     "metadata": {},
     "output_type": "display_data"
    }
   ],
   "source": [
    "import matplotlib.pyplot as plt\n",
    "\n",
    "label_counts = data_class['topic'].value_counts()\n",
    "\n",
    "plt.figure(figsize=(6, 6))\n",
    "plt.pie(label_counts, labels=label_counts.index, autopct='%1.1f%%', startangle=140)\n",
    "plt.title('Distribution of Labels in the \"Topic\" column')\n",
    "plt.axis('equal')  \n",
    "\n",
    "plt.show()\n"
   ]
  },
  {
   "cell_type": "code",
   "execution_count": 7,
   "metadata": {},
   "outputs": [
    {
     "ename": "NameError",
     "evalue": "name 'train_test_split' is not defined",
     "output_type": "error",
     "traceback": [
      "\u001b[1;31m---------------------------------------------------------------------------\u001b[0m",
      "\u001b[1;31mNameError\u001b[0m                                 Traceback (most recent call last)",
      "\u001b[1;32mc:\\Users\\rimai\\Desktop\\financial_nlp_nlu\\notebooks\\classification.ipynb Cell 28\u001b[0m line \u001b[0;36m1\n\u001b[1;32m----> <a href='vscode-notebook-cell:/c%3A/Users/rimai/Desktop/financial_nlp_nlu/notebooks/classification.ipynb#X40sZmlsZQ%3D%3D?line=0'>1</a>\u001b[0m X_train, X_test, y_train, y_test \u001b[39m=\u001b[39m train_test_split(data_class[\u001b[39m'\u001b[39m\u001b[39mclean_text\u001b[39m\u001b[39m'\u001b[39m],data_class[\u001b[39m'\u001b[39m\u001b[39mtopic\u001b[39m\u001b[39m'\u001b[39m], test_size\u001b[39m=\u001b[39m\u001b[39m0.25\u001b[39m, random_state\u001b[39m=\u001b[39m\u001b[39m3\u001b[39m)\n",
      "\u001b[1;31mNameError\u001b[0m: name 'train_test_split' is not defined"
     ]
    }
   ],
   "source": [
    "X_train, X_test, y_train, y_test = train_test_split(data_class['clean_text'],data_class['topic'], test_size=0.25, random_state=3)"
   ]
  },
  {
   "cell_type": "code",
   "execution_count": 56,
   "metadata": {},
   "outputs": [],
   "source": [
    "from sklearn.feature_extraction.text import CountVectorizer\n",
    "\n",
    "vectorizer = CountVectorizer()\n",
    "X_train_features = vectorizer.fit_transform(X_train)\n",
    "X_test_features = vectorizer.transform(X_test)"
   ]
  },
  {
   "cell_type": "code",
   "execution_count": 57,
   "metadata": {},
   "outputs": [
    {
     "name": "stdout",
     "output_type": "stream",
     "text": [
      "Accuracy: 0.90\n"
     ]
    }
   ],
   "source": [
    "from xgboost import XGBClassifier\n",
    "\n",
    "xgb = XGBClassifier(\n",
    "    n_estimators=300,\n",
    "    learning_rate=0.08,\n",
    "    max_depth=3,\n",
    "    objective='binary:logistic',\n",
    "    colsample_bytree=0.9\n",
    ")\n",
    "xgb.fit(X_train_features, y_train)\n",
    "y_pred = xgb.predict(X_test_features)\n",
    "accuracy = accuracy_score(y_test, y_pred)\n",
    "print(f\"Accuracy: {accuracy:.2f}\")\n"
   ]
  },
  {
   "cell_type": "code",
   "execution_count": 58,
   "metadata": {},
   "outputs": [
    {
     "name": "stdout",
     "output_type": "stream",
     "text": [
      "Best Accuracy: 0.90\n"
     ]
    }
   ],
   "source": [
    "# Define the XGBoost model\n",
    "xgb = XGBClassifier(objective='binary:logistic')\n",
    "\n",
    "param_grid = {\n",
    "    'n_estimators': [100, 200, 300,400],\n",
    "    'learning_rate': [0.1, 0.12,0.05,0.08],\n",
    "    'max_depth': [3, 4, 5,6],\n",
    "    'colsample_bytree': [0.8, 0.9, 1.0]\n",
    "}\n",
    "\n",
    "# Create a grid search object\n",
    "grid_search = GridSearchCV(estimator=xgb, param_grid=param_grid, scoring='accuracy', cv=5)\n",
    "\n",
    "# Fit the grid search to the training data\n",
    "grid_search.fit(X_train_features, y_train)\n",
    "\n",
    "# Get the best model with optimized hyperparameters\n",
    "best_xgb = grid_search.best_estimator_\n",
    "\n",
    "# Predict on the test data using the best model\n",
    "y_pred = best_xgb.predict(X_test_features)\n",
    "\n",
    "# Calculate accuracy\n",
    "accuracy = accuracy_score(y_test, y_pred)\n",
    "print(f\"Best Accuracy: {accuracy:.2f}\")\n"
   ]
  },
  {
   "cell_type": "code",
   "execution_count": 59,
   "metadata": {},
   "outputs": [
    {
     "name": "stdout",
     "output_type": "stream",
     "text": [
      "Best Hyperparameters:\n",
      "{'objective': 'binary:logistic', 'use_label_encoder': None, 'base_score': None, 'booster': None, 'callbacks': None, 'colsample_bylevel': None, 'colsample_bynode': None, 'colsample_bytree': 0.8, 'early_stopping_rounds': None, 'enable_categorical': False, 'eval_metric': None, 'feature_types': None, 'gamma': None, 'gpu_id': None, 'grow_policy': None, 'importance_type': None, 'interaction_constraints': None, 'learning_rate': 0.08, 'max_bin': None, 'max_cat_threshold': None, 'max_cat_to_onehot': None, 'max_delta_step': None, 'max_depth': 3, 'max_leaves': None, 'min_child_weight': None, 'missing': nan, 'monotone_constraints': None, 'n_estimators': 300, 'n_jobs': None, 'num_parallel_tree': None, 'predictor': None, 'random_state': None, 'reg_alpha': None, 'reg_lambda': None, 'sampling_method': None, 'scale_pos_weight': None, 'subsample': None, 'tree_method': None, 'validate_parameters': None, 'verbosity': None}\n"
     ]
    }
   ],
   "source": [
    "# Access the best hyperparameters\n",
    "best_params = best_xgb.get_params()\n",
    "print(\"Best Hyperparameters:\")\n",
    "print(best_params)"
   ]
  },
  {
   "cell_type": "code",
   "execution_count": 60,
   "metadata": {},
   "outputs": [
    {
     "name": "stdout",
     "output_type": "stream",
     "text": [
      "F1 Score: 0.84\n"
     ]
    }
   ],
   "source": [
    "from sklearn.metrics import f1_score\n",
    "\n",
    "# Assuming you have already made predictions on the test data and stored them in y_pred\n",
    "# Calculate the F1 score\n",
    "f1 = f1_score(y_test, y_pred)\n",
    "\n",
    "print(f\"F1 Score: {f1:.2f}\")"
   ]
  },
  {
   "cell_type": "code",
   "execution_count": 61,
   "metadata": {},
   "outputs": [],
   "source": [
    "from sklearn.metrics import roc_curve, roc_auc_score\n",
    "import matplotlib.pyplot as plt\n",
    "import seaborn as sns"
   ]
  },
  {
   "cell_type": "code",
   "execution_count": 62,
   "metadata": {},
   "outputs": [
    {
     "data": {
      "image/png": "[encoded data removed]",
      "text/plain": [
       "<Figure size 800x600 with 1 Axes>"
      ]
     },
     "metadata": {},
     "output_type": "display_data"
    }
   ],
   "source": [
    "\n",
    "y_pred_prob = best_xgb.predict_proba(X_test_features)[:, 1]  # Probabilities for the positive class\n",
    "\n",
    "# Calculate ROC curve\n",
    "fpr, tpr, thresholds = roc_curve(y_test, y_pred_prob)\n",
    "\n",
    "# Calculate AUC (Area Under the ROC Curve)\n",
    "roc_auc = roc_auc_score(y_test, y_pred_prob)\n",
    "\n",
    "# Plot ROC curve\n",
    "plt.figure(figsize=(8, 6))\n",
    "plt.plot(fpr, tpr, color='darkorange', lw=2, label=f'ROC curve (AUC = {roc_auc:.2f})')\n",
    "plt.plot([0, 1], [0, 1], color='navy', lw=2, linestyle='--')\n",
    "plt.xlim([0.0, 1.0])\n",
    "plt.ylim([0.0, 1.05])\n",
    "plt.xlabel('False Positive Rate')\n",
    "plt.ylabel('True Positive Rate')\n",
    "plt.title('Receiver Operating Characteristic (ROC) Curve')\n",
    "plt.legend(loc='lower right')\n",
    "plt.show()\n"
   ]
  },
  {
   "cell_type": "code",
   "execution_count": 63,
   "metadata": {},
   "outputs": [
    {
     "data": {
      "image/png": "[encoded data removed]",
      "text/plain": [
       "<Figure size 800x600 with 1 Axes>"
      ]
     },
     "metadata": {},
     "output_type": "display_data"
    }
   ],
   "source": [
    "# Calculate confusion matrix\n",
    "cm = confusion_matrix(y_test, y_pred)\n",
    "\n",
    "# Display the confusion matrix as a heatmap\n",
    "plt.figure(figsize=(8, 6))\n",
    "sns.heatmap(cm, annot=True, fmt='d', cmap='Blues', cbar=False)\n",
    "plt.xlabel('Predicted Labels')\n",
    "plt.ylabel('True Labels')\n",
    "plt.title('Confusion Matrix')\n",
    "plt.show()"
   ]
  },
  {
   "cell_type": "code",
   "execution_count": 64,
   "metadata": {},
   "outputs": [
    {
     "name": "stdout",
     "output_type": "stream",
     "text": [
      "Best Accuracy: 0.89\n",
      "Best Hyperparameters:\n",
      "{'C': 1, 'max_iter': 100, 'solver': 'lbfgs'}\n"
     ]
    }
   ],
   "source": [
    "from sklearn.model_selection import GridSearchCV\n",
    "from sklearn.linear_model import LogisticRegression\n",
    "from sklearn.metrics import accuracy_score\n",
    "\n",
    "# Define the LogisticRegression model\n",
    "lr = LogisticRegression()\n",
    "\n",
    "# Define a grid of hyperparameters to search\n",
    "param_grid = {\n",
    "    'C': [0.001, 0.01, 1, 10],  # Regularization strength\n",
    "    'solver': ['liblinear', 'lbfgs'],  # Optimization algorithm\n",
    "    'max_iter': [100, 200, 300],  # Maximum number of iterations\n",
    "}\n",
    "\n",
    "# Create a GridSearchCV object\n",
    "grid_search = GridSearchCV(estimator=lr, param_grid=param_grid, scoring='accuracy', cv=5)\n",
    "\n",
    "# Fit the grid search to the training data\n",
    "grid_search.fit(X_train_features, y_train)\n",
    "\n",
    "# Get the best model with optimized hyperparameters\n",
    "best_lr = grid_search.best_estimator_\n",
    "\n",
    "# Predict on the test data using the best model\n",
    "y_pred_lr = best_lr.predict(X_test_features)\n",
    "\n",
    "# Calculate accuracy\n",
    "accuracy = accuracy_score(y_test, y_pred_lr)\n",
    "print(f\"Best Accuracy: {accuracy:.2f}\")\n",
    "\n",
    "# Get the best hyperparameters\n",
    "best_params = grid_search.best_params_\n",
    "print(\"Best Hyperparameters:\")\n",
    "print(best_params)\n"
   ]
  },
  {
   "cell_type": "code",
   "execution_count": 65,
   "metadata": {},
   "outputs": [
    {
     "data": {
      "image/png": "[encoded data removed]",
      "text/plain": [
       "<Figure size 800x600 with 1 Axes>"
      ]
     },
     "metadata": {},
     "output_type": "display_data"
    }
   ],
   "source": [
    "y_pred_prob = best_lr.predict_proba(X_test_features)[:, 1]  # Probabilities for the positive class\n",
    "\n",
    "# Calculate ROC curve\n",
    "fpr, tpr, thresholds = roc_curve(y_test, y_pred_prob)\n",
    "\n",
    "# Calculate AUC (Area Under the ROC Curve)\n",
    "roc_auc = roc_auc_score(y_test, y_pred_prob)\n",
    "\n",
    "# Plot ROC curve\n",
    "plt.figure(figsize=(8, 6))\n",
    "plt.plot(fpr, tpr, color='darkorange', lw=2, label=f'ROC curve (AUC = {roc_auc:.2f})')\n",
    "plt.plot([0, 1], [0, 1], color='navy', lw=2, linestyle='--')\n",
    "plt.xlim([0.0, 1.0])\n",
    "plt.ylim([0.0, 1.05])\n",
    "plt.xlabel('False Positive Rate')\n",
    "plt.ylabel('True Positive Rate')\n",
    "plt.title('Receiver Operating Characteristic (ROC) Curve')\n",
    "plt.legend(loc='lower right')\n",
    "plt.show()\n"
   ]
  },
  {
   "cell_type": "code",
   "execution_count": 66,
   "metadata": {},
   "outputs": [
    {
     "data": {
      "image/png": "[encoded data removed]",
      "text/plain": [
       "<Figure size 800x600 with 1 Axes>"
      ]
     },
     "metadata": {},
     "output_type": "display_data"
    }
   ],
   "source": [
    "# Calculate confusion matrix\n",
    "cm = confusion_matrix(y_test, y_pred_lr)\n",
    "\n",
    "# Display the confusion matrix as a heatmap\n",
    "plt.figure(figsize=(8, 6))\n",
    "sns.heatmap(cm, annot=True, fmt='d', cmap='Blues', cbar=False)\n",
    "plt.xlabel('Predicted Labels')\n",
    "plt.ylabel('True Labels')\n",
    "plt.title('Confusion Matrix')\n",
    "plt.show()"
   ]
  },
  {
   "cell_type": "code",
   "execution_count": 67,
   "metadata": {},
   "outputs": [
    {
     "name": "stdout",
     "output_type": "stream",
     "text": [
      "F1 Score: 0.84\n"
     ]
    }
   ],
   "source": [
    "from sklearn.metrics import f1_score\n",
    "\n",
    "# Assuming you have already made predictions on the test data and stored them in y_pred\n",
    "# Calculate the F1 score\n",
    "f1 = f1_score(y_test, y_pred_lr)\n",
    "\n",
    "print(f\"F1 Score: {f1:.2f}\")"
   ]
  },
  {
   "cell_type": "code",
   "execution_count": 68,
   "metadata": {},
   "outputs": [
    {
     "name": "stdout",
     "output_type": "stream",
     "text": [
      "Ensemble Accuracy: 0.90\n"
     ]
    }
   ],
   "source": [
    "from sklearn.linear_model import LogisticRegression\n",
    "from xgboost import XGBClassifier\n",
    "from sklearn.metrics import accuracy_score\n",
    "from sklearn.model_selection import train_test_split\n",
    "from sklearn.ensemble import StackingClassifier\n",
    "\n",
    "\n",
    "\n",
    "# Create a StackingClassifier using Logistic Regression as the meta-model\n",
    "ensemble_model = StackingClassifier(\n",
    "    estimators=[('lr', best_lr), ('xgb', best_xgb)],\n",
    "    final_estimator=LogisticRegression()\n",
    ")\n",
    "\n",
    "# Fit the ensemble model on the training data\n",
    "ensemble_model.fit(X_train_features, y_train)\n",
    "\n",
    "# Make predictions using the ensemble model\n",
    "y_pred = ensemble_model.predict(X_test_features)\n",
    "\n",
    "# Evaluate the ensemble model\n",
    "accuracy = accuracy_score(y_test, y_pred)\n",
    "print(f\"Ensemble Accuracy: {accuracy:.2f}\")\n"
   ]
  },
  {
   "cell_type": "code",
   "execution_count": 42,
   "metadata": {},
   "outputs": [
    {
     "name": "stdout",
     "output_type": "stream",
     "text": [
      "F1 Score: 0.86\n"
     ]
    }
   ],
   "source": [
    "from sklearn.metrics import f1_score\n",
    "\n",
    "# Assuming you have already made predictions on the test data and stored them in y_pred\n",
    "# Calculate the F1 score\n",
    "f1 = f1_score(y_test, y_pred)\n",
    "\n",
    "print(f\"F1 Score: {f1:.2f}\")"
   ]
  },
  {
   "cell_type": "code",
   "execution_count": 48,
   "metadata": {},
   "outputs": [
    {
     "data": {
      "image/png": "[encoded data removed]",
      "text/plain": [
       "<Figure size 800x600 with 1 Axes>"
      ]
     },
     "metadata": {},
     "output_type": "display_data"
    }
   ],
   "source": [
    "y_pred_prob = ensemble_model.predict_proba(X_test_features)[:, 1]  # Probabilities for the positive class\n",
    "\n",
    "# Calculate ROC curve\n",
    "fpr, tpr, thresholds = roc_curve(y_test, y_pred_prob)\n",
    "\n",
    "# Calculate AUC (Area Under the ROC Curve)\n",
    "roc_auc = roc_auc_score(y_test, y_pred_prob)\n",
    "\n",
    "# Plot ROC curve\n",
    "plt.figure(figsize=(8, 6))\n",
    "plt.plot(fpr, tpr, color='darkorange', lw=2, label=f'ROC curve (AUC = {roc_auc:.2f})')\n",
    "plt.plot([0, 1], [0, 1], color='navy', lw=2, linestyle='--')\n",
    "plt.xlim([0.0, 1.0])\n",
    "plt.ylim([0.0, 1.05])\n",
    "plt.xlabel('False Positive Rate')\n",
    "plt.ylabel('True Positive Rate')\n",
    "plt.title('Receiver Operating Characteristic (ROC) Curve')\n",
    "plt.legend(loc='lower right')\n",
    "plt.show()\n"
   ]
  },
  {
   "cell_type": "code",
   "execution_count": 45,
   "metadata": {},
   "outputs": [
    {
     "data": {
      "text/plain": [
       "['XGBClassifier_model.pkl']"
      ]
     },
     "execution_count": 45,
     "metadata": {},
     "output_type": "execute_result"
    }
   ],
   "source": [
    "model_filename = 'XGBClassifier_model.pkl'\n",
    "joblib.dump(best_xgb, model_filename)\n"
   ]
  },
  {
   "cell_type": "code",
   "execution_count": 46,
   "metadata": {},
   "outputs": [
    {
     "data": {
      "text/plain": [
       "['logistic_regression_model.pkl']"
      ]
     },
     "execution_count": 46,
     "metadata": {},
     "output_type": "execute_result"
    }
   ],
   "source": [
    "model_filename = 'logistic_regression_model.pkl'\n",
    "joblib.dump(best_lr, model_filename)\n"
   ]
  },
  {
   "cell_type": "code",
   "execution_count": 47,
   "metadata": {},
   "outputs": [
    {
     "data": {
      "text/plain": [
       "['vectorizer.pkl']"
      ]
     },
     "execution_count": 47,
     "metadata": {},
     "output_type": "execute_result"
    }
   ],
   "source": [
    "vectorizer_filename = 'vectorizer.pkl'\n",
    "joblib.dump(vectorizer, vectorizer_filename)"
   ]
  },
  {
   "cell_type": "code",
   "execution_count": 86,
   "metadata": {},
   "outputs": [
    {
     "name": "stdout",
     "output_type": "stream",
     "text": [
      "The new document does not contain legal content.\n"
     ]
    }
   ],
   "source": [
    "new_document='The information presented in this analysis is based on data and research conducted by the Investment Insights Division at FinancePro. While we strive to provide accurate and reliable information, this analysis is for informational purposes only and should not be considered as financial advice. Past performance is not indicative of future results, and investment decisions should be made after consulting with a qualified financial professional. We extend our gratitude to our research team, including Jane Smith, Senior Economist, and John Doe, Investment Analyst, for their contributions to this report.'\n",
    "new_document_features = vectorizer.transform([new_document])\n",
    "prediction = lr.predict(new_document_features)\n",
    "\n",
    "if prediction[0] == 1:\n",
    "    print(\"The new document contains legal content.\")\n",
    "else:\n",
    "    print(\"The new document does not contain legal content.\")"
   ]
  },
  {
   "cell_type": "code",
   "execution_count": 90,
   "metadata": {},
   "outputs": [],
   "source": [
    "data_f=data[:20]"
   ]
  },
  {
   "cell_type": "code",
   "execution_count": 51,
   "metadata": {},
   "outputs": [],
   "source": [
    "from sklearn.metrics import classification_report\n",
    "\n",
    "class_labels = list(set(y_test))  # Get unique class labels from y_test"
   ]
  },
  {
   "cell_type": "code",
   "execution_count": 39,
   "metadata": {},
   "outputs": [],
   "source": [
    "data[data['topic']==1].to_csv('../data/legal_data.csv',index=False)"
   ]
  },
  {
   "cell_type": "code",
   "execution_count": 31,
   "metadata": {},
   "outputs": [],
   "source": [
    "data[data['topic']==0].to_csv('../data/financial_data.csv',index=False)"
   ]
  },
  {
   "cell_type": "code",
   "execution_count": 32,
   "metadata": {},
   "outputs": [],
   "source": [
    "data_law=pd.read_csv('../data/legal_data.csv')"
   ]
  },
  {
   "cell_type": "code",
   "execution_count": 55,
   "metadata": {},
   "outputs": [
    {
     "name": "stdout",
     "output_type": "stream",
     "text": [
      "<class 'pandas.core.frame.DataFrame'>\n",
      "RangeIndex: 189 entries, 0 to 188\n",
      "Data columns (total 10 columns):\n",
      " #   Column              Non-Null Count  Dtype  \n",
      "---  ------              --------------  -----  \n",
      " 0   file_name           189 non-null    object \n",
      " 1   page_num            189 non-null    int64  \n",
      " 2   text                189 non-null    object \n",
      " 3   clean_text          189 non-null    object \n",
      " 4   tokens              189 non-null    object \n",
      " 5   subjectivity_score  189 non-null    float64\n",
      " 6   date                189 non-null    object \n",
      " 7   bank                189 non-null    object \n",
      " 8   title               189 non-null    object \n",
      " 9   topic               189 non-null    int64  \n",
      "dtypes: float64(1), int64(2), object(7)\n",
      "memory usage: 14.9+ KB\n"
     ]
    }
   ],
   "source": [
    "data_law.info()"
   ]
  },
  {
   "cell_type": "code",
   "execution_count": 58,
   "metadata": {},
   "outputs": [
    {
     "data": {
      "text/plain": [
       "'This material represents the views of the Investment Strategy Group in Wealth Management at Goldman Sachs. It is not a  product of Goldman Sachs Global Investment Research. The views and opinions expressed herein may differ from those  expressed by other groups of Goldman Sachs. Sharmin Mossavar-Rahmani  Chief Investment Officer  Investment Strategy Group  Goldman Sachs  Brett Nelson  Head of Tactical Asset Allocation  Investment Strategy Group  Goldman Sachs    The co-authors give special thanks to:  Matheus Dibo  Vice President Kelly Han  Vice President Rob Hunter  Vice President Harm Zebregs  Vice President Additional contributors from the   Investment Strategy Group: Matthew Weir  Managing Director Venkatesh Balasubramanian  Managing Director Oussama Fatri  Managing Director Nicola Gifford   Vice President  Arjun Menon  Vice President  Michael Murdoch  Vice President Daniel Toro  Vice President Fabian Mertes  Associate Yousra Zerouali  Associate '"
      ]
     },
     "execution_count": 58,
     "metadata": {},
     "output_type": "execute_result"
    }
   ],
   "source": [
    "data_law['text'][1]"
   ]
  },
  {
   "cell_type": "markdown",
   "metadata": {},
   "source": [
    "## Analysing topics in the financial dataset"
   ]
  },
  {
   "cell_type": "code",
   "execution_count": 53,
   "metadata": {},
   "outputs": [],
   "source": [
    "data_financial=pd.read_csv('../data/financial_data.csv')"
   ]
  },
  {
   "cell_type": "code",
   "execution_count": 54,
   "metadata": {},
   "outputs": [
    {
     "name": "stdout",
     "output_type": "stream",
     "text": [
      "<class 'pandas.core.frame.DataFrame'>\n",
      "RangeIndex: 353 entries, 0 to 352\n",
      "Data columns (total 10 columns):\n",
      " #   Column              Non-Null Count  Dtype  \n",
      "---  ------              --------------  -----  \n",
      " 0   file_name           353 non-null    object \n",
      " 1   page_num            353 non-null    int64  \n",
      " 2   text                353 non-null    object \n",
      " 3   clean_text          353 non-null    object \n",
      " 4   tokens              353 non-null    object \n",
      " 5   subjectivity_score  353 non-null    float64\n",
      " 6   date                353 non-null    object \n",
      " 7   bank                353 non-null    object \n",
      " 8   title               353 non-null    object \n",
      " 9   topic               353 non-null    int64  \n",
      "dtypes: float64(1), int64(2), object(7)\n",
      "memory usage: 27.7+ KB\n"
     ]
    }
   ],
   "source": [
    "data_financial.info()"
   ]
  },
  {
   "cell_type": "code",
   "execution_count": 65,
   "metadata": {},
   "outputs": [
    {
     "data": {
      "text/plain": [
       "\"4 Goldman Sachs january 2023   Clients' portfolios experienced more volatility in 2022 than usual because  equities and bonds declined at the same time in most markets. It is very rare to have  equities and bonds drop over the same period in the US; since 1926, i.e., across 96  years of data, a decline in both equities and bonds over a rolling 12-month window  has occurred only 5% of the time when using a 10-year benchmark for bonds,  and only 2% of the time when using a 1- to 10-year benchmark.  60/40 Stock/Bond Model Portfolios  Notwithstanding such rarity, reports issued last year by several financial  institutions challenged the 60/40 stock/bond model portfolios. Some  recommended adding real assets such as commodities, infrastructure and real  Exhibit 2: Pillars of the Investment Strategy Group's Investment Philosophy Asset allocation process is client-tailored and independent of implementation vehicles Investment Strategy Group Analytical Rigor History Is a Useful Guide Appropriate Diversification Value Orientation Appropriate Horizon Consistency \""
      ]
     },
     "execution_count": 65,
     "metadata": {},
     "output_type": "execute_result"
    }
   ],
   "source": [
    "data_financial['text'][3]"
   ]
  },
  {
   "cell_type": "code",
   "execution_count": null,
   "metadata": {},
   "outputs": [
    {
     "data": {
      "text/html": [
       "<div>\n",
       "<style scoped>\n",
       "    .dataframe tbody tr th:only-of-type {\n",
       "        vertical-align: middle;\n",
       "    }\n",
       "\n",
       "    .dataframe tbody tr th {\n",
       "        vertical-align: top;\n",
       "    }\n",
       "\n",
       "    .dataframe thead th {\n",
       "        text-align: right;\n",
       "    }\n",
       "</style>\n",
       "<table border=\"1\" class=\"dataframe\">\n",
       "  <thead>\n",
       "    <tr style=\"text-align: right;\">\n",
       "      <th></th>\n",
       "      <th>file_name</th>\n",
       "      <th>page_num</th>\n",
       "      <th>text</th>\n",
       "      <th>clean_text</th>\n",
       "      <th>tokens</th>\n",
       "      <th>subjectivity_score</th>\n",
       "      <th>date</th>\n",
       "      <th>bank</th>\n",
       "      <th>title</th>\n",
       "      <th>topic</th>\n",
       "    </tr>\n",
       "  </thead>\n",
       "  <tbody>\n",
       "    <tr>\n",
       "      <th>0</th>\n",
       "      <td>01 01 2023_Goldman Sachs_Caution Heavy Fog</td>\n",
       "      <td>3</td>\n",
       "      <td>1 Outlook Investment Strategy Group 2023 OUTLO...</td>\n",
       "      <td>invest strategi client tumultu understat equit...</td>\n",
       "      <td>investment strategy clients tumultuous underst...</td>\n",
       "      <td>0.382315</td>\n",
       "      <td>01 01 2023</td>\n",
       "      <td>Goldman Sachs</td>\n",
       "      <td>Caution Heavy Fog</td>\n",
       "      <td>1</td>\n",
       "    </tr>\n",
       "    <tr>\n",
       "      <th>1</th>\n",
       "      <td>01 01 2023_Goldman Sachs_Caution Heavy Fog</td>\n",
       "      <td>4</td>\n",
       "      <td>2 Goldman Sachs january 2023   Among financial...</td>\n",
       "      <td>januari financi asset spare equiti measur maxi...</td>\n",
       "      <td>january financial assets spared equities measu...</td>\n",
       "      <td>0.383203</td>\n",
       "      <td>01 01 2023</td>\n",
       "      <td>Goldman Sachs</td>\n",
       "      <td>Caution Heavy Fog</td>\n",
       "      <td>1</td>\n",
       "    </tr>\n",
       "    <tr>\n",
       "      <th>2</th>\n",
       "      <td>01 01 2023_Goldman Sachs_Caution Heavy Fog</td>\n",
       "      <td>5</td>\n",
       "      <td>3 Outlook Investment Strategy Group descending...</td>\n",
       "      <td>invest strategi descend storag facil fill mild...</td>\n",
       "      <td>investment strategy descending storage facilit...</td>\n",
       "      <td>0.354392</td>\n",
       "      <td>01 01 2023</td>\n",
       "      <td>Goldman Sachs</td>\n",
       "      <td>Caution Heavy Fog</td>\n",
       "      <td>1</td>\n",
       "    </tr>\n",
       "    <tr>\n",
       "      <th>3</th>\n",
       "      <td>01 01 2023_Goldman Sachs_Caution Heavy Fog</td>\n",
       "      <td>6</td>\n",
       "      <td>4 Goldman Sachs january 2023   Clients' portfo...</td>\n",
       "      <td>januari client portfolio experienc volatil usu...</td>\n",
       "      <td>january clients portfolios experienced volatil...</td>\n",
       "      <td>0.409583</td>\n",
       "      <td>01 01 2023</td>\n",
       "      <td>Goldman Sachs</td>\n",
       "      <td>Caution Heavy Fog</td>\n",
       "      <td>1</td>\n",
       "    </tr>\n",
       "    <tr>\n",
       "      <th>4</th>\n",
       "      <td>01 01 2023_Goldman Sachs_Caution Heavy Fog</td>\n",
       "      <td>7</td>\n",
       "      <td>5 Outlook Investment Strategy Group estate. Ot...</td>\n",
       "      <td>invest strategi estat recommend diversifi port...</td>\n",
       "      <td>investment strategy estate recommended diversi...</td>\n",
       "      <td>0.445732</td>\n",
       "      <td>01 01 2023</td>\n",
       "      <td>Goldman Sachs</td>\n",
       "      <td>Caution Heavy Fog</td>\n",
       "      <td>1</td>\n",
       "    </tr>\n",
       "  </tbody>\n",
       "</table>\n",
       "</div>"
      ],
      "text/plain": [
       "                                    file_name  page_num  \\\n",
       "0  01 01 2023_Goldman Sachs_Caution Heavy Fog         3   \n",
       "1  01 01 2023_Goldman Sachs_Caution Heavy Fog         4   \n",
       "2  01 01 2023_Goldman Sachs_Caution Heavy Fog         5   \n",
       "3  01 01 2023_Goldman Sachs_Caution Heavy Fog         6   \n",
       "4  01 01 2023_Goldman Sachs_Caution Heavy Fog         7   \n",
       "\n",
       "                                                text  \\\n",
       "0  1 Outlook Investment Strategy Group 2023 OUTLO...   \n",
       "1  2 Goldman Sachs january 2023   Among financial...   \n",
       "2  3 Outlook Investment Strategy Group descending...   \n",
       "3  4 Goldman Sachs january 2023   Clients' portfo...   \n",
       "4  5 Outlook Investment Strategy Group estate. Ot...   \n",
       "\n",
       "                                          clean_text  \\\n",
       "0  invest strategi client tumultu understat equit...   \n",
       "1  januari financi asset spare equiti measur maxi...   \n",
       "2  invest strategi descend storag facil fill mild...   \n",
       "3  januari client portfolio experienc volatil usu...   \n",
       "4  invest strategi estat recommend diversifi port...   \n",
       "\n",
       "                                              tokens  subjectivity_score  \\\n",
       "0  investment strategy clients tumultuous underst...            0.382315   \n",
       "1  january financial assets spared equities measu...            0.383203   \n",
       "2  investment strategy descending storage facilit...            0.354392   \n",
       "3  january clients portfolios experienced volatil...            0.409583   \n",
       "4  investment strategy estate recommended diversi...            0.445732   \n",
       "\n",
       "         date           bank              title  topic  \n",
       "0  01 01 2023  Goldman Sachs  Caution Heavy Fog      1  \n",
       "1  01 01 2023  Goldman Sachs  Caution Heavy Fog      1  \n",
       "2  01 01 2023  Goldman Sachs  Caution Heavy Fog      1  \n",
       "3  01 01 2023  Goldman Sachs  Caution Heavy Fog      1  \n",
       "4  01 01 2023  Goldman Sachs  Caution Heavy Fog      1  "
      ]
     },
     "execution_count": 127,
     "metadata": {},
     "output_type": "execute_result"
    }
   ],
   "source": [
    "data_financial.head()"
   ]
  },
  {
   "cell_type": "code",
   "execution_count": null,
   "metadata": {},
   "outputs": [],
   "source": [
    "from gensim.utils import simple_preprocess\n",
    "from gensim import corpora\n",
    "tokens_2 = [simple_preprocess(sentence) for sentence in data_financial['clean_text']]\n",
    "\n",
    "# Create a dictionary\n",
    "dictionary_2 = corpora.Dictionary(tokens_2)"
   ]
  },
  {
   "cell_type": "code",
   "execution_count": null,
   "metadata": {},
   "outputs": [
    {
     "name": "stdout",
     "output_type": "stream",
     "text": [
      "(0, '0.020*\"inflat\" + 0.019*\"rate\" + 0.013*\"growth\" + 0.013*\"price\" + 0.012*\"expect\" + 0.010*\"gdp\" + 0.009*\"forecast\" + 0.009*\"econom\" + 0.009*\"jan\" + 0.009*\"market\"')\n",
      "(1, '0.020*\"return\" + 0.018*\"equiti\" + 0.017*\"market\" + 0.014*\"exhibit\" + 0.013*\"asset\" + 0.013*\"invest\" + 0.012*\"yield\" + 0.011*\"bond\" + 0.009*\"fund\" + 0.009*\"rate\"')\n",
      "(2, '0.023*\"china\" + 0.008*\"global\" + 0.007*\"russia\" + 0.007*\"risk\" + 0.006*\"covid\" + 0.006*\"product\" + 0.005*\"decemb\" + 0.005*\"emerg\" + 0.005*\"invest\" + 0.004*\"asia\"')\n"
     ]
    }
   ],
   "source": [
    "from gensim.models import LdaModel\n",
    "\n",
    "doc_term_matrix = [dictionary_2.doc2bow(doc) for doc in tokens_2]\n",
    "\n",
    "# Define the number of topics\n",
    "num_topics = 3\n",
    "\n",
    "# Apply LDA\n",
    "lda_model_2 = LdaModel(doc_term_matrix, num_topics=num_topics, id2word=dictionary_2, passes=40)\n",
    "\n",
    "# Print the topics\n",
    "for topic in lda_model_2.show_topics():\n",
    "    print(topic)"
   ]
  },
  {
   "cell_type": "code",
   "execution_count": null,
   "metadata": {},
   "outputs": [],
   "source": [
    "topics = lda_model_2.show_topics(num_topics=num_topics, num_words=15, formatted=False)"
   ]
  },
  {
   "cell_type": "code",
   "execution_count": null,
   "metadata": {},
   "outputs": [],
   "source": [
    "topic_words = [[word[0] for word in topic[1]] for topic in topics]\n",
    "topic_probs = [[word[1] for word in topic[1]] for topic in topics]"
   ]
  },
  {
   "cell_type": "code",
   "execution_count": null,
   "metadata": {},
   "outputs": [
    {
     "data": {
      "image/png": "[encoded data removed]",
      "text/plain": [
       "<Figure size 800x600 with 1 Axes>"
      ]
     },
     "metadata": {},
     "output_type": "display_data"
    },
    {
     "data": {
      "image/png": "[encoded data removed]",
      "text/plain": [
       "<Figure size 800x600 with 1 Axes>"
      ]
     },
     "metadata": {},
     "output_type": "display_data"
    },
    {
     "data": {
      "image/png": "[encoded data removed]",
      "text/plain": [
       "<Figure size 800x600 with 1 Axes>"
      ]
     },
     "metadata": {},
     "output_type": "display_data"
    }
   ],
   "source": [
    "import matplotlib.pyplot as plt\n",
    "\n",
    "# Plotting bar charts for each topic\n",
    "for i in range(num_topics):\n",
    "    plt.figure(figsize=(8, 6))\n",
    "    plt.barh(topic_words[i], topic_probs[i])\n",
    "    plt.title(f'Topic {i+1}')\n",
    "    plt.xlabel('Word Probability')\n",
    "    plt.ylabel('Word')\n",
    "    plt.show()"
   ]
  },
  {
   "cell_type": "code",
   "execution_count": null,
   "metadata": {},
   "outputs": [
    {
     "name": "stderr",
     "output_type": "stream",
     "text": [
      "c:\\Users\\rimai\\AppData\\Local\\anaconda3\\lib\\site-packages\\wordcloud\\wordcloud.py:106: MatplotlibDeprecationWarning: The get_cmap function was deprecated in Matplotlib 3.7 and will be removed two minor releases later. Use ``matplotlib.colormaps[name]`` or ``matplotlib.colormaps.get_cmap(obj)`` instead.\n",
      "  self.colormap = plt.cm.get_cmap(colormap)\n",
      "c:\\Users\\rimai\\AppData\\Local\\anaconda3\\lib\\site-packages\\wordcloud\\wordcloud.py:508: DeprecationWarning: textsize is deprecated and will be removed in Pillow 10 (2023-07-01). Use textbbox or textlength instead.\n",
      "  box_size = draw.textsize(word, font=transposed_font)\n",
      "c:\\Users\\rimai\\AppData\\Local\\anaconda3\\lib\\site-packages\\wordcloud\\wordcloud.py:508: DeprecationWarning: textsize is deprecated and will be removed in Pillow 10 (2023-07-01). Use textbbox or textlength instead.\n",
      "  box_size = draw.textsize(word, font=transposed_font)\n",
      "c:\\Users\\rimai\\AppData\\Local\\anaconda3\\lib\\site-packages\\wordcloud\\wordcloud.py:508: DeprecationWarning: textsize is deprecated and will be removed in Pillow 10 (2023-07-01). Use textbbox or textlength instead.\n",
      "  box_size = draw.textsize(word, font=transposed_font)\n",
      "c:\\Users\\rimai\\AppData\\Local\\anaconda3\\lib\\site-packages\\wordcloud\\wordcloud.py:508: DeprecationWarning: textsize is deprecated and will be removed in Pillow 10 (2023-07-01). Use textbbox or textlength instead.\n",
      "  box_size = draw.textsize(word, font=transposed_font)\n",
      "c:\\Users\\rimai\\AppData\\Local\\anaconda3\\lib\\site-packages\\wordcloud\\wordcloud.py:508: DeprecationWarning: textsize is deprecated and will be removed in Pillow 10 (2023-07-01). Use textbbox or textlength instead.\n",
      "  box_size = draw.textsize(word, font=transposed_font)\n",
      "c:\\Users\\rimai\\AppData\\Local\\anaconda3\\lib\\site-packages\\wordcloud\\wordcloud.py:508: DeprecationWarning: textsize is deprecated and will be removed in Pillow 10 (2023-07-01). Use textbbox or textlength instead.\n",
      "  box_size = draw.textsize(word, font=transposed_font)\n",
      "c:\\Users\\rimai\\AppData\\Local\\anaconda3\\lib\\site-packages\\wordcloud\\wordcloud.py:508: DeprecationWarning: textsize is deprecated and will be removed in Pillow 10 (2023-07-01). Use textbbox or textlength instead.\n",
      "  box_size = draw.textsize(word, font=transposed_font)\n",
      "c:\\Users\\rimai\\AppData\\Local\\anaconda3\\lib\\site-packages\\wordcloud\\wordcloud.py:508: DeprecationWarning: textsize is deprecated and will be removed in Pillow 10 (2023-07-01). Use textbbox or textlength instead.\n",
      "  box_size = draw.textsize(word, font=transposed_font)\n",
      "c:\\Users\\rimai\\AppData\\Local\\anaconda3\\lib\\site-packages\\wordcloud\\wordcloud.py:508: DeprecationWarning: textsize is deprecated and will be removed in Pillow 10 (2023-07-01). Use textbbox or textlength instead.\n",
      "  box_size = draw.textsize(word, font=transposed_font)\n",
      "c:\\Users\\rimai\\AppData\\Local\\anaconda3\\lib\\site-packages\\wordcloud\\wordcloud.py:508: DeprecationWarning: textsize is deprecated and will be removed in Pillow 10 (2023-07-01). Use textbbox or textlength instead.\n",
      "  box_size = draw.textsize(word, font=transposed_font)\n",
      "c:\\Users\\rimai\\AppData\\Local\\anaconda3\\lib\\site-packages\\wordcloud\\wordcloud.py:508: DeprecationWarning: textsize is deprecated and will be removed in Pillow 10 (2023-07-01). Use textbbox or textlength instead.\n",
      "  box_size = draw.textsize(word, font=transposed_font)\n",
      "c:\\Users\\rimai\\AppData\\Local\\anaconda3\\lib\\site-packages\\wordcloud\\wordcloud.py:508: DeprecationWarning: textsize is deprecated and will be removed in Pillow 10 (2023-07-01). Use textbbox or textlength instead.\n",
      "  box_size = draw.textsize(word, font=transposed_font)\n",
      "c:\\Users\\rimai\\AppData\\Local\\anaconda3\\lib\\site-packages\\wordcloud\\wordcloud.py:508: DeprecationWarning: textsize is deprecated and will be removed in Pillow 10 (2023-07-01). Use textbbox or textlength instead.\n",
      "  box_size = draw.textsize(word, font=transposed_font)\n",
      "c:\\Users\\rimai\\AppData\\Local\\anaconda3\\lib\\site-packages\\wordcloud\\wordcloud.py:508: DeprecationWarning: textsize is deprecated and will be removed in Pillow 10 (2023-07-01). Use textbbox or textlength instead.\n",
      "  box_size = draw.textsize(word, font=transposed_font)\n",
      "c:\\Users\\rimai\\AppData\\Local\\anaconda3\\lib\\site-packages\\wordcloud\\wordcloud.py:508: DeprecationWarning: textsize is deprecated and will be removed in Pillow 10 (2023-07-01). Use textbbox or textlength instead.\n",
      "  box_size = draw.textsize(word, font=transposed_font)\n",
      "c:\\Users\\rimai\\AppData\\Local\\anaconda3\\lib\\site-packages\\wordcloud\\wordcloud.py:508: DeprecationWarning: textsize is deprecated and will be removed in Pillow 10 (2023-07-01). Use textbbox or textlength instead.\n",
      "  box_size = draw.textsize(word, font=transposed_font)\n",
      "c:\\Users\\rimai\\AppData\\Local\\anaconda3\\lib\\site-packages\\wordcloud\\wordcloud.py:508: DeprecationWarning: textsize is deprecated and will be removed in Pillow 10 (2023-07-01). Use textbbox or textlength instead.\n",
      "  box_size = draw.textsize(word, font=transposed_font)\n",
      "c:\\Users\\rimai\\AppData\\Local\\anaconda3\\lib\\site-packages\\wordcloud\\wordcloud.py:508: DeprecationWarning: textsize is deprecated and will be removed in Pillow 10 (2023-07-01). Use textbbox or textlength instead.\n",
      "  box_size = draw.textsize(word, font=transposed_font)\n",
      "c:\\Users\\rimai\\AppData\\Local\\anaconda3\\lib\\site-packages\\wordcloud\\wordcloud.py:508: DeprecationWarning: textsize is deprecated and will be removed in Pillow 10 (2023-07-01). Use textbbox or textlength instead.\n",
      "  box_size = draw.textsize(word, font=transposed_font)\n",
      "c:\\Users\\rimai\\AppData\\Local\\anaconda3\\lib\\site-packages\\wordcloud\\wordcloud.py:508: DeprecationWarning: textsize is deprecated and will be removed in Pillow 10 (2023-07-01). Use textbbox or textlength instead.\n",
      "  box_size = draw.textsize(word, font=transposed_font)\n",
      "c:\\Users\\rimai\\AppData\\Local\\anaconda3\\lib\\site-packages\\wordcloud\\wordcloud.py:508: DeprecationWarning: textsize is deprecated and will be removed in Pillow 10 (2023-07-01). Use textbbox or textlength instead.\n",
      "  box_size = draw.textsize(word, font=transposed_font)\n",
      "c:\\Users\\rimai\\AppData\\Local\\anaconda3\\lib\\site-packages\\wordcloud\\wordcloud.py:508: DeprecationWarning: textsize is deprecated and will be removed in Pillow 10 (2023-07-01). Use textbbox or textlength instead.\n",
      "  box_size = draw.textsize(word, font=transposed_font)\n",
      "c:\\Users\\rimai\\AppData\\Local\\anaconda3\\lib\\site-packages\\wordcloud\\wordcloud.py:508: DeprecationWarning: textsize is deprecated and will be removed in Pillow 10 (2023-07-01). Use textbbox or textlength instead.\n",
      "  box_size = draw.textsize(word, font=transposed_font)\n",
      "c:\\Users\\rimai\\AppData\\Local\\anaconda3\\lib\\site-packages\\wordcloud\\wordcloud.py:508: DeprecationWarning: textsize is deprecated and will be removed in Pillow 10 (2023-07-01). Use textbbox or textlength instead.\n",
      "  box_size = draw.textsize(word, font=transposed_font)\n",
      "c:\\Users\\rimai\\AppData\\Local\\anaconda3\\lib\\site-packages\\wordcloud\\wordcloud.py:508: DeprecationWarning: textsize is deprecated and will be removed in Pillow 10 (2023-07-01). Use textbbox or textlength instead.\n",
      "  box_size = draw.textsize(word, font=transposed_font)\n",
      "c:\\Users\\rimai\\AppData\\Local\\anaconda3\\lib\\site-packages\\wordcloud\\wordcloud.py:508: DeprecationWarning: textsize is deprecated and will be removed in Pillow 10 (2023-07-01). Use textbbox or textlength instead.\n",
      "  box_size = draw.textsize(word, font=transposed_font)\n",
      "c:\\Users\\rimai\\AppData\\Local\\anaconda3\\lib\\site-packages\\wordcloud\\wordcloud.py:508: DeprecationWarning: textsize is deprecated and will be removed in Pillow 10 (2023-07-01). Use textbbox or textlength instead.\n",
      "  box_size = draw.textsize(word, font=transposed_font)\n",
      "c:\\Users\\rimai\\AppData\\Local\\anaconda3\\lib\\site-packages\\wordcloud\\wordcloud.py:508: DeprecationWarning: textsize is deprecated and will be removed in Pillow 10 (2023-07-01). Use textbbox or textlength instead.\n",
      "  box_size = draw.textsize(word, font=transposed_font)\n",
      "c:\\Users\\rimai\\AppData\\Local\\anaconda3\\lib\\site-packages\\wordcloud\\wordcloud.py:508: DeprecationWarning: textsize is deprecated and will be removed in Pillow 10 (2023-07-01). Use textbbox or textlength instead.\n",
      "  box_size = draw.textsize(word, font=transposed_font)\n",
      "c:\\Users\\rimai\\AppData\\Local\\anaconda3\\lib\\site-packages\\wordcloud\\wordcloud.py:508: DeprecationWarning: textsize is deprecated and will be removed in Pillow 10 (2023-07-01). Use textbbox or textlength instead.\n",
      "  box_size = draw.textsize(word, font=transposed_font)\n",
      "c:\\Users\\rimai\\AppData\\Local\\anaconda3\\lib\\site-packages\\wordcloud\\wordcloud.py:508: DeprecationWarning: textsize is deprecated and will be removed in Pillow 10 (2023-07-01). Use textbbox or textlength instead.\n",
      "  box_size = draw.textsize(word, font=transposed_font)\n",
      "c:\\Users\\rimai\\AppData\\Local\\anaconda3\\lib\\site-packages\\wordcloud\\wordcloud.py:508: DeprecationWarning: textsize is deprecated and will be removed in Pillow 10 (2023-07-01). Use textbbox or textlength instead.\n",
      "  box_size = draw.textsize(word, font=transposed_font)\n",
      "c:\\Users\\rimai\\AppData\\Local\\anaconda3\\lib\\site-packages\\wordcloud\\wordcloud.py:508: DeprecationWarning: textsize is deprecated and will be removed in Pillow 10 (2023-07-01). Use textbbox or textlength instead.\n",
      "  box_size = draw.textsize(word, font=transposed_font)\n",
      "c:\\Users\\rimai\\AppData\\Local\\anaconda3\\lib\\site-packages\\wordcloud\\wordcloud.py:508: DeprecationWarning: textsize is deprecated and will be removed in Pillow 10 (2023-07-01). Use textbbox or textlength instead.\n",
      "  box_size = draw.textsize(word, font=transposed_font)\n",
      "c:\\Users\\rimai\\AppData\\Local\\anaconda3\\lib\\site-packages\\wordcloud\\wordcloud.py:508: DeprecationWarning: textsize is deprecated and will be removed in Pillow 10 (2023-07-01). Use textbbox or textlength instead.\n",
      "  box_size = draw.textsize(word, font=transposed_font)\n",
      "c:\\Users\\rimai\\AppData\\Local\\anaconda3\\lib\\site-packages\\wordcloud\\wordcloud.py:508: DeprecationWarning: textsize is deprecated and will be removed in Pillow 10 (2023-07-01). Use textbbox or textlength instead.\n",
      "  box_size = draw.textsize(word, font=transposed_font)\n",
      "c:\\Users\\rimai\\AppData\\Local\\anaconda3\\lib\\site-packages\\wordcloud\\wordcloud.py:508: DeprecationWarning: textsize is deprecated and will be removed in Pillow 10 (2023-07-01). Use textbbox or textlength instead.\n",
      "  box_size = draw.textsize(word, font=transposed_font)\n",
      "c:\\Users\\rimai\\AppData\\Local\\anaconda3\\lib\\site-packages\\wordcloud\\wordcloud.py:508: DeprecationWarning: textsize is deprecated and will be removed in Pillow 10 (2023-07-01). Use textbbox or textlength instead.\n",
      "  box_size = draw.textsize(word, font=transposed_font)\n",
      "c:\\Users\\rimai\\AppData\\Local\\anaconda3\\lib\\site-packages\\wordcloud\\wordcloud.py:508: DeprecationWarning: textsize is deprecated and will be removed in Pillow 10 (2023-07-01). Use textbbox or textlength instead.\n",
      "  box_size = draw.textsize(word, font=transposed_font)\n",
      "c:\\Users\\rimai\\AppData\\Local\\anaconda3\\lib\\site-packages\\wordcloud\\wordcloud.py:508: DeprecationWarning: textsize is deprecated and will be removed in Pillow 10 (2023-07-01). Use textbbox or textlength instead.\n",
      "  box_size = draw.textsize(word, font=transposed_font)\n",
      "c:\\Users\\rimai\\AppData\\Local\\anaconda3\\lib\\site-packages\\wordcloud\\wordcloud.py:508: DeprecationWarning: textsize is deprecated and will be removed in Pillow 10 (2023-07-01). Use textbbox or textlength instead.\n",
      "  box_size = draw.textsize(word, font=transposed_font)\n",
      "c:\\Users\\rimai\\AppData\\Local\\anaconda3\\lib\\site-packages\\wordcloud\\wordcloud.py:508: DeprecationWarning: textsize is deprecated and will be removed in Pillow 10 (2023-07-01). Use textbbox or textlength instead.\n",
      "  box_size = draw.textsize(word, font=transposed_font)\n",
      "c:\\Users\\rimai\\AppData\\Local\\anaconda3\\lib\\site-packages\\wordcloud\\wordcloud.py:508: DeprecationWarning: textsize is deprecated and will be removed in Pillow 10 (2023-07-01). Use textbbox or textlength instead.\n",
      "  box_size = draw.textsize(word, font=transposed_font)\n",
      "c:\\Users\\rimai\\AppData\\Local\\anaconda3\\lib\\site-packages\\wordcloud\\wordcloud.py:508: DeprecationWarning: textsize is deprecated and will be removed in Pillow 10 (2023-07-01). Use textbbox or textlength instead.\n",
      "  box_size = draw.textsize(word, font=transposed_font)\n",
      "c:\\Users\\rimai\\AppData\\Local\\anaconda3\\lib\\site-packages\\wordcloud\\wordcloud.py:508: DeprecationWarning: textsize is deprecated and will be removed in Pillow 10 (2023-07-01). Use textbbox or textlength instead.\n",
      "  box_size = draw.textsize(word, font=transposed_font)\n",
      "c:\\Users\\rimai\\AppData\\Local\\anaconda3\\lib\\site-packages\\wordcloud\\wordcloud.py:508: DeprecationWarning: textsize is deprecated and will be removed in Pillow 10 (2023-07-01). Use textbbox or textlength instead.\n",
      "  box_size = draw.textsize(word, font=transposed_font)\n",
      "c:\\Users\\rimai\\AppData\\Local\\anaconda3\\lib\\site-packages\\wordcloud\\wordcloud.py:508: DeprecationWarning: textsize is deprecated and will be removed in Pillow 10 (2023-07-01). Use textbbox or textlength instead.\n",
      "  box_size = draw.textsize(word, font=transposed_font)\n",
      "c:\\Users\\rimai\\AppData\\Local\\anaconda3\\lib\\site-packages\\wordcloud\\wordcloud.py:508: DeprecationWarning: textsize is deprecated and will be removed in Pillow 10 (2023-07-01). Use textbbox or textlength instead.\n",
      "  box_size = draw.textsize(word, font=transposed_font)\n",
      "c:\\Users\\rimai\\AppData\\Local\\anaconda3\\lib\\site-packages\\wordcloud\\wordcloud.py:508: DeprecationWarning: textsize is deprecated and will be removed in Pillow 10 (2023-07-01). Use textbbox or textlength instead.\n",
      "  box_size = draw.textsize(word, font=transposed_font)\n",
      "c:\\Users\\rimai\\AppData\\Local\\anaconda3\\lib\\site-packages\\wordcloud\\wordcloud.py:508: DeprecationWarning: textsize is deprecated and will be removed in Pillow 10 (2023-07-01). Use textbbox or textlength instead.\n",
      "  box_size = draw.textsize(word, font=transposed_font)\n",
      "c:\\Users\\rimai\\AppData\\Local\\anaconda3\\lib\\site-packages\\wordcloud\\wordcloud.py:508: DeprecationWarning: textsize is deprecated and will be removed in Pillow 10 (2023-07-01). Use textbbox or textlength instead.\n",
      "  box_size = draw.textsize(word, font=transposed_font)\n",
      "c:\\Users\\rimai\\AppData\\Local\\anaconda3\\lib\\site-packages\\wordcloud\\wordcloud.py:508: DeprecationWarning: textsize is deprecated and will be removed in Pillow 10 (2023-07-01). Use textbbox or textlength instead.\n",
      "  box_size = draw.textsize(word, font=transposed_font)\n",
      "c:\\Users\\rimai\\AppData\\Local\\anaconda3\\lib\\site-packages\\wordcloud\\wordcloud.py:508: DeprecationWarning: textsize is deprecated and will be removed in Pillow 10 (2023-07-01). Use textbbox or textlength instead.\n",
      "  box_size = draw.textsize(word, font=transposed_font)\n",
      "c:\\Users\\rimai\\AppData\\Local\\anaconda3\\lib\\site-packages\\wordcloud\\wordcloud.py:508: DeprecationWarning: textsize is deprecated and will be removed in Pillow 10 (2023-07-01). Use textbbox or textlength instead.\n",
      "  box_size = draw.textsize(word, font=transposed_font)\n",
      "c:\\Users\\rimai\\AppData\\Local\\anaconda3\\lib\\site-packages\\wordcloud\\wordcloud.py:508: DeprecationWarning: textsize is deprecated and will be removed in Pillow 10 (2023-07-01). Use textbbox or textlength instead.\n",
      "  box_size = draw.textsize(word, font=transposed_font)\n",
      "c:\\Users\\rimai\\AppData\\Local\\anaconda3\\lib\\site-packages\\wordcloud\\wordcloud.py:508: DeprecationWarning: textsize is deprecated and will be removed in Pillow 10 (2023-07-01). Use textbbox or textlength instead.\n",
      "  box_size = draw.textsize(word, font=transposed_font)\n",
      "c:\\Users\\rimai\\AppData\\Local\\anaconda3\\lib\\site-packages\\wordcloud\\wordcloud.py:508: DeprecationWarning: textsize is deprecated and will be removed in Pillow 10 (2023-07-01). Use textbbox or textlength instead.\n",
      "  box_size = draw.textsize(word, font=transposed_font)\n",
      "c:\\Users\\rimai\\AppData\\Local\\anaconda3\\lib\\site-packages\\wordcloud\\wordcloud.py:508: DeprecationWarning: textsize is deprecated and will be removed in Pillow 10 (2023-07-01). Use textbbox or textlength instead.\n",
      "  box_size = draw.textsize(word, font=transposed_font)\n",
      "c:\\Users\\rimai\\AppData\\Local\\anaconda3\\lib\\site-packages\\wordcloud\\wordcloud.py:508: DeprecationWarning: textsize is deprecated and will be removed in Pillow 10 (2023-07-01). Use textbbox or textlength instead.\n",
      "  box_size = draw.textsize(word, font=transposed_font)\n",
      "c:\\Users\\rimai\\AppData\\Local\\anaconda3\\lib\\site-packages\\wordcloud\\wordcloud.py:508: DeprecationWarning: textsize is deprecated and will be removed in Pillow 10 (2023-07-01). Use textbbox or textlength instead.\n",
      "  box_size = draw.textsize(word, font=transposed_font)\n",
      "c:\\Users\\rimai\\AppData\\Local\\anaconda3\\lib\\site-packages\\wordcloud\\wordcloud.py:508: DeprecationWarning: textsize is deprecated and will be removed in Pillow 10 (2023-07-01). Use textbbox or textlength instead.\n",
      "  box_size = draw.textsize(word, font=transposed_font)\n",
      "c:\\Users\\rimai\\AppData\\Local\\anaconda3\\lib\\site-packages\\wordcloud\\wordcloud.py:508: DeprecationWarning: textsize is deprecated and will be removed in Pillow 10 (2023-07-01). Use textbbox or textlength instead.\n",
      "  box_size = draw.textsize(word, font=transposed_font)\n",
      "c:\\Users\\rimai\\AppData\\Local\\anaconda3\\lib\\site-packages\\wordcloud\\wordcloud.py:508: DeprecationWarning: textsize is deprecated and will be removed in Pillow 10 (2023-07-01). Use textbbox or textlength instead.\n",
      "  box_size = draw.textsize(word, font=transposed_font)\n",
      "c:\\Users\\rimai\\AppData\\Local\\anaconda3\\lib\\site-packages\\wordcloud\\wordcloud.py:508: DeprecationWarning: textsize is deprecated and will be removed in Pillow 10 (2023-07-01). Use textbbox or textlength instead.\n",
      "  box_size = draw.textsize(word, font=transposed_font)\n",
      "c:\\Users\\rimai\\AppData\\Local\\anaconda3\\lib\\site-packages\\wordcloud\\wordcloud.py:508: DeprecationWarning: textsize is deprecated and will be removed in Pillow 10 (2023-07-01). Use textbbox or textlength instead.\n",
      "  box_size = draw.textsize(word, font=transposed_font)\n",
      "c:\\Users\\rimai\\AppData\\Local\\anaconda3\\lib\\site-packages\\wordcloud\\wordcloud.py:508: DeprecationWarning: textsize is deprecated and will be removed in Pillow 10 (2023-07-01). Use textbbox or textlength instead.\n",
      "  box_size = draw.textsize(word, font=transposed_font)\n",
      "c:\\Users\\rimai\\AppData\\Local\\anaconda3\\lib\\site-packages\\wordcloud\\wordcloud.py:508: DeprecationWarning: textsize is deprecated and will be removed in Pillow 10 (2023-07-01). Use textbbox or textlength instead.\n",
      "  box_size = draw.textsize(word, font=transposed_font)\n",
      "c:\\Users\\rimai\\AppData\\Local\\anaconda3\\lib\\site-packages\\wordcloud\\wordcloud.py:508: DeprecationWarning: textsize is deprecated and will be removed in Pillow 10 (2023-07-01). Use textbbox or textlength instead.\n",
      "  box_size = draw.textsize(word, font=transposed_font)\n",
      "c:\\Users\\rimai\\AppData\\Local\\anaconda3\\lib\\site-packages\\wordcloud\\wordcloud.py:508: DeprecationWarning: textsize is deprecated and will be removed in Pillow 10 (2023-07-01). Use textbbox or textlength instead.\n",
      "  box_size = draw.textsize(word, font=transposed_font)\n",
      "c:\\Users\\rimai\\AppData\\Local\\anaconda3\\lib\\site-packages\\wordcloud\\wordcloud.py:508: DeprecationWarning: textsize is deprecated and will be removed in Pillow 10 (2023-07-01). Use textbbox or textlength instead.\n",
      "  box_size = draw.textsize(word, font=transposed_font)\n",
      "c:\\Users\\rimai\\AppData\\Local\\anaconda3\\lib\\site-packages\\wordcloud\\wordcloud.py:508: DeprecationWarning: textsize is deprecated and will be removed in Pillow 10 (2023-07-01). Use textbbox or textlength instead.\n",
      "  box_size = draw.textsize(word, font=transposed_font)\n",
      "c:\\Users\\rimai\\AppData\\Local\\anaconda3\\lib\\site-packages\\wordcloud\\wordcloud.py:508: DeprecationWarning: textsize is deprecated and will be removed in Pillow 10 (2023-07-01). Use textbbox or textlength instead.\n",
      "  box_size = draw.textsize(word, font=transposed_font)\n",
      "c:\\Users\\rimai\\AppData\\Local\\anaconda3\\lib\\site-packages\\wordcloud\\wordcloud.py:508: DeprecationWarning: textsize is deprecated and will be removed in Pillow 10 (2023-07-01). Use textbbox or textlength instead.\n",
      "  box_size = draw.textsize(word, font=transposed_font)\n",
      "c:\\Users\\rimai\\AppData\\Local\\anaconda3\\lib\\site-packages\\wordcloud\\wordcloud.py:508: DeprecationWarning: textsize is deprecated and will be removed in Pillow 10 (2023-07-01). Use textbbox or textlength instead.\n",
      "  box_size = draw.textsize(word, font=transposed_font)\n",
      "c:\\Users\\rimai\\AppData\\Local\\anaconda3\\lib\\site-packages\\wordcloud\\wordcloud.py:508: DeprecationWarning: textsize is deprecated and will be removed in Pillow 10 (2023-07-01). Use textbbox or textlength instead.\n",
      "  box_size = draw.textsize(word, font=transposed_font)\n",
      "c:\\Users\\rimai\\AppData\\Local\\anaconda3\\lib\\site-packages\\wordcloud\\wordcloud.py:508: DeprecationWarning: textsize is deprecated and will be removed in Pillow 10 (2023-07-01). Use textbbox or textlength instead.\n",
      "  box_size = draw.textsize(word, font=transposed_font)\n",
      "c:\\Users\\rimai\\AppData\\Local\\anaconda3\\lib\\site-packages\\wordcloud\\wordcloud.py:508: DeprecationWarning: textsize is deprecated and will be removed in Pillow 10 (2023-07-01). Use textbbox or textlength instead.\n",
      "  box_size = draw.textsize(word, font=transposed_font)\n",
      "c:\\Users\\rimai\\AppData\\Local\\anaconda3\\lib\\site-packages\\wordcloud\\wordcloud.py:508: DeprecationWarning: textsize is deprecated and will be removed in Pillow 10 (2023-07-01). Use textbbox or textlength instead.\n",
      "  box_size = draw.textsize(word, font=transposed_font)\n",
      "c:\\Users\\rimai\\AppData\\Local\\anaconda3\\lib\\site-packages\\wordcloud\\wordcloud.py:508: DeprecationWarning: textsize is deprecated and will be removed in Pillow 10 (2023-07-01). Use textbbox or textlength instead.\n",
      "  box_size = draw.textsize(word, font=transposed_font)\n",
      "c:\\Users\\rimai\\AppData\\Local\\anaconda3\\lib\\site-packages\\wordcloud\\wordcloud.py:508: DeprecationWarning: textsize is deprecated and will be removed in Pillow 10 (2023-07-01). Use textbbox or textlength instead.\n",
      "  box_size = draw.textsize(word, font=transposed_font)\n",
      "c:\\Users\\rimai\\AppData\\Local\\anaconda3\\lib\\site-packages\\wordcloud\\wordcloud.py:508: DeprecationWarning: textsize is deprecated and will be removed in Pillow 10 (2023-07-01). Use textbbox or textlength instead.\n",
      "  box_size = draw.textsize(word, font=transposed_font)\n",
      "c:\\Users\\rimai\\AppData\\Local\\anaconda3\\lib\\site-packages\\wordcloud\\wordcloud.py:508: DeprecationWarning: textsize is deprecated and will be removed in Pillow 10 (2023-07-01). Use textbbox or textlength instead.\n",
      "  box_size = draw.textsize(word, font=transposed_font)\n",
      "c:\\Users\\rimai\\AppData\\Local\\anaconda3\\lib\\site-packages\\wordcloud\\wordcloud.py:508: DeprecationWarning: textsize is deprecated and will be removed in Pillow 10 (2023-07-01). Use textbbox or textlength instead.\n",
      "  box_size = draw.textsize(word, font=transposed_font)\n",
      "c:\\Users\\rimai\\AppData\\Local\\anaconda3\\lib\\site-packages\\wordcloud\\wordcloud.py:508: DeprecationWarning: textsize is deprecated and will be removed in Pillow 10 (2023-07-01). Use textbbox or textlength instead.\n",
      "  box_size = draw.textsize(word, font=transposed_font)\n",
      "c:\\Users\\rimai\\AppData\\Local\\anaconda3\\lib\\site-packages\\wordcloud\\wordcloud.py:508: DeprecationWarning: textsize is deprecated and will be removed in Pillow 10 (2023-07-01). Use textbbox or textlength instead.\n",
      "  box_size = draw.textsize(word, font=transposed_font)\n",
      "c:\\Users\\rimai\\AppData\\Local\\anaconda3\\lib\\site-packages\\wordcloud\\wordcloud.py:508: DeprecationWarning: textsize is deprecated and will be removed in Pillow 10 (2023-07-01). Use textbbox or textlength instead.\n",
      "  box_size = draw.textsize(word, font=transposed_font)\n",
      "c:\\Users\\rimai\\AppData\\Local\\anaconda3\\lib\\site-packages\\wordcloud\\wordcloud.py:508: DeprecationWarning: textsize is deprecated and will be removed in Pillow 10 (2023-07-01). Use textbbox or textlength instead.\n",
      "  box_size = draw.textsize(word, font=transposed_font)\n",
      "c:\\Users\\rimai\\AppData\\Local\\anaconda3\\lib\\site-packages\\wordcloud\\wordcloud.py:508: DeprecationWarning: textsize is deprecated and will be removed in Pillow 10 (2023-07-01). Use textbbox or textlength instead.\n",
      "  box_size = draw.textsize(word, font=transposed_font)\n",
      "c:\\Users\\rimai\\AppData\\Local\\anaconda3\\lib\\site-packages\\wordcloud\\wordcloud.py:508: DeprecationWarning: textsize is deprecated and will be removed in Pillow 10 (2023-07-01). Use textbbox or textlength instead.\n",
      "  box_size = draw.textsize(word, font=transposed_font)\n",
      "c:\\Users\\rimai\\AppData\\Local\\anaconda3\\lib\\site-packages\\wordcloud\\wordcloud.py:508: DeprecationWarning: textsize is deprecated and will be removed in Pillow 10 (2023-07-01). Use textbbox or textlength instead.\n",
      "  box_size = draw.textsize(word, font=transposed_font)\n",
      "c:\\Users\\rimai\\AppData\\Local\\anaconda3\\lib\\site-packages\\wordcloud\\wordcloud.py:508: DeprecationWarning: textsize is deprecated and will be removed in Pillow 10 (2023-07-01). Use textbbox or textlength instead.\n",
      "  box_size = draw.textsize(word, font=transposed_font)\n",
      "c:\\Users\\rimai\\AppData\\Local\\anaconda3\\lib\\site-packages\\wordcloud\\wordcloud.py:508: DeprecationWarning: textsize is deprecated and will be removed in Pillow 10 (2023-07-01). Use textbbox or textlength instead.\n",
      "  box_size = draw.textsize(word, font=transposed_font)\n",
      "c:\\Users\\rimai\\AppData\\Local\\anaconda3\\lib\\site-packages\\wordcloud\\wordcloud.py:508: DeprecationWarning: textsize is deprecated and will be removed in Pillow 10 (2023-07-01). Use textbbox or textlength instead.\n",
      "  box_size = draw.textsize(word, font=transposed_font)\n",
      "c:\\Users\\rimai\\AppData\\Local\\anaconda3\\lib\\site-packages\\wordcloud\\wordcloud.py:508: DeprecationWarning: textsize is deprecated and will be removed in Pillow 10 (2023-07-01). Use textbbox or textlength instead.\n",
      "  box_size = draw.textsize(word, font=transposed_font)\n",
      "c:\\Users\\rimai\\AppData\\Local\\anaconda3\\lib\\site-packages\\wordcloud\\wordcloud.py:508: DeprecationWarning: textsize is deprecated and will be removed in Pillow 10 (2023-07-01). Use textbbox or textlength instead.\n",
      "  box_size = draw.textsize(word, font=transposed_font)\n",
      "c:\\Users\\rimai\\AppData\\Local\\anaconda3\\lib\\site-packages\\wordcloud\\wordcloud.py:508: DeprecationWarning: textsize is deprecated and will be removed in Pillow 10 (2023-07-01). Use textbbox or textlength instead.\n",
      "  box_size = draw.textsize(word, font=transposed_font)\n",
      "c:\\Users\\rimai\\AppData\\Local\\anaconda3\\lib\\site-packages\\wordcloud\\wordcloud.py:508: DeprecationWarning: textsize is deprecated and will be removed in Pillow 10 (2023-07-01). Use textbbox or textlength instead.\n",
      "  box_size = draw.textsize(word, font=transposed_font)\n",
      "c:\\Users\\rimai\\AppData\\Local\\anaconda3\\lib\\site-packages\\wordcloud\\wordcloud.py:508: DeprecationWarning: textsize is deprecated and will be removed in Pillow 10 (2023-07-01). Use textbbox or textlength instead.\n",
      "  box_size = draw.textsize(word, font=transposed_font)\n",
      "c:\\Users\\rimai\\AppData\\Local\\anaconda3\\lib\\site-packages\\wordcloud\\wordcloud.py:508: DeprecationWarning: textsize is deprecated and will be removed in Pillow 10 (2023-07-01). Use textbbox or textlength instead.\n",
      "  box_size = draw.textsize(word, font=transposed_font)\n",
      "c:\\Users\\rimai\\AppData\\Local\\anaconda3\\lib\\site-packages\\wordcloud\\wordcloud.py:508: DeprecationWarning: textsize is deprecated and will be removed in Pillow 10 (2023-07-01). Use textbbox or textlength instead.\n",
      "  box_size = draw.textsize(word, font=transposed_font)\n",
      "c:\\Users\\rimai\\AppData\\Local\\anaconda3\\lib\\site-packages\\wordcloud\\wordcloud.py:508: DeprecationWarning: textsize is deprecated and will be removed in Pillow 10 (2023-07-01). Use textbbox or textlength instead.\n",
      "  box_size = draw.textsize(word, font=transposed_font)\n",
      "c:\\Users\\rimai\\AppData\\Local\\anaconda3\\lib\\site-packages\\wordcloud\\wordcloud.py:508: DeprecationWarning: textsize is deprecated and will be removed in Pillow 10 (2023-07-01). Use textbbox or textlength instead.\n",
      "  box_size = draw.textsize(word, font=transposed_font)\n",
      "c:\\Users\\rimai\\AppData\\Local\\anaconda3\\lib\\site-packages\\wordcloud\\wordcloud.py:508: DeprecationWarning: textsize is deprecated and will be removed in Pillow 10 (2023-07-01). Use textbbox or textlength instead.\n",
      "  box_size = draw.textsize(word, font=transposed_font)\n",
      "c:\\Users\\rimai\\AppData\\Local\\anaconda3\\lib\\site-packages\\wordcloud\\wordcloud.py:508: DeprecationWarning: textsize is deprecated and will be removed in Pillow 10 (2023-07-01). Use textbbox or textlength instead.\n",
      "  box_size = draw.textsize(word, font=transposed_font)\n",
      "c:\\Users\\rimai\\AppData\\Local\\anaconda3\\lib\\site-packages\\wordcloud\\wordcloud.py:508: DeprecationWarning: textsize is deprecated and will be removed in Pillow 10 (2023-07-01). Use textbbox or textlength instead.\n",
      "  box_size = draw.textsize(word, font=transposed_font)\n",
      "c:\\Users\\rimai\\AppData\\Local\\anaconda3\\lib\\site-packages\\wordcloud\\wordcloud.py:508: DeprecationWarning: textsize is deprecated and will be removed in Pillow 10 (2023-07-01). Use textbbox or textlength instead.\n",
      "  box_size = draw.textsize(word, font=transposed_font)\n",
      "c:\\Users\\rimai\\AppData\\Local\\anaconda3\\lib\\site-packages\\wordcloud\\wordcloud.py:508: DeprecationWarning: textsize is deprecated and will be removed in Pillow 10 (2023-07-01). Use textbbox or textlength instead.\n",
      "  box_size = draw.textsize(word, font=transposed_font)\n",
      "c:\\Users\\rimai\\AppData\\Local\\anaconda3\\lib\\site-packages\\wordcloud\\wordcloud.py:508: DeprecationWarning: textsize is deprecated and will be removed in Pillow 10 (2023-07-01). Use textbbox or textlength instead.\n",
      "  box_size = draw.textsize(word, font=transposed_font)\n",
      "c:\\Users\\rimai\\AppData\\Local\\anaconda3\\lib\\site-packages\\wordcloud\\wordcloud.py:508: DeprecationWarning: textsize is deprecated and will be removed in Pillow 10 (2023-07-01). Use textbbox or textlength instead.\n",
      "  box_size = draw.textsize(word, font=transposed_font)\n",
      "c:\\Users\\rimai\\AppData\\Local\\anaconda3\\lib\\site-packages\\wordcloud\\wordcloud.py:508: DeprecationWarning: textsize is deprecated and will be removed in Pillow 10 (2023-07-01). Use textbbox or textlength instead.\n",
      "  box_size = draw.textsize(word, font=transposed_font)\n",
      "c:\\Users\\rimai\\AppData\\Local\\anaconda3\\lib\\site-packages\\wordcloud\\wordcloud.py:508: DeprecationWarning: textsize is deprecated and will be removed in Pillow 10 (2023-07-01). Use textbbox or textlength instead.\n",
      "  box_size = draw.textsize(word, font=transposed_font)\n",
      "c:\\Users\\rimai\\AppData\\Local\\anaconda3\\lib\\site-packages\\wordcloud\\wordcloud.py:508: DeprecationWarning: textsize is deprecated and will be removed in Pillow 10 (2023-07-01). Use textbbox or textlength instead.\n",
      "  box_size = draw.textsize(word, font=transposed_font)\n",
      "c:\\Users\\rimai\\AppData\\Local\\anaconda3\\lib\\site-packages\\wordcloud\\wordcloud.py:508: DeprecationWarning: textsize is deprecated and will be removed in Pillow 10 (2023-07-01). Use textbbox or textlength instead.\n",
      "  box_size = draw.textsize(word, font=transposed_font)\n",
      "c:\\Users\\rimai\\AppData\\Local\\anaconda3\\lib\\site-packages\\wordcloud\\wordcloud.py:508: DeprecationWarning: textsize is deprecated and will be removed in Pillow 10 (2023-07-01). Use textbbox or textlength instead.\n",
      "  box_size = draw.textsize(word, font=transposed_font)\n",
      "c:\\Users\\rimai\\AppData\\Local\\anaconda3\\lib\\site-packages\\wordcloud\\wordcloud.py:508: DeprecationWarning: textsize is deprecated and will be removed in Pillow 10 (2023-07-01). Use textbbox or textlength instead.\n",
      "  box_size = draw.textsize(word, font=transposed_font)\n",
      "c:\\Users\\rimai\\AppData\\Local\\anaconda3\\lib\\site-packages\\wordcloud\\wordcloud.py:508: DeprecationWarning: textsize is deprecated and will be removed in Pillow 10 (2023-07-01). Use textbbox or textlength instead.\n",
      "  box_size = draw.textsize(word, font=transposed_font)\n",
      "c:\\Users\\rimai\\AppData\\Local\\anaconda3\\lib\\site-packages\\wordcloud\\wordcloud.py:508: DeprecationWarning: textsize is deprecated and will be removed in Pillow 10 (2023-07-01). Use textbbox or textlength instead.\n",
      "  box_size = draw.textsize(word, font=transposed_font)\n",
      "c:\\Users\\rimai\\AppData\\Local\\anaconda3\\lib\\site-packages\\wordcloud\\wordcloud.py:508: DeprecationWarning: textsize is deprecated and will be removed in Pillow 10 (2023-07-01). Use textbbox or textlength instead.\n",
      "  box_size = draw.textsize(word, font=transposed_font)\n",
      "c:\\Users\\rimai\\AppData\\Local\\anaconda3\\lib\\site-packages\\wordcloud\\wordcloud.py:508: DeprecationWarning: textsize is deprecated and will be removed in Pillow 10 (2023-07-01). Use textbbox or textlength instead.\n",
      "  box_size = draw.textsize(word, font=transposed_font)\n",
      "c:\\Users\\rimai\\AppData\\Local\\anaconda3\\lib\\site-packages\\wordcloud\\wordcloud.py:508: DeprecationWarning: textsize is deprecated and will be removed in Pillow 10 (2023-07-01). Use textbbox or textlength instead.\n",
      "  box_size = draw.textsize(word, font=transposed_font)\n",
      "c:\\Users\\rimai\\AppData\\Local\\anaconda3\\lib\\site-packages\\wordcloud\\wordcloud.py:508: DeprecationWarning: textsize is deprecated and will be removed in Pillow 10 (2023-07-01). Use textbbox or textlength instead.\n",
      "  box_size = draw.textsize(word, font=transposed_font)\n",
      "c:\\Users\\rimai\\AppData\\Local\\anaconda3\\lib\\site-packages\\wordcloud\\wordcloud.py:508: DeprecationWarning: textsize is deprecated and will be removed in Pillow 10 (2023-07-01). Use textbbox or textlength instead.\n",
      "  box_size = draw.textsize(word, font=transposed_font)\n",
      "c:\\Users\\rimai\\AppData\\Local\\anaconda3\\lib\\site-packages\\wordcloud\\wordcloud.py:508: DeprecationWarning: textsize is deprecated and will be removed in Pillow 10 (2023-07-01). Use textbbox or textlength instead.\n",
      "  box_size = draw.textsize(word, font=transposed_font)\n",
      "c:\\Users\\rimai\\AppData\\Local\\anaconda3\\lib\\site-packages\\wordcloud\\wordcloud.py:508: DeprecationWarning: textsize is deprecated and will be removed in Pillow 10 (2023-07-01). Use textbbox or textlength instead.\n",
      "  box_size = draw.textsize(word, font=transposed_font)\n",
      "c:\\Users\\rimai\\AppData\\Local\\anaconda3\\lib\\site-packages\\wordcloud\\wordcloud.py:508: DeprecationWarning: textsize is deprecated and will be removed in Pillow 10 (2023-07-01). Use textbbox or textlength instead.\n",
      "  box_size = draw.textsize(word, font=transposed_font)\n",
      "c:\\Users\\rimai\\AppData\\Local\\anaconda3\\lib\\site-packages\\wordcloud\\wordcloud.py:508: DeprecationWarning: textsize is deprecated and will be removed in Pillow 10 (2023-07-01). Use textbbox or textlength instead.\n",
      "  box_size = draw.textsize(word, font=transposed_font)\n",
      "c:\\Users\\rimai\\AppData\\Local\\anaconda3\\lib\\site-packages\\wordcloud\\wordcloud.py:508: DeprecationWarning: textsize is deprecated and will be removed in Pillow 10 (2023-07-01). Use textbbox or textlength instead.\n",
      "  box_size = draw.textsize(word, font=transposed_font)\n",
      "c:\\Users\\rimai\\AppData\\Local\\anaconda3\\lib\\site-packages\\wordcloud\\wordcloud.py:508: DeprecationWarning: textsize is deprecated and will be removed in Pillow 10 (2023-07-01). Use textbbox or textlength instead.\n",
      "  box_size = draw.textsize(word, font=transposed_font)\n",
      "c:\\Users\\rimai\\AppData\\Local\\anaconda3\\lib\\site-packages\\wordcloud\\wordcloud.py:508: DeprecationWarning: textsize is deprecated and will be removed in Pillow 10 (2023-07-01). Use textbbox or textlength instead.\n",
      "  box_size = draw.textsize(word, font=transposed_font)\n",
      "c:\\Users\\rimai\\AppData\\Local\\anaconda3\\lib\\site-packages\\wordcloud\\wordcloud.py:508: DeprecationWarning: textsize is deprecated and will be removed in Pillow 10 (2023-07-01). Use textbbox or textlength instead.\n",
      "  box_size = draw.textsize(word, font=transposed_font)\n",
      "c:\\Users\\rimai\\AppData\\Local\\anaconda3\\lib\\site-packages\\wordcloud\\wordcloud.py:508: DeprecationWarning: textsize is deprecated and will be removed in Pillow 10 (2023-07-01). Use textbbox or textlength instead.\n",
      "  box_size = draw.textsize(word, font=transposed_font)\n",
      "c:\\Users\\rimai\\AppData\\Local\\anaconda3\\lib\\site-packages\\wordcloud\\wordcloud.py:508: DeprecationWarning: textsize is deprecated and will be removed in Pillow 10 (2023-07-01). Use textbbox or textlength instead.\n",
      "  box_size = draw.textsize(word, font=transposed_font)\n",
      "c:\\Users\\rimai\\AppData\\Local\\anaconda3\\lib\\site-packages\\wordcloud\\wordcloud.py:508: DeprecationWarning: textsize is deprecated and will be removed in Pillow 10 (2023-07-01). Use textbbox or textlength instead.\n",
      "  box_size = draw.textsize(word, font=transposed_font)\n",
      "c:\\Users\\rimai\\AppData\\Local\\anaconda3\\lib\\site-packages\\wordcloud\\wordcloud.py:508: DeprecationWarning: textsize is deprecated and will be removed in Pillow 10 (2023-07-01). Use textbbox or textlength instead.\n",
      "  box_size = draw.textsize(word, font=transposed_font)\n",
      "c:\\Users\\rimai\\AppData\\Local\\anaconda3\\lib\\site-packages\\wordcloud\\wordcloud.py:508: DeprecationWarning: textsize is deprecated and will be removed in Pillow 10 (2023-07-01). Use textbbox or textlength instead.\n",
      "  box_size = draw.textsize(word, font=transposed_font)\n",
      "c:\\Users\\rimai\\AppData\\Local\\anaconda3\\lib\\site-packages\\wordcloud\\wordcloud.py:508: DeprecationWarning: textsize is deprecated and will be removed in Pillow 10 (2023-07-01). Use textbbox or textlength instead.\n",
      "  box_size = draw.textsize(word, font=transposed_font)\n",
      "c:\\Users\\rimai\\AppData\\Local\\anaconda3\\lib\\site-packages\\wordcloud\\wordcloud.py:508: DeprecationWarning: textsize is deprecated and will be removed in Pillow 10 (2023-07-01). Use textbbox or textlength instead.\n",
      "  box_size = draw.textsize(word, font=transposed_font)\n",
      "c:\\Users\\rimai\\AppData\\Local\\anaconda3\\lib\\site-packages\\wordcloud\\wordcloud.py:508: DeprecationWarning: textsize is deprecated and will be removed in Pillow 10 (2023-07-01). Use textbbox or textlength instead.\n",
      "  box_size = draw.textsize(word, font=transposed_font)\n",
      "c:\\Users\\rimai\\AppData\\Local\\anaconda3\\lib\\site-packages\\wordcloud\\wordcloud.py:508: DeprecationWarning: textsize is deprecated and will be removed in Pillow 10 (2023-07-01). Use textbbox or textlength instead.\n",
      "  box_size = draw.textsize(word, font=transposed_font)\n",
      "c:\\Users\\rimai\\AppData\\Local\\anaconda3\\lib\\site-packages\\wordcloud\\wordcloud.py:508: DeprecationWarning: textsize is deprecated and will be removed in Pillow 10 (2023-07-01). Use textbbox or textlength instead.\n",
      "  box_size = draw.textsize(word, font=transposed_font)\n",
      "c:\\Users\\rimai\\AppData\\Local\\anaconda3\\lib\\site-packages\\wordcloud\\wordcloud.py:508: DeprecationWarning: textsize is deprecated and will be removed in Pillow 10 (2023-07-01). Use textbbox or textlength instead.\n",
      "  box_size = draw.textsize(word, font=transposed_font)\n",
      "c:\\Users\\rimai\\AppData\\Local\\anaconda3\\lib\\site-packages\\wordcloud\\wordcloud.py:508: DeprecationWarning: textsize is deprecated and will be removed in Pillow 10 (2023-07-01). Use textbbox or textlength instead.\n",
      "  box_size = draw.textsize(word, font=transposed_font)\n",
      "c:\\Users\\rimai\\AppData\\Local\\anaconda3\\lib\\site-packages\\wordcloud\\wordcloud.py:508: DeprecationWarning: textsize is deprecated and will be removed in Pillow 10 (2023-07-01). Use textbbox or textlength instead.\n",
      "  box_size = draw.textsize(word, font=transposed_font)\n",
      "c:\\Users\\rimai\\AppData\\Local\\anaconda3\\lib\\site-packages\\wordcloud\\wordcloud.py:508: DeprecationWarning: textsize is deprecated and will be removed in Pillow 10 (2023-07-01). Use textbbox or textlength instead.\n",
      "  box_size = draw.textsize(word, font=transposed_font)\n",
      "c:\\Users\\rimai\\AppData\\Local\\anaconda3\\lib\\site-packages\\wordcloud\\wordcloud.py:508: DeprecationWarning: textsize is deprecated and will be removed in Pillow 10 (2023-07-01). Use textbbox or textlength instead.\n",
      "  box_size = draw.textsize(word, font=transposed_font)\n",
      "c:\\Users\\rimai\\AppData\\Local\\anaconda3\\lib\\site-packages\\wordcloud\\wordcloud.py:508: DeprecationWarning: textsize is deprecated and will be removed in Pillow 10 (2023-07-01). Use textbbox or textlength instead.\n",
      "  box_size = draw.textsize(word, font=transposed_font)\n",
      "c:\\Users\\rimai\\AppData\\Local\\anaconda3\\lib\\site-packages\\wordcloud\\wordcloud.py:508: DeprecationWarning: textsize is deprecated and will be removed in Pillow 10 (2023-07-01). Use textbbox or textlength instead.\n",
      "  box_size = draw.textsize(word, font=transposed_font)\n",
      "c:\\Users\\rimai\\AppData\\Local\\anaconda3\\lib\\site-packages\\wordcloud\\wordcloud.py:508: DeprecationWarning: textsize is deprecated and will be removed in Pillow 10 (2023-07-01). Use textbbox or textlength instead.\n",
      "  box_size = draw.textsize(word, font=transposed_font)\n",
      "c:\\Users\\rimai\\AppData\\Local\\anaconda3\\lib\\site-packages\\wordcloud\\wordcloud.py:508: DeprecationWarning: textsize is deprecated and will be removed in Pillow 10 (2023-07-01). Use textbbox or textlength instead.\n",
      "  box_size = draw.textsize(word, font=transposed_font)\n",
      "c:\\Users\\rimai\\AppData\\Local\\anaconda3\\lib\\site-packages\\wordcloud\\wordcloud.py:508: DeprecationWarning: textsize is deprecated and will be removed in Pillow 10 (2023-07-01). Use textbbox or textlength instead.\n",
      "  box_size = draw.textsize(word, font=transposed_font)\n",
      "c:\\Users\\rimai\\AppData\\Local\\anaconda3\\lib\\site-packages\\wordcloud\\wordcloud.py:508: DeprecationWarning: textsize is deprecated and will be removed in Pillow 10 (2023-07-01). Use textbbox or textlength instead.\n",
      "  box_size = draw.textsize(word, font=transposed_font)\n",
      "c:\\Users\\rimai\\AppData\\Local\\anaconda3\\lib\\site-packages\\wordcloud\\wordcloud.py:508: DeprecationWarning: textsize is deprecated and will be removed in Pillow 10 (2023-07-01). Use textbbox or textlength instead.\n",
      "  box_size = draw.textsize(word, font=transposed_font)\n",
      "c:\\Users\\rimai\\AppData\\Local\\anaconda3\\lib\\site-packages\\wordcloud\\wordcloud.py:508: DeprecationWarning: textsize is deprecated and will be removed in Pillow 10 (2023-07-01). Use textbbox or textlength instead.\n",
      "  box_size = draw.textsize(word, font=transposed_font)\n",
      "c:\\Users\\rimai\\AppData\\Local\\anaconda3\\lib\\site-packages\\wordcloud\\wordcloud.py:508: DeprecationWarning: textsize is deprecated and will be removed in Pillow 10 (2023-07-01). Use textbbox or textlength instead.\n",
      "  box_size = draw.textsize(word, font=transposed_font)\n",
      "c:\\Users\\rimai\\AppData\\Local\\anaconda3\\lib\\site-packages\\wordcloud\\wordcloud.py:508: DeprecationWarning: textsize is deprecated and will be removed in Pillow 10 (2023-07-01). Use textbbox or textlength instead.\n",
      "  box_size = draw.textsize(word, font=transposed_font)\n",
      "c:\\Users\\rimai\\AppData\\Local\\anaconda3\\lib\\site-packages\\wordcloud\\wordcloud.py:508: DeprecationWarning: textsize is deprecated and will be removed in Pillow 10 (2023-07-01). Use textbbox or textlength instead.\n",
      "  box_size = draw.textsize(word, font=transposed_font)\n",
      "c:\\Users\\rimai\\AppData\\Local\\anaconda3\\lib\\site-packages\\wordcloud\\wordcloud.py:508: DeprecationWarning: textsize is deprecated and will be removed in Pillow 10 (2023-07-01). Use textbbox or textlength instead.\n",
      "  box_size = draw.textsize(word, font=transposed_font)\n",
      "c:\\Users\\rimai\\AppData\\Local\\anaconda3\\lib\\site-packages\\wordcloud\\wordcloud.py:508: DeprecationWarning: textsize is deprecated and will be removed in Pillow 10 (2023-07-01). Use textbbox or textlength instead.\n",
      "  box_size = draw.textsize(word, font=transposed_font)\n",
      "c:\\Users\\rimai\\AppData\\Local\\anaconda3\\lib\\site-packages\\wordcloud\\wordcloud.py:508: DeprecationWarning: textsize is deprecated and will be removed in Pillow 10 (2023-07-01). Use textbbox or textlength instead.\n",
      "  box_size = draw.textsize(word, font=transposed_font)\n",
      "c:\\Users\\rimai\\AppData\\Local\\anaconda3\\lib\\site-packages\\wordcloud\\wordcloud.py:508: DeprecationWarning: textsize is deprecated and will be removed in Pillow 10 (2023-07-01). Use textbbox or textlength instead.\n",
      "  box_size = draw.textsize(word, font=transposed_font)\n",
      "c:\\Users\\rimai\\AppData\\Local\\anaconda3\\lib\\site-packages\\wordcloud\\wordcloud.py:508: DeprecationWarning: textsize is deprecated and will be removed in Pillow 10 (2023-07-01). Use textbbox or textlength instead.\n",
      "  box_size = draw.textsize(word, font=transposed_font)\n",
      "c:\\Users\\rimai\\AppData\\Local\\anaconda3\\lib\\site-packages\\wordcloud\\wordcloud.py:508: DeprecationWarning: textsize is deprecated and will be removed in Pillow 10 (2023-07-01). Use textbbox or textlength instead.\n",
      "  box_size = draw.textsize(word, font=transposed_font)\n",
      "c:\\Users\\rimai\\AppData\\Local\\anaconda3\\lib\\site-packages\\wordcloud\\wordcloud.py:508: DeprecationWarning: textsize is deprecated and will be removed in Pillow 10 (2023-07-01). Use textbbox or textlength instead.\n",
      "  box_size = draw.textsize(word, font=transposed_font)\n",
      "c:\\Users\\rimai\\AppData\\Local\\anaconda3\\lib\\site-packages\\wordcloud\\wordcloud.py:508: DeprecationWarning: textsize is deprecated and will be removed in Pillow 10 (2023-07-01). Use textbbox or textlength instead.\n",
      "  box_size = draw.textsize(word, font=transposed_font)\n",
      "c:\\Users\\rimai\\AppData\\Local\\anaconda3\\lib\\site-packages\\wordcloud\\wordcloud.py:508: DeprecationWarning: textsize is deprecated and will be removed in Pillow 10 (2023-07-01). Use textbbox or textlength instead.\n",
      "  box_size = draw.textsize(word, font=transposed_font)\n",
      "c:\\Users\\rimai\\AppData\\Local\\anaconda3\\lib\\site-packages\\wordcloud\\wordcloud.py:508: DeprecationWarning: textsize is deprecated and will be removed in Pillow 10 (2023-07-01). Use textbbox or textlength instead.\n",
      "  box_size = draw.textsize(word, font=transposed_font)\n",
      "c:\\Users\\rimai\\AppData\\Local\\anaconda3\\lib\\site-packages\\wordcloud\\wordcloud.py:508: DeprecationWarning: textsize is deprecated and will be removed in Pillow 10 (2023-07-01). Use textbbox or textlength instead.\n",
      "  box_size = draw.textsize(word, font=transposed_font)\n",
      "c:\\Users\\rimai\\AppData\\Local\\anaconda3\\lib\\site-packages\\wordcloud\\wordcloud.py:508: DeprecationWarning: textsize is deprecated and will be removed in Pillow 10 (2023-07-01). Use textbbox or textlength instead.\n",
      "  box_size = draw.textsize(word, font=transposed_font)\n",
      "c:\\Users\\rimai\\AppData\\Local\\anaconda3\\lib\\site-packages\\wordcloud\\wordcloud.py:508: DeprecationWarning: textsize is deprecated and will be removed in Pillow 10 (2023-07-01). Use textbbox or textlength instead.\n",
      "  box_size = draw.textsize(word, font=transposed_font)\n",
      "c:\\Users\\rimai\\AppData\\Local\\anaconda3\\lib\\site-packages\\wordcloud\\wordcloud.py:508: DeprecationWarning: textsize is deprecated and will be removed in Pillow 10 (2023-07-01). Use textbbox or textlength instead.\n",
      "  box_size = draw.textsize(word, font=transposed_font)\n",
      "c:\\Users\\rimai\\AppData\\Local\\anaconda3\\lib\\site-packages\\wordcloud\\wordcloud.py:508: DeprecationWarning: textsize is deprecated and will be removed in Pillow 10 (2023-07-01). Use textbbox or textlength instead.\n",
      "  box_size = draw.textsize(word, font=transposed_font)\n",
      "c:\\Users\\rimai\\AppData\\Local\\anaconda3\\lib\\site-packages\\wordcloud\\wordcloud.py:508: DeprecationWarning: textsize is deprecated and will be removed in Pillow 10 (2023-07-01). Use textbbox or textlength instead.\n",
      "  box_size = draw.textsize(word, font=transposed_font)\n",
      "c:\\Users\\rimai\\AppData\\Local\\anaconda3\\lib\\site-packages\\wordcloud\\wordcloud.py:508: DeprecationWarning: textsize is deprecated and will be removed in Pillow 10 (2023-07-01). Use textbbox or textlength instead.\n",
      "  box_size = draw.textsize(word, font=transposed_font)\n",
      "c:\\Users\\rimai\\AppData\\Local\\anaconda3\\lib\\site-packages\\wordcloud\\wordcloud.py:508: DeprecationWarning: textsize is deprecated and will be removed in Pillow 10 (2023-07-01). Use textbbox or textlength instead.\n",
      "  box_size = draw.textsize(word, font=transposed_font)\n",
      "c:\\Users\\rimai\\AppData\\Local\\anaconda3\\lib\\site-packages\\wordcloud\\wordcloud.py:508: DeprecationWarning: textsize is deprecated and will be removed in Pillow 10 (2023-07-01). Use textbbox or textlength instead.\n",
      "  box_size = draw.textsize(word, font=transposed_font)\n",
      "c:\\Users\\rimai\\AppData\\Local\\anaconda3\\lib\\site-packages\\wordcloud\\wordcloud.py:508: DeprecationWarning: textsize is deprecated and will be removed in Pillow 10 (2023-07-01). Use textbbox or textlength instead.\n",
      "  box_size = draw.textsize(word, font=transposed_font)\n",
      "c:\\Users\\rimai\\AppData\\Local\\anaconda3\\lib\\site-packages\\wordcloud\\wordcloud.py:508: DeprecationWarning: textsize is deprecated and will be removed in Pillow 10 (2023-07-01). Use textbbox or textlength instead.\n",
      "  box_size = draw.textsize(word, font=transposed_font)\n",
      "c:\\Users\\rimai\\AppData\\Local\\anaconda3\\lib\\site-packages\\wordcloud\\wordcloud.py:508: DeprecationWarning: textsize is deprecated and will be removed in Pillow 10 (2023-07-01). Use textbbox or textlength instead.\n",
      "  box_size = draw.textsize(word, font=transposed_font)\n",
      "c:\\Users\\rimai\\AppData\\Local\\anaconda3\\lib\\site-packages\\wordcloud\\wordcloud.py:508: DeprecationWarning: textsize is deprecated and will be removed in Pillow 10 (2023-07-01). Use textbbox or textlength instead.\n",
      "  box_size = draw.textsize(word, font=transposed_font)\n",
      "c:\\Users\\rimai\\AppData\\Local\\anaconda3\\lib\\site-packages\\wordcloud\\wordcloud.py:508: DeprecationWarning: textsize is deprecated and will be removed in Pillow 10 (2023-07-01). Use textbbox or textlength instead.\n",
      "  box_size = draw.textsize(word, font=transposed_font)\n",
      "c:\\Users\\rimai\\AppData\\Local\\anaconda3\\lib\\site-packages\\wordcloud\\wordcloud.py:508: DeprecationWarning: textsize is deprecated and will be removed in Pillow 10 (2023-07-01). Use textbbox or textlength instead.\n",
      "  box_size = draw.textsize(word, font=transposed_font)\n",
      "c:\\Users\\rimai\\AppData\\Local\\anaconda3\\lib\\site-packages\\wordcloud\\wordcloud.py:508: DeprecationWarning: textsize is deprecated and will be removed in Pillow 10 (2023-07-01). Use textbbox or textlength instead.\n",
      "  box_size = draw.textsize(word, font=transposed_font)\n",
      "c:\\Users\\rimai\\AppData\\Local\\anaconda3\\lib\\site-packages\\wordcloud\\wordcloud.py:508: DeprecationWarning: textsize is deprecated and will be removed in Pillow 10 (2023-07-01). Use textbbox or textlength instead.\n",
      "  box_size = draw.textsize(word, font=transposed_font)\n",
      "c:\\Users\\rimai\\AppData\\Local\\anaconda3\\lib\\site-packages\\wordcloud\\wordcloud.py:508: DeprecationWarning: textsize is deprecated and will be removed in Pillow 10 (2023-07-01). Use textbbox or textlength instead.\n",
      "  box_size = draw.textsize(word, font=transposed_font)\n",
      "c:\\Users\\rimai\\AppData\\Local\\anaconda3\\lib\\site-packages\\wordcloud\\wordcloud.py:508: DeprecationWarning: textsize is deprecated and will be removed in Pillow 10 (2023-07-01). Use textbbox or textlength instead.\n",
      "  box_size = draw.textsize(word, font=transposed_font)\n",
      "c:\\Users\\rimai\\AppData\\Local\\anaconda3\\lib\\site-packages\\wordcloud\\wordcloud.py:508: DeprecationWarning: textsize is deprecated and will be removed in Pillow 10 (2023-07-01). Use textbbox or textlength instead.\n",
      "  box_size = draw.textsize(word, font=transposed_font)\n",
      "c:\\Users\\rimai\\AppData\\Local\\anaconda3\\lib\\site-packages\\wordcloud\\wordcloud.py:508: DeprecationWarning: textsize is deprecated and will be removed in Pillow 10 (2023-07-01). Use textbbox or textlength instead.\n",
      "  box_size = draw.textsize(word, font=transposed_font)\n",
      "c:\\Users\\rimai\\AppData\\Local\\anaconda3\\lib\\site-packages\\wordcloud\\wordcloud.py:508: DeprecationWarning: textsize is deprecated and will be removed in Pillow 10 (2023-07-01). Use textbbox or textlength instead.\n",
      "  box_size = draw.textsize(word, font=transposed_font)\n",
      "c:\\Users\\rimai\\AppData\\Local\\anaconda3\\lib\\site-packages\\wordcloud\\wordcloud.py:508: DeprecationWarning: textsize is deprecated and will be removed in Pillow 10 (2023-07-01). Use textbbox or textlength instead.\n",
      "  box_size = draw.textsize(word, font=transposed_font)\n",
      "c:\\Users\\rimai\\AppData\\Local\\anaconda3\\lib\\site-packages\\wordcloud\\wordcloud.py:508: DeprecationWarning: textsize is deprecated and will be removed in Pillow 10 (2023-07-01). Use textbbox or textlength instead.\n",
      "  box_size = draw.textsize(word, font=transposed_font)\n",
      "c:\\Users\\rimai\\AppData\\Local\\anaconda3\\lib\\site-packages\\wordcloud\\wordcloud.py:508: DeprecationWarning: textsize is deprecated and will be removed in Pillow 10 (2023-07-01). Use textbbox or textlength instead.\n",
      "  box_size = draw.textsize(word, font=transposed_font)\n",
      "c:\\Users\\rimai\\AppData\\Local\\anaconda3\\lib\\site-packages\\wordcloud\\wordcloud.py:508: DeprecationWarning: textsize is deprecated and will be removed in Pillow 10 (2023-07-01). Use textbbox or textlength instead.\n",
      "  box_size = draw.textsize(word, font=transposed_font)\n",
      "c:\\Users\\rimai\\AppData\\Local\\anaconda3\\lib\\site-packages\\wordcloud\\wordcloud.py:508: DeprecationWarning: textsize is deprecated and will be removed in Pillow 10 (2023-07-01). Use textbbox or textlength instead.\n",
      "  box_size = draw.textsize(word, font=transposed_font)\n",
      "c:\\Users\\rimai\\AppData\\Local\\anaconda3\\lib\\site-packages\\wordcloud\\wordcloud.py:508: DeprecationWarning: textsize is deprecated and will be removed in Pillow 10 (2023-07-01). Use textbbox or textlength instead.\n",
      "  box_size = draw.textsize(word, font=transposed_font)\n",
      "c:\\Users\\rimai\\AppData\\Local\\anaconda3\\lib\\site-packages\\wordcloud\\wordcloud.py:508: DeprecationWarning: textsize is deprecated and will be removed in Pillow 10 (2023-07-01). Use textbbox or textlength instead.\n",
      "  box_size = draw.textsize(word, font=transposed_font)\n",
      "c:\\Users\\rimai\\AppData\\Local\\anaconda3\\lib\\site-packages\\wordcloud\\wordcloud.py:508: DeprecationWarning: textsize is deprecated and will be removed in Pillow 10 (2023-07-01). Use textbbox or textlength instead.\n",
      "  box_size = draw.textsize(word, font=transposed_font)\n",
      "c:\\Users\\rimai\\AppData\\Local\\anaconda3\\lib\\site-packages\\wordcloud\\wordcloud.py:508: DeprecationWarning: textsize is deprecated and will be removed in Pillow 10 (2023-07-01). Use textbbox or textlength instead.\n",
      "  box_size = draw.textsize(word, font=transposed_font)\n",
      "c:\\Users\\rimai\\AppData\\Local\\anaconda3\\lib\\site-packages\\wordcloud\\wordcloud.py:508: DeprecationWarning: textsize is deprecated and will be removed in Pillow 10 (2023-07-01). Use textbbox or textlength instead.\n",
      "  box_size = draw.textsize(word, font=transposed_font)\n",
      "c:\\Users\\rimai\\AppData\\Local\\anaconda3\\lib\\site-packages\\wordcloud\\wordcloud.py:508: DeprecationWarning: textsize is deprecated and will be removed in Pillow 10 (2023-07-01). Use textbbox or textlength instead.\n",
      "  box_size = draw.textsize(word, font=transposed_font)\n",
      "c:\\Users\\rimai\\AppData\\Local\\anaconda3\\lib\\site-packages\\wordcloud\\wordcloud.py:508: DeprecationWarning: textsize is deprecated and will be removed in Pillow 10 (2023-07-01). Use textbbox or textlength instead.\n",
      "  box_size = draw.textsize(word, font=transposed_font)\n",
      "c:\\Users\\rimai\\AppData\\Local\\anaconda3\\lib\\site-packages\\wordcloud\\wordcloud.py:508: DeprecationWarning: textsize is deprecated and will be removed in Pillow 10 (2023-07-01). Use textbbox or textlength instead.\n",
      "  box_size = draw.textsize(word, font=transposed_font)\n",
      "c:\\Users\\rimai\\AppData\\Local\\anaconda3\\lib\\site-packages\\wordcloud\\wordcloud.py:508: DeprecationWarning: textsize is deprecated and will be removed in Pillow 10 (2023-07-01). Use textbbox or textlength instead.\n",
      "  box_size = draw.textsize(word, font=transposed_font)\n",
      "c:\\Users\\rimai\\AppData\\Local\\anaconda3\\lib\\site-packages\\wordcloud\\wordcloud.py:508: DeprecationWarning: textsize is deprecated and will be removed in Pillow 10 (2023-07-01). Use textbbox or textlength instead.\n",
      "  box_size = draw.textsize(word, font=transposed_font)\n",
      "c:\\Users\\rimai\\AppData\\Local\\anaconda3\\lib\\site-packages\\wordcloud\\wordcloud.py:508: DeprecationWarning: textsize is deprecated and will be removed in Pillow 10 (2023-07-01). Use textbbox or textlength instead.\n",
      "  box_size = draw.textsize(word, font=transposed_font)\n",
      "c:\\Users\\rimai\\AppData\\Local\\anaconda3\\lib\\site-packages\\wordcloud\\wordcloud.py:508: DeprecationWarning: textsize is deprecated and will be removed in Pillow 10 (2023-07-01). Use textbbox or textlength instead.\n",
      "  box_size = draw.textsize(word, font=transposed_font)\n",
      "c:\\Users\\rimai\\AppData\\Local\\anaconda3\\lib\\site-packages\\wordcloud\\wordcloud.py:508: DeprecationWarning: textsize is deprecated and will be removed in Pillow 10 (2023-07-01). Use textbbox or textlength instead.\n",
      "  box_size = draw.textsize(word, font=transposed_font)\n",
      "c:\\Users\\rimai\\AppData\\Local\\anaconda3\\lib\\site-packages\\wordcloud\\wordcloud.py:508: DeprecationWarning: textsize is deprecated and will be removed in Pillow 10 (2023-07-01). Use textbbox or textlength instead.\n",
      "  box_size = draw.textsize(word, font=transposed_font)\n",
      "c:\\Users\\rimai\\AppData\\Local\\anaconda3\\lib\\site-packages\\wordcloud\\wordcloud.py:508: DeprecationWarning: textsize is deprecated and will be removed in Pillow 10 (2023-07-01). Use textbbox or textlength instead.\n",
      "  box_size = draw.textsize(word, font=transposed_font)\n",
      "c:\\Users\\rimai\\AppData\\Local\\anaconda3\\lib\\site-packages\\wordcloud\\wordcloud.py:508: DeprecationWarning: textsize is deprecated and will be removed in Pillow 10 (2023-07-01). Use textbbox or textlength instead.\n",
      "  box_size = draw.textsize(word, font=transposed_font)\n",
      "c:\\Users\\rimai\\AppData\\Local\\anaconda3\\lib\\site-packages\\wordcloud\\wordcloud.py:508: DeprecationWarning: textsize is deprecated and will be removed in Pillow 10 (2023-07-01). Use textbbox or textlength instead.\n",
      "  box_size = draw.textsize(word, font=transposed_font)\n",
      "c:\\Users\\rimai\\AppData\\Local\\anaconda3\\lib\\site-packages\\wordcloud\\wordcloud.py:508: DeprecationWarning: textsize is deprecated and will be removed in Pillow 10 (2023-07-01). Use textbbox or textlength instead.\n",
      "  box_size = draw.textsize(word, font=transposed_font)\n",
      "c:\\Users\\rimai\\AppData\\Local\\anaconda3\\lib\\site-packages\\wordcloud\\wordcloud.py:508: DeprecationWarning: textsize is deprecated and will be removed in Pillow 10 (2023-07-01). Use textbbox or textlength instead.\n",
      "  box_size = draw.textsize(word, font=transposed_font)\n",
      "c:\\Users\\rimai\\AppData\\Local\\anaconda3\\lib\\site-packages\\wordcloud\\wordcloud.py:508: DeprecationWarning: textsize is deprecated and will be removed in Pillow 10 (2023-07-01). Use textbbox or textlength instead.\n",
      "  box_size = draw.textsize(word, font=transposed_font)\n",
      "c:\\Users\\rimai\\AppData\\Local\\anaconda3\\lib\\site-packages\\wordcloud\\wordcloud.py:508: DeprecationWarning: textsize is deprecated and will be removed in Pillow 10 (2023-07-01). Use textbbox or textlength instead.\n",
      "  box_size = draw.textsize(word, font=transposed_font)\n",
      "c:\\Users\\rimai\\AppData\\Local\\anaconda3\\lib\\site-packages\\wordcloud\\wordcloud.py:508: DeprecationWarning: textsize is deprecated and will be removed in Pillow 10 (2023-07-01). Use textbbox or textlength instead.\n",
      "  box_size = draw.textsize(word, font=transposed_font)\n",
      "c:\\Users\\rimai\\AppData\\Local\\anaconda3\\lib\\site-packages\\wordcloud\\wordcloud.py:508: DeprecationWarning: textsize is deprecated and will be removed in Pillow 10 (2023-07-01). Use textbbox or textlength instead.\n",
      "  box_size = draw.textsize(word, font=transposed_font)\n",
      "c:\\Users\\rimai\\AppData\\Local\\anaconda3\\lib\\site-packages\\wordcloud\\wordcloud.py:508: DeprecationWarning: textsize is deprecated and will be removed in Pillow 10 (2023-07-01). Use textbbox or textlength instead.\n",
      "  box_size = draw.textsize(word, font=transposed_font)\n",
      "c:\\Users\\rimai\\AppData\\Local\\anaconda3\\lib\\site-packages\\wordcloud\\wordcloud.py:508: DeprecationWarning: textsize is deprecated and will be removed in Pillow 10 (2023-07-01). Use textbbox or textlength instead.\n",
      "  box_size = draw.textsize(word, font=transposed_font)\n",
      "c:\\Users\\rimai\\AppData\\Local\\anaconda3\\lib\\site-packages\\wordcloud\\wordcloud.py:508: DeprecationWarning: textsize is deprecated and will be removed in Pillow 10 (2023-07-01). Use textbbox or textlength instead.\n",
      "  box_size = draw.textsize(word, font=transposed_font)\n",
      "c:\\Users\\rimai\\AppData\\Local\\anaconda3\\lib\\site-packages\\wordcloud\\wordcloud.py:508: DeprecationWarning: textsize is deprecated and will be removed in Pillow 10 (2023-07-01). Use textbbox or textlength instead.\n",
      "  box_size = draw.textsize(word, font=transposed_font)\n",
      "c:\\Users\\rimai\\AppData\\Local\\anaconda3\\lib\\site-packages\\wordcloud\\wordcloud.py:508: DeprecationWarning: textsize is deprecated and will be removed in Pillow 10 (2023-07-01). Use textbbox or textlength instead.\n",
      "  box_size = draw.textsize(word, font=transposed_font)\n",
      "c:\\Users\\rimai\\AppData\\Local\\anaconda3\\lib\\site-packages\\wordcloud\\wordcloud.py:508: DeprecationWarning: textsize is deprecated and will be removed in Pillow 10 (2023-07-01). Use textbbox or textlength instead.\n",
      "  box_size = draw.textsize(word, font=transposed_font)\n",
      "c:\\Users\\rimai\\AppData\\Local\\anaconda3\\lib\\site-packages\\wordcloud\\wordcloud.py:508: DeprecationWarning: textsize is deprecated and will be removed in Pillow 10 (2023-07-01). Use textbbox or textlength instead.\n",
      "  box_size = draw.textsize(word, font=transposed_font)\n",
      "c:\\Users\\rimai\\AppData\\Local\\anaconda3\\lib\\site-packages\\wordcloud\\wordcloud.py:508: DeprecationWarning: textsize is deprecated and will be removed in Pillow 10 (2023-07-01). Use textbbox or textlength instead.\n",
      "  box_size = draw.textsize(word, font=transposed_font)\n",
      "c:\\Users\\rimai\\AppData\\Local\\anaconda3\\lib\\site-packages\\wordcloud\\wordcloud.py:508: DeprecationWarning: textsize is deprecated and will be removed in Pillow 10 (2023-07-01). Use textbbox or textlength instead.\n",
      "  box_size = draw.textsize(word, font=transposed_font)\n",
      "c:\\Users\\rimai\\AppData\\Local\\anaconda3\\lib\\site-packages\\wordcloud\\wordcloud.py:508: DeprecationWarning: textsize is deprecated and will be removed in Pillow 10 (2023-07-01). Use textbbox or textlength instead.\n",
      "  box_size = draw.textsize(word, font=transposed_font)\n",
      "c:\\Users\\rimai\\AppData\\Local\\anaconda3\\lib\\site-packages\\wordcloud\\wordcloud.py:508: DeprecationWarning: textsize is deprecated and will be removed in Pillow 10 (2023-07-01). Use textbbox or textlength instead.\n",
      "  box_size = draw.textsize(word, font=transposed_font)\n",
      "c:\\Users\\rimai\\AppData\\Local\\anaconda3\\lib\\site-packages\\wordcloud\\wordcloud.py:508: DeprecationWarning: textsize is deprecated and will be removed in Pillow 10 (2023-07-01). Use textbbox or textlength instead.\n",
      "  box_size = draw.textsize(word, font=transposed_font)\n",
      "c:\\Users\\rimai\\AppData\\Local\\anaconda3\\lib\\site-packages\\wordcloud\\wordcloud.py:508: DeprecationWarning: textsize is deprecated and will be removed in Pillow 10 (2023-07-01). Use textbbox or textlength instead.\n",
      "  box_size = draw.textsize(word, font=transposed_font)\n",
      "c:\\Users\\rimai\\AppData\\Local\\anaconda3\\lib\\site-packages\\wordcloud\\wordcloud.py:508: DeprecationWarning: textsize is deprecated and will be removed in Pillow 10 (2023-07-01). Use textbbox or textlength instead.\n",
      "  box_size = draw.textsize(word, font=transposed_font)\n",
      "c:\\Users\\rimai\\AppData\\Local\\anaconda3\\lib\\site-packages\\wordcloud\\wordcloud.py:508: DeprecationWarning: textsize is deprecated and will be removed in Pillow 10 (2023-07-01). Use textbbox or textlength instead.\n",
      "  box_size = draw.textsize(word, font=transposed_font)\n",
      "c:\\Users\\rimai\\AppData\\Local\\anaconda3\\lib\\site-packages\\wordcloud\\wordcloud.py:508: DeprecationWarning: textsize is deprecated and will be removed in Pillow 10 (2023-07-01). Use textbbox or textlength instead.\n",
      "  box_size = draw.textsize(word, font=transposed_font)\n",
      "c:\\Users\\rimai\\AppData\\Local\\anaconda3\\lib\\site-packages\\wordcloud\\wordcloud.py:508: DeprecationWarning: textsize is deprecated and will be removed in Pillow 10 (2023-07-01). Use textbbox or textlength instead.\n",
      "  box_size = draw.textsize(word, font=transposed_font)\n",
      "c:\\Users\\rimai\\AppData\\Local\\anaconda3\\lib\\site-packages\\wordcloud\\wordcloud.py:508: DeprecationWarning: textsize is deprecated and will be removed in Pillow 10 (2023-07-01). Use textbbox or textlength instead.\n",
      "  box_size = draw.textsize(word, font=transposed_font)\n",
      "c:\\Users\\rimai\\AppData\\Local\\anaconda3\\lib\\site-packages\\wordcloud\\wordcloud.py:508: DeprecationWarning: textsize is deprecated and will be removed in Pillow 10 (2023-07-01). Use textbbox or textlength instead.\n",
      "  box_size = draw.textsize(word, font=transposed_font)\n",
      "c:\\Users\\rimai\\AppData\\Local\\anaconda3\\lib\\site-packages\\wordcloud\\wordcloud.py:508: DeprecationWarning: textsize is deprecated and will be removed in Pillow 10 (2023-07-01). Use textbbox or textlength instead.\n",
      "  box_size = draw.textsize(word, font=transposed_font)\n",
      "c:\\Users\\rimai\\AppData\\Local\\anaconda3\\lib\\site-packages\\wordcloud\\wordcloud.py:508: DeprecationWarning: textsize is deprecated and will be removed in Pillow 10 (2023-07-01). Use textbbox or textlength instead.\n",
      "  box_size = draw.textsize(word, font=transposed_font)\n",
      "c:\\Users\\rimai\\AppData\\Local\\anaconda3\\lib\\site-packages\\wordcloud\\wordcloud.py:508: DeprecationWarning: textsize is deprecated and will be removed in Pillow 10 (2023-07-01). Use textbbox or textlength instead.\n",
      "  box_size = draw.textsize(word, font=transposed_font)\n",
      "c:\\Users\\rimai\\AppData\\Local\\anaconda3\\lib\\site-packages\\wordcloud\\wordcloud.py:508: DeprecationWarning: textsize is deprecated and will be removed in Pillow 10 (2023-07-01). Use textbbox or textlength instead.\n",
      "  box_size = draw.textsize(word, font=transposed_font)\n",
      "c:\\Users\\rimai\\AppData\\Local\\anaconda3\\lib\\site-packages\\wordcloud\\wordcloud.py:508: DeprecationWarning: textsize is deprecated and will be removed in Pillow 10 (2023-07-01). Use textbbox or textlength instead.\n",
      "  box_size = draw.textsize(word, font=transposed_font)\n",
      "c:\\Users\\rimai\\AppData\\Local\\anaconda3\\lib\\site-packages\\wordcloud\\wordcloud.py:508: DeprecationWarning: textsize is deprecated and will be removed in Pillow 10 (2023-07-01). Use textbbox or textlength instead.\n",
      "  box_size = draw.textsize(word, font=transposed_font)\n",
      "c:\\Users\\rimai\\AppData\\Local\\anaconda3\\lib\\site-packages\\wordcloud\\wordcloud.py:508: DeprecationWarning: textsize is deprecated and will be removed in Pillow 10 (2023-07-01). Use textbbox or textlength instead.\n",
      "  box_size = draw.textsize(word, font=transposed_font)\n",
      "c:\\Users\\rimai\\AppData\\Local\\anaconda3\\lib\\site-packages\\wordcloud\\wordcloud.py:508: DeprecationWarning: textsize is deprecated and will be removed in Pillow 10 (2023-07-01). Use textbbox or textlength instead.\n",
      "  box_size = draw.textsize(word, font=transposed_font)\n",
      "c:\\Users\\rimai\\AppData\\Local\\anaconda3\\lib\\site-packages\\wordcloud\\wordcloud.py:508: DeprecationWarning: textsize is deprecated and will be removed in Pillow 10 (2023-07-01). Use textbbox or textlength instead.\n",
      "  box_size = draw.textsize(word, font=transposed_font)\n",
      "c:\\Users\\rimai\\AppData\\Local\\anaconda3\\lib\\site-packages\\wordcloud\\wordcloud.py:508: DeprecationWarning: textsize is deprecated and will be removed in Pillow 10 (2023-07-01). Use textbbox or textlength instead.\n",
      "  box_size = draw.textsize(word, font=transposed_font)\n",
      "c:\\Users\\rimai\\AppData\\Local\\anaconda3\\lib\\site-packages\\wordcloud\\wordcloud.py:508: DeprecationWarning: textsize is deprecated and will be removed in Pillow 10 (2023-07-01). Use textbbox or textlength instead.\n",
      "  box_size = draw.textsize(word, font=transposed_font)\n",
      "c:\\Users\\rimai\\AppData\\Local\\anaconda3\\lib\\site-packages\\wordcloud\\wordcloud.py:508: DeprecationWarning: textsize is deprecated and will be removed in Pillow 10 (2023-07-01). Use textbbox or textlength instead.\n",
      "  box_size = draw.textsize(word, font=transposed_font)\n",
      "c:\\Users\\rimai\\AppData\\Local\\anaconda3\\lib\\site-packages\\wordcloud\\wordcloud.py:508: DeprecationWarning: textsize is deprecated and will be removed in Pillow 10 (2023-07-01). Use textbbox or textlength instead.\n",
      "  box_size = draw.textsize(word, font=transposed_font)\n",
      "c:\\Users\\rimai\\AppData\\Local\\anaconda3\\lib\\site-packages\\wordcloud\\wordcloud.py:508: DeprecationWarning: textsize is deprecated and will be removed in Pillow 10 (2023-07-01). Use textbbox or textlength instead.\n",
      "  box_size = draw.textsize(word, font=transposed_font)\n",
      "c:\\Users\\rimai\\AppData\\Local\\anaconda3\\lib\\site-packages\\wordcloud\\wordcloud.py:508: DeprecationWarning: textsize is deprecated and will be removed in Pillow 10 (2023-07-01). Use textbbox or textlength instead.\n",
      "  box_size = draw.textsize(word, font=transposed_font)\n",
      "c:\\Users\\rimai\\AppData\\Local\\anaconda3\\lib\\site-packages\\wordcloud\\wordcloud.py:508: DeprecationWarning: textsize is deprecated and will be removed in Pillow 10 (2023-07-01). Use textbbox or textlength instead.\n",
      "  box_size = draw.textsize(word, font=transposed_font)\n",
      "c:\\Users\\rimai\\AppData\\Local\\anaconda3\\lib\\site-packages\\wordcloud\\wordcloud.py:508: DeprecationWarning: textsize is deprecated and will be removed in Pillow 10 (2023-07-01). Use textbbox or textlength instead.\n",
      "  box_size = draw.textsize(word, font=transposed_font)\n",
      "c:\\Users\\rimai\\AppData\\Local\\anaconda3\\lib\\site-packages\\wordcloud\\wordcloud.py:508: DeprecationWarning: textsize is deprecated and will be removed in Pillow 10 (2023-07-01). Use textbbox or textlength instead.\n",
      "  box_size = draw.textsize(word, font=transposed_font)\n",
      "c:\\Users\\rimai\\AppData\\Local\\anaconda3\\lib\\site-packages\\wordcloud\\wordcloud.py:508: DeprecationWarning: textsize is deprecated and will be removed in Pillow 10 (2023-07-01). Use textbbox or textlength instead.\n",
      "  box_size = draw.textsize(word, font=transposed_font)\n",
      "c:\\Users\\rimai\\AppData\\Local\\anaconda3\\lib\\site-packages\\wordcloud\\wordcloud.py:508: DeprecationWarning: textsize is deprecated and will be removed in Pillow 10 (2023-07-01). Use textbbox or textlength instead.\n",
      "  box_size = draw.textsize(word, font=transposed_font)\n",
      "c:\\Users\\rimai\\AppData\\Local\\anaconda3\\lib\\site-packages\\wordcloud\\wordcloud.py:508: DeprecationWarning: textsize is deprecated and will be removed in Pillow 10 (2023-07-01). Use textbbox or textlength instead.\n",
      "  box_size = draw.textsize(word, font=transposed_font)\n",
      "c:\\Users\\rimai\\AppData\\Local\\anaconda3\\lib\\site-packages\\wordcloud\\wordcloud.py:508: DeprecationWarning: textsize is deprecated and will be removed in Pillow 10 (2023-07-01). Use textbbox or textlength instead.\n",
      "  box_size = draw.textsize(word, font=transposed_font)\n",
      "c:\\Users\\rimai\\AppData\\Local\\anaconda3\\lib\\site-packages\\wordcloud\\wordcloud.py:508: DeprecationWarning: textsize is deprecated and will be removed in Pillow 10 (2023-07-01). Use textbbox or textlength instead.\n",
      "  box_size = draw.textsize(word, font=transposed_font)\n",
      "c:\\Users\\rimai\\AppData\\Local\\anaconda3\\lib\\site-packages\\wordcloud\\wordcloud.py:508: DeprecationWarning: textsize is deprecated and will be removed in Pillow 10 (2023-07-01). Use textbbox or textlength instead.\n",
      "  box_size = draw.textsize(word, font=transposed_font)\n",
      "c:\\Users\\rimai\\AppData\\Local\\anaconda3\\lib\\site-packages\\wordcloud\\wordcloud.py:508: DeprecationWarning: textsize is deprecated and will be removed in Pillow 10 (2023-07-01). Use textbbox or textlength instead.\n",
      "  box_size = draw.textsize(word, font=transposed_font)\n",
      "c:\\Users\\rimai\\AppData\\Local\\anaconda3\\lib\\site-packages\\wordcloud\\wordcloud.py:508: DeprecationWarning: textsize is deprecated and will be removed in Pillow 10 (2023-07-01). Use textbbox or textlength instead.\n",
      "  box_size = draw.textsize(word, font=transposed_font)\n",
      "c:\\Users\\rimai\\AppData\\Local\\anaconda3\\lib\\site-packages\\wordcloud\\wordcloud.py:508: DeprecationWarning: textsize is deprecated and will be removed in Pillow 10 (2023-07-01). Use textbbox or textlength instead.\n",
      "  box_size = draw.textsize(word, font=transposed_font)\n",
      "c:\\Users\\rimai\\AppData\\Local\\anaconda3\\lib\\site-packages\\wordcloud\\wordcloud.py:508: DeprecationWarning: textsize is deprecated and will be removed in Pillow 10 (2023-07-01). Use textbbox or textlength instead.\n",
      "  box_size = draw.textsize(word, font=transposed_font)\n",
      "c:\\Users\\rimai\\AppData\\Local\\anaconda3\\lib\\site-packages\\wordcloud\\wordcloud.py:508: DeprecationWarning: textsize is deprecated and will be removed in Pillow 10 (2023-07-01). Use textbbox or textlength instead.\n",
      "  box_size = draw.textsize(word, font=transposed_font)\n",
      "c:\\Users\\rimai\\AppData\\Local\\anaconda3\\lib\\site-packages\\wordcloud\\wordcloud.py:508: DeprecationWarning: textsize is deprecated and will be removed in Pillow 10 (2023-07-01). Use textbbox or textlength instead.\n",
      "  box_size = draw.textsize(word, font=transposed_font)\n",
      "c:\\Users\\rimai\\AppData\\Local\\anaconda3\\lib\\site-packages\\wordcloud\\wordcloud.py:508: DeprecationWarning: textsize is deprecated and will be removed in Pillow 10 (2023-07-01). Use textbbox or textlength instead.\n",
      "  box_size = draw.textsize(word, font=transposed_font)\n",
      "c:\\Users\\rimai\\AppData\\Local\\anaconda3\\lib\\site-packages\\wordcloud\\wordcloud.py:508: DeprecationWarning: textsize is deprecated and will be removed in Pillow 10 (2023-07-01). Use textbbox or textlength instead.\n",
      "  box_size = draw.textsize(word, font=transposed_font)\n",
      "c:\\Users\\rimai\\AppData\\Local\\anaconda3\\lib\\site-packages\\wordcloud\\wordcloud.py:508: DeprecationWarning: textsize is deprecated and will be removed in Pillow 10 (2023-07-01). Use textbbox or textlength instead.\n",
      "  box_size = draw.textsize(word, font=transposed_font)\n",
      "c:\\Users\\rimai\\AppData\\Local\\anaconda3\\lib\\site-packages\\wordcloud\\wordcloud.py:508: DeprecationWarning: textsize is deprecated and will be removed in Pillow 10 (2023-07-01). Use textbbox or textlength instead.\n",
      "  box_size = draw.textsize(word, font=transposed_font)\n",
      "c:\\Users\\rimai\\AppData\\Local\\anaconda3\\lib\\site-packages\\wordcloud\\wordcloud.py:508: DeprecationWarning: textsize is deprecated and will be removed in Pillow 10 (2023-07-01). Use textbbox or textlength instead.\n",
      "  box_size = draw.textsize(word, font=transposed_font)\n",
      "c:\\Users\\rimai\\AppData\\Local\\anaconda3\\lib\\site-packages\\wordcloud\\wordcloud.py:508: DeprecationWarning: textsize is deprecated and will be removed in Pillow 10 (2023-07-01). Use textbbox or textlength instead.\n",
      "  box_size = draw.textsize(word, font=transposed_font)\n",
      "c:\\Users\\rimai\\AppData\\Local\\anaconda3\\lib\\site-packages\\wordcloud\\wordcloud.py:508: DeprecationWarning: textsize is deprecated and will be removed in Pillow 10 (2023-07-01). Use textbbox or textlength instead.\n",
      "  box_size = draw.textsize(word, font=transposed_font)\n",
      "c:\\Users\\rimai\\AppData\\Local\\anaconda3\\lib\\site-packages\\wordcloud\\wordcloud.py:508: DeprecationWarning: textsize is deprecated and will be removed in Pillow 10 (2023-07-01). Use textbbox or textlength instead.\n",
      "  box_size = draw.textsize(word, font=transposed_font)\n",
      "c:\\Users\\rimai\\AppData\\Local\\anaconda3\\lib\\site-packages\\wordcloud\\wordcloud.py:508: DeprecationWarning: textsize is deprecated and will be removed in Pillow 10 (2023-07-01). Use textbbox or textlength instead.\n",
      "  box_size = draw.textsize(word, font=transposed_font)\n",
      "c:\\Users\\rimai\\AppData\\Local\\anaconda3\\lib\\site-packages\\wordcloud\\wordcloud.py:508: DeprecationWarning: textsize is deprecated and will be removed in Pillow 10 (2023-07-01). Use textbbox or textlength instead.\n",
      "  box_size = draw.textsize(word, font=transposed_font)\n",
      "c:\\Users\\rimai\\AppData\\Local\\anaconda3\\lib\\site-packages\\wordcloud\\wordcloud.py:508: DeprecationWarning: textsize is deprecated and will be removed in Pillow 10 (2023-07-01). Use textbbox or textlength instead.\n",
      "  box_size = draw.textsize(word, font=transposed_font)\n",
      "c:\\Users\\rimai\\AppData\\Local\\anaconda3\\lib\\site-packages\\wordcloud\\wordcloud.py:508: DeprecationWarning: textsize is deprecated and will be removed in Pillow 10 (2023-07-01). Use textbbox or textlength instead.\n",
      "  box_size = draw.textsize(word, font=transposed_font)\n",
      "c:\\Users\\rimai\\AppData\\Local\\anaconda3\\lib\\site-packages\\wordcloud\\wordcloud.py:508: DeprecationWarning: textsize is deprecated and will be removed in Pillow 10 (2023-07-01). Use textbbox or textlength instead.\n",
      "  box_size = draw.textsize(word, font=transposed_font)\n",
      "c:\\Users\\rimai\\AppData\\Local\\anaconda3\\lib\\site-packages\\wordcloud\\wordcloud.py:508: DeprecationWarning: textsize is deprecated and will be removed in Pillow 10 (2023-07-01). Use textbbox or textlength instead.\n",
      "  box_size = draw.textsize(word, font=transposed_font)\n",
      "c:\\Users\\rimai\\AppData\\Local\\anaconda3\\lib\\site-packages\\wordcloud\\wordcloud.py:508: DeprecationWarning: textsize is deprecated and will be removed in Pillow 10 (2023-07-01). Use textbbox or textlength instead.\n",
      "  box_size = draw.textsize(word, font=transposed_font)\n",
      "c:\\Users\\rimai\\AppData\\Local\\anaconda3\\lib\\site-packages\\wordcloud\\wordcloud.py:508: DeprecationWarning: textsize is deprecated and will be removed in Pillow 10 (2023-07-01). Use textbbox or textlength instead.\n",
      "  box_size = draw.textsize(word, font=transposed_font)\n",
      "c:\\Users\\rimai\\AppData\\Local\\anaconda3\\lib\\site-packages\\wordcloud\\wordcloud.py:508: DeprecationWarning: textsize is deprecated and will be removed in Pillow 10 (2023-07-01). Use textbbox or textlength instead.\n",
      "  box_size = draw.textsize(word, font=transposed_font)\n",
      "c:\\Users\\rimai\\AppData\\Local\\anaconda3\\lib\\site-packages\\wordcloud\\wordcloud.py:508: DeprecationWarning: textsize is deprecated and will be removed in Pillow 10 (2023-07-01). Use textbbox or textlength instead.\n",
      "  box_size = draw.textsize(word, font=transposed_font)\n",
      "c:\\Users\\rimai\\AppData\\Local\\anaconda3\\lib\\site-packages\\wordcloud\\wordcloud.py:508: DeprecationWarning: textsize is deprecated and will be removed in Pillow 10 (2023-07-01). Use textbbox or textlength instead.\n",
      "  box_size = draw.textsize(word, font=transposed_font)\n",
      "c:\\Users\\rimai\\AppData\\Local\\anaconda3\\lib\\site-packages\\wordcloud\\wordcloud.py:508: DeprecationWarning: textsize is deprecated and will be removed in Pillow 10 (2023-07-01). Use textbbox or textlength instead.\n",
      "  box_size = draw.textsize(word, font=transposed_font)\n",
      "c:\\Users\\rimai\\AppData\\Local\\anaconda3\\lib\\site-packages\\wordcloud\\wordcloud.py:508: DeprecationWarning: textsize is deprecated and will be removed in Pillow 10 (2023-07-01). Use textbbox or textlength instead.\n",
      "  box_size = draw.textsize(word, font=transposed_font)\n",
      "c:\\Users\\rimai\\AppData\\Local\\anaconda3\\lib\\site-packages\\wordcloud\\wordcloud.py:508: DeprecationWarning: textsize is deprecated and will be removed in Pillow 10 (2023-07-01). Use textbbox or textlength instead.\n",
      "  box_size = draw.textsize(word, font=transposed_font)\n",
      "c:\\Users\\rimai\\AppData\\Local\\anaconda3\\lib\\site-packages\\wordcloud\\wordcloud.py:508: DeprecationWarning: textsize is deprecated and will be removed in Pillow 10 (2023-07-01). Use textbbox or textlength instead.\n",
      "  box_size = draw.textsize(word, font=transposed_font)\n",
      "c:\\Users\\rimai\\AppData\\Local\\anaconda3\\lib\\site-packages\\wordcloud\\wordcloud.py:508: DeprecationWarning: textsize is deprecated and will be removed in Pillow 10 (2023-07-01). Use textbbox or textlength instead.\n",
      "  box_size = draw.textsize(word, font=transposed_font)\n",
      "c:\\Users\\rimai\\AppData\\Local\\anaconda3\\lib\\site-packages\\wordcloud\\wordcloud.py:508: DeprecationWarning: textsize is deprecated and will be removed in Pillow 10 (2023-07-01). Use textbbox or textlength instead.\n",
      "  box_size = draw.textsize(word, font=transposed_font)\n",
      "c:\\Users\\rimai\\AppData\\Local\\anaconda3\\lib\\site-packages\\wordcloud\\wordcloud.py:508: DeprecationWarning: textsize is deprecated and will be removed in Pillow 10 (2023-07-01). Use textbbox or textlength instead.\n",
      "  box_size = draw.textsize(word, font=transposed_font)\n",
      "c:\\Users\\rimai\\AppData\\Local\\anaconda3\\lib\\site-packages\\wordcloud\\wordcloud.py:508: DeprecationWarning: textsize is deprecated and will be removed in Pillow 10 (2023-07-01). Use textbbox or textlength instead.\n",
      "  box_size = draw.textsize(word, font=transposed_font)\n",
      "c:\\Users\\rimai\\AppData\\Local\\anaconda3\\lib\\site-packages\\wordcloud\\wordcloud.py:508: DeprecationWarning: textsize is deprecated and will be removed in Pillow 10 (2023-07-01). Use textbbox or textlength instead.\n",
      "  box_size = draw.textsize(word, font=transposed_font)\n",
      "c:\\Users\\rimai\\AppData\\Local\\anaconda3\\lib\\site-packages\\wordcloud\\wordcloud.py:508: DeprecationWarning: textsize is deprecated and will be removed in Pillow 10 (2023-07-01). Use textbbox or textlength instead.\n",
      "  box_size = draw.textsize(word, font=transposed_font)\n",
      "c:\\Users\\rimai\\AppData\\Local\\anaconda3\\lib\\site-packages\\wordcloud\\wordcloud.py:508: DeprecationWarning: textsize is deprecated and will be removed in Pillow 10 (2023-07-01). Use textbbox or textlength instead.\n",
      "  box_size = draw.textsize(word, font=transposed_font)\n",
      "c:\\Users\\rimai\\AppData\\Local\\anaconda3\\lib\\site-packages\\wordcloud\\wordcloud.py:508: DeprecationWarning: textsize is deprecated and will be removed in Pillow 10 (2023-07-01). Use textbbox or textlength instead.\n",
      "  box_size = draw.textsize(word, font=transposed_font)\n",
      "c:\\Users\\rimai\\AppData\\Local\\anaconda3\\lib\\site-packages\\wordcloud\\wordcloud.py:508: DeprecationWarning: textsize is deprecated and will be removed in Pillow 10 (2023-07-01). Use textbbox or textlength instead.\n",
      "  box_size = draw.textsize(word, font=transposed_font)\n",
      "c:\\Users\\rimai\\AppData\\Local\\anaconda3\\lib\\site-packages\\wordcloud\\wordcloud.py:508: DeprecationWarning: textsize is deprecated and will be removed in Pillow 10 (2023-07-01). Use textbbox or textlength instead.\n",
      "  box_size = draw.textsize(word, font=transposed_font)\n",
      "c:\\Users\\rimai\\AppData\\Local\\anaconda3\\lib\\site-packages\\wordcloud\\wordcloud.py:508: DeprecationWarning: textsize is deprecated and will be removed in Pillow 10 (2023-07-01). Use textbbox or textlength instead.\n",
      "  box_size = draw.textsize(word, font=transposed_font)\n",
      "c:\\Users\\rimai\\AppData\\Local\\anaconda3\\lib\\site-packages\\wordcloud\\wordcloud.py:508: DeprecationWarning: textsize is deprecated and will be removed in Pillow 10 (2023-07-01). Use textbbox or textlength instead.\n",
      "  box_size = draw.textsize(word, font=transposed_font)\n",
      "c:\\Users\\rimai\\AppData\\Local\\anaconda3\\lib\\site-packages\\wordcloud\\wordcloud.py:508: DeprecationWarning: textsize is deprecated and will be removed in Pillow 10 (2023-07-01). Use textbbox or textlength instead.\n",
      "  box_size = draw.textsize(word, font=transposed_font)\n",
      "c:\\Users\\rimai\\AppData\\Local\\anaconda3\\lib\\site-packages\\wordcloud\\wordcloud.py:508: DeprecationWarning: textsize is deprecated and will be removed in Pillow 10 (2023-07-01). Use textbbox or textlength instead.\n",
      "  box_size = draw.textsize(word, font=transposed_font)\n",
      "c:\\Users\\rimai\\AppData\\Local\\anaconda3\\lib\\site-packages\\wordcloud\\wordcloud.py:508: DeprecationWarning: textsize is deprecated and will be removed in Pillow 10 (2023-07-01). Use textbbox or textlength instead.\n",
      "  box_size = draw.textsize(word, font=transposed_font)\n",
      "c:\\Users\\rimai\\AppData\\Local\\anaconda3\\lib\\site-packages\\wordcloud\\wordcloud.py:508: DeprecationWarning: textsize is deprecated and will be removed in Pillow 10 (2023-07-01). Use textbbox or textlength instead.\n",
      "  box_size = draw.textsize(word, font=transposed_font)\n",
      "c:\\Users\\rimai\\AppData\\Local\\anaconda3\\lib\\site-packages\\wordcloud\\wordcloud.py:508: DeprecationWarning: textsize is deprecated and will be removed in Pillow 10 (2023-07-01). Use textbbox or textlength instead.\n",
      "  box_size = draw.textsize(word, font=transposed_font)\n",
      "c:\\Users\\rimai\\AppData\\Local\\anaconda3\\lib\\site-packages\\wordcloud\\wordcloud.py:508: DeprecationWarning: textsize is deprecated and will be removed in Pillow 10 (2023-07-01). Use textbbox or textlength instead.\n",
      "  box_size = draw.textsize(word, font=transposed_font)\n",
      "c:\\Users\\rimai\\AppData\\Local\\anaconda3\\lib\\site-packages\\wordcloud\\wordcloud.py:508: DeprecationWarning: textsize is deprecated and will be removed in Pillow 10 (2023-07-01). Use textbbox or textlength instead.\n",
      "  box_size = draw.textsize(word, font=transposed_font)\n",
      "c:\\Users\\rimai\\AppData\\Local\\anaconda3\\lib\\site-packages\\wordcloud\\wordcloud.py:508: DeprecationWarning: textsize is deprecated and will be removed in Pillow 10 (2023-07-01). Use textbbox or textlength instead.\n",
      "  box_size = draw.textsize(word, font=transposed_font)\n",
      "c:\\Users\\rimai\\AppData\\Local\\anaconda3\\lib\\site-packages\\wordcloud\\wordcloud.py:508: DeprecationWarning: textsize is deprecated and will be removed in Pillow 10 (2023-07-01). Use textbbox or textlength instead.\n",
      "  box_size = draw.textsize(word, font=transposed_font)\n",
      "c:\\Users\\rimai\\AppData\\Local\\anaconda3\\lib\\site-packages\\wordcloud\\wordcloud.py:508: DeprecationWarning: textsize is deprecated and will be removed in Pillow 10 (2023-07-01). Use textbbox or textlength instead.\n",
      "  box_size = draw.textsize(word, font=transposed_font)\n",
      "c:\\Users\\rimai\\AppData\\Local\\anaconda3\\lib\\site-packages\\wordcloud\\wordcloud.py:508: DeprecationWarning: textsize is deprecated and will be removed in Pillow 10 (2023-07-01). Use textbbox or textlength instead.\n",
      "  box_size = draw.textsize(word, font=transposed_font)\n",
      "c:\\Users\\rimai\\AppData\\Local\\anaconda3\\lib\\site-packages\\wordcloud\\wordcloud.py:508: DeprecationWarning: textsize is deprecated and will be removed in Pillow 10 (2023-07-01). Use textbbox or textlength instead.\n",
      "  box_size = draw.textsize(word, font=transposed_font)\n",
      "c:\\Users\\rimai\\AppData\\Local\\anaconda3\\lib\\site-packages\\wordcloud\\wordcloud.py:508: DeprecationWarning: textsize is deprecated and will be removed in Pillow 10 (2023-07-01). Use textbbox or textlength instead.\n",
      "  box_size = draw.textsize(word, font=transposed_font)\n",
      "c:\\Users\\rimai\\AppData\\Local\\anaconda3\\lib\\site-packages\\wordcloud\\wordcloud.py:508: DeprecationWarning: textsize is deprecated and will be removed in Pillow 10 (2023-07-01). Use textbbox or textlength instead.\n",
      "  box_size = draw.textsize(word, font=transposed_font)\n",
      "c:\\Users\\rimai\\AppData\\Local\\anaconda3\\lib\\site-packages\\wordcloud\\wordcloud.py:508: DeprecationWarning: textsize is deprecated and will be removed in Pillow 10 (2023-07-01). Use textbbox or textlength instead.\n",
      "  box_size = draw.textsize(word, font=transposed_font)\n",
      "c:\\Users\\rimai\\AppData\\Local\\anaconda3\\lib\\site-packages\\wordcloud\\wordcloud.py:508: DeprecationWarning: textsize is deprecated and will be removed in Pillow 10 (2023-07-01). Use textbbox or textlength instead.\n",
      "  box_size = draw.textsize(word, font=transposed_font)\n",
      "c:\\Users\\rimai\\AppData\\Local\\anaconda3\\lib\\site-packages\\wordcloud\\wordcloud.py:508: DeprecationWarning: textsize is deprecated and will be removed in Pillow 10 (2023-07-01). Use textbbox or textlength instead.\n",
      "  box_size = draw.textsize(word, font=transposed_font)\n",
      "c:\\Users\\rimai\\AppData\\Local\\anaconda3\\lib\\site-packages\\wordcloud\\wordcloud.py:508: DeprecationWarning: textsize is deprecated and will be removed in Pillow 10 (2023-07-01). Use textbbox or textlength instead.\n",
      "  box_size = draw.textsize(word, font=transposed_font)\n",
      "c:\\Users\\rimai\\AppData\\Local\\anaconda3\\lib\\site-packages\\wordcloud\\wordcloud.py:508: DeprecationWarning: textsize is deprecated and will be removed in Pillow 10 (2023-07-01). Use textbbox or textlength instead.\n",
      "  box_size = draw.textsize(word, font=transposed_font)\n",
      "c:\\Users\\rimai\\AppData\\Local\\anaconda3\\lib\\site-packages\\wordcloud\\wordcloud.py:508: DeprecationWarning: textsize is deprecated and will be removed in Pillow 10 (2023-07-01). Use textbbox or textlength instead.\n",
      "  box_size = draw.textsize(word, font=transposed_font)\n",
      "c:\\Users\\rimai\\AppData\\Local\\anaconda3\\lib\\site-packages\\wordcloud\\wordcloud.py:508: DeprecationWarning: textsize is deprecated and will be removed in Pillow 10 (2023-07-01). Use textbbox or textlength instead.\n",
      "  box_size = draw.textsize(word, font=transposed_font)\n",
      "c:\\Users\\rimai\\AppData\\Local\\anaconda3\\lib\\site-packages\\wordcloud\\wordcloud.py:508: DeprecationWarning: textsize is deprecated and will be removed in Pillow 10 (2023-07-01). Use textbbox or textlength instead.\n",
      "  box_size = draw.textsize(word, font=transposed_font)\n",
      "c:\\Users\\rimai\\AppData\\Local\\anaconda3\\lib\\site-packages\\wordcloud\\wordcloud.py:508: DeprecationWarning: textsize is deprecated and will be removed in Pillow 10 (2023-07-01). Use textbbox or textlength instead.\n",
      "  box_size = draw.textsize(word, font=transposed_font)\n",
      "c:\\Users\\rimai\\AppData\\Local\\anaconda3\\lib\\site-packages\\wordcloud\\wordcloud.py:508: DeprecationWarning: textsize is deprecated and will be removed in Pillow 10 (2023-07-01). Use textbbox or textlength instead.\n",
      "  box_size = draw.textsize(word, font=transposed_font)\n",
      "c:\\Users\\rimai\\AppData\\Local\\anaconda3\\lib\\site-packages\\wordcloud\\wordcloud.py:508: DeprecationWarning: textsize is deprecated and will be removed in Pillow 10 (2023-07-01). Use textbbox or textlength instead.\n",
      "  box_size = draw.textsize(word, font=transposed_font)\n",
      "c:\\Users\\rimai\\AppData\\Local\\anaconda3\\lib\\site-packages\\wordcloud\\wordcloud.py:508: DeprecationWarning: textsize is deprecated and will be removed in Pillow 10 (2023-07-01). Use textbbox or textlength instead.\n",
      "  box_size = draw.textsize(word, font=transposed_font)\n",
      "c:\\Users\\rimai\\AppData\\Local\\anaconda3\\lib\\site-packages\\wordcloud\\wordcloud.py:508: DeprecationWarning: textsize is deprecated and will be removed in Pillow 10 (2023-07-01). Use textbbox or textlength instead.\n",
      "  box_size = draw.textsize(word, font=transposed_font)\n",
      "c:\\Users\\rimai\\AppData\\Local\\anaconda3\\lib\\site-packages\\wordcloud\\wordcloud.py:508: DeprecationWarning: textsize is deprecated and will be removed in Pillow 10 (2023-07-01). Use textbbox or textlength instead.\n",
      "  box_size = draw.textsize(word, font=transposed_font)\n",
      "c:\\Users\\rimai\\AppData\\Local\\anaconda3\\lib\\site-packages\\wordcloud\\wordcloud.py:508: DeprecationWarning: textsize is deprecated and will be removed in Pillow 10 (2023-07-01). Use textbbox or textlength instead.\n",
      "  box_size = draw.textsize(word, font=transposed_font)\n",
      "c:\\Users\\rimai\\AppData\\Local\\anaconda3\\lib\\site-packages\\wordcloud\\wordcloud.py:508: DeprecationWarning: textsize is deprecated and will be removed in Pillow 10 (2023-07-01). Use textbbox or textlength instead.\n",
      "  box_size = draw.textsize(word, font=transposed_font)\n",
      "c:\\Users\\rimai\\AppData\\Local\\anaconda3\\lib\\site-packages\\wordcloud\\wordcloud.py:508: DeprecationWarning: textsize is deprecated and will be removed in Pillow 10 (2023-07-01). Use textbbox or textlength instead.\n",
      "  box_size = draw.textsize(word, font=transposed_font)\n",
      "c:\\Users\\rimai\\AppData\\Local\\anaconda3\\lib\\site-packages\\wordcloud\\wordcloud.py:508: DeprecationWarning: textsize is deprecated and will be removed in Pillow 10 (2023-07-01). Use textbbox or textlength instead.\n",
      "  box_size = draw.textsize(word, font=transposed_font)\n",
      "c:\\Users\\rimai\\AppData\\Local\\anaconda3\\lib\\site-packages\\wordcloud\\wordcloud.py:508: DeprecationWarning: textsize is deprecated and will be removed in Pillow 10 (2023-07-01). Use textbbox or textlength instead.\n",
      "  box_size = draw.textsize(word, font=transposed_font)\n",
      "c:\\Users\\rimai\\AppData\\Local\\anaconda3\\lib\\site-packages\\wordcloud\\wordcloud.py:508: DeprecationWarning: textsize is deprecated and will be removed in Pillow 10 (2023-07-01). Use textbbox or textlength instead.\n",
      "  box_size = draw.textsize(word, font=transposed_font)\n",
      "c:\\Users\\rimai\\AppData\\Local\\anaconda3\\lib\\site-packages\\wordcloud\\wordcloud.py:508: DeprecationWarning: textsize is deprecated and will be removed in Pillow 10 (2023-07-01). Use textbbox or textlength instead.\n",
      "  box_size = draw.textsize(word, font=transposed_font)\n",
      "c:\\Users\\rimai\\AppData\\Local\\anaconda3\\lib\\site-packages\\wordcloud\\wordcloud.py:508: DeprecationWarning: textsize is deprecated and will be removed in Pillow 10 (2023-07-01). Use textbbox or textlength instead.\n",
      "  box_size = draw.textsize(word, font=transposed_font)\n",
      "c:\\Users\\rimai\\AppData\\Local\\anaconda3\\lib\\site-packages\\wordcloud\\wordcloud.py:508: DeprecationWarning: textsize is deprecated and will be removed in Pillow 10 (2023-07-01). Use textbbox or textlength instead.\n",
      "  box_size = draw.textsize(word, font=transposed_font)\n",
      "c:\\Users\\rimai\\AppData\\Local\\anaconda3\\lib\\site-packages\\wordcloud\\wordcloud.py:508: DeprecationWarning: textsize is deprecated and will be removed in Pillow 10 (2023-07-01). Use textbbox or textlength instead.\n",
      "  box_size = draw.textsize(word, font=transposed_font)\n",
      "c:\\Users\\rimai\\AppData\\Local\\anaconda3\\lib\\site-packages\\wordcloud\\wordcloud.py:508: DeprecationWarning: textsize is deprecated and will be removed in Pillow 10 (2023-07-01). Use textbbox or textlength instead.\n",
      "  box_size = draw.textsize(word, font=transposed_font)\n",
      "c:\\Users\\rimai\\AppData\\Local\\anaconda3\\lib\\site-packages\\wordcloud\\wordcloud.py:508: DeprecationWarning: textsize is deprecated and will be removed in Pillow 10 (2023-07-01). Use textbbox or textlength instead.\n",
      "  box_size = draw.textsize(word, font=transposed_font)\n",
      "c:\\Users\\rimai\\AppData\\Local\\anaconda3\\lib\\site-packages\\wordcloud\\wordcloud.py:508: DeprecationWarning: textsize is deprecated and will be removed in Pillow 10 (2023-07-01). Use textbbox or textlength instead.\n",
      "  box_size = draw.textsize(word, font=transposed_font)\n",
      "c:\\Users\\rimai\\AppData\\Local\\anaconda3\\lib\\site-packages\\wordcloud\\wordcloud.py:508: DeprecationWarning: textsize is deprecated and will be removed in Pillow 10 (2023-07-01). Use textbbox or textlength instead.\n",
      "  box_size = draw.textsize(word, font=transposed_font)\n",
      "c:\\Users\\rimai\\AppData\\Local\\anaconda3\\lib\\site-packages\\wordcloud\\wordcloud.py:508: DeprecationWarning: textsize is deprecated and will be removed in Pillow 10 (2023-07-01). Use textbbox or textlength instead.\n",
      "  box_size = draw.textsize(word, font=transposed_font)\n",
      "c:\\Users\\rimai\\AppData\\Local\\anaconda3\\lib\\site-packages\\wordcloud\\wordcloud.py:508: DeprecationWarning: textsize is deprecated and will be removed in Pillow 10 (2023-07-01). Use textbbox or textlength instead.\n",
      "  box_size = draw.textsize(word, font=transposed_font)\n",
      "c:\\Users\\rimai\\AppData\\Local\\anaconda3\\lib\\site-packages\\wordcloud\\wordcloud.py:508: DeprecationWarning: textsize is deprecated and will be removed in Pillow 10 (2023-07-01). Use textbbox or textlength instead.\n",
      "  box_size = draw.textsize(word, font=transposed_font)\n",
      "c:\\Users\\rimai\\AppData\\Local\\anaconda3\\lib\\site-packages\\wordcloud\\wordcloud.py:508: DeprecationWarning: textsize is deprecated and will be removed in Pillow 10 (2023-07-01). Use textbbox or textlength instead.\n",
      "  box_size = draw.textsize(word, font=transposed_font)\n",
      "c:\\Users\\rimai\\AppData\\Local\\anaconda3\\lib\\site-packages\\wordcloud\\wordcloud.py:508: DeprecationWarning: textsize is deprecated and will be removed in Pillow 10 (2023-07-01). Use textbbox or textlength instead.\n",
      "  box_size = draw.textsize(word, font=transposed_font)\n",
      "c:\\Users\\rimai\\AppData\\Local\\anaconda3\\lib\\site-packages\\wordcloud\\wordcloud.py:508: DeprecationWarning: textsize is deprecated and will be removed in Pillow 10 (2023-07-01). Use textbbox or textlength instead.\n",
      "  box_size = draw.textsize(word, font=transposed_font)\n",
      "c:\\Users\\rimai\\AppData\\Local\\anaconda3\\lib\\site-packages\\wordcloud\\wordcloud.py:508: DeprecationWarning: textsize is deprecated and will be removed in Pillow 10 (2023-07-01). Use textbbox or textlength instead.\n",
      "  box_size = draw.textsize(word, font=transposed_font)\n",
      "c:\\Users\\rimai\\AppData\\Local\\anaconda3\\lib\\site-packages\\wordcloud\\wordcloud.py:508: DeprecationWarning: textsize is deprecated and will be removed in Pillow 10 (2023-07-01). Use textbbox or textlength instead.\n",
      "  box_size = draw.textsize(word, font=transposed_font)\n",
      "c:\\Users\\rimai\\AppData\\Local\\anaconda3\\lib\\site-packages\\wordcloud\\wordcloud.py:508: DeprecationWarning: textsize is deprecated and will be removed in Pillow 10 (2023-07-01). Use textbbox or textlength instead.\n",
      "  box_size = draw.textsize(word, font=transposed_font)\n",
      "c:\\Users\\rimai\\AppData\\Local\\anaconda3\\lib\\site-packages\\wordcloud\\wordcloud.py:508: DeprecationWarning: textsize is deprecated and will be removed in Pillow 10 (2023-07-01). Use textbbox or textlength instead.\n",
      "  box_size = draw.textsize(word, font=transposed_font)\n",
      "c:\\Users\\rimai\\AppData\\Local\\anaconda3\\lib\\site-packages\\wordcloud\\wordcloud.py:508: DeprecationWarning: textsize is deprecated and will be removed in Pillow 10 (2023-07-01). Use textbbox or textlength instead.\n",
      "  box_size = draw.textsize(word, font=transposed_font)\n",
      "c:\\Users\\rimai\\AppData\\Local\\anaconda3\\lib\\site-packages\\wordcloud\\wordcloud.py:508: DeprecationWarning: textsize is deprecated and will be removed in Pillow 10 (2023-07-01). Use textbbox or textlength instead.\n",
      "  box_size = draw.textsize(word, font=transposed_font)\n",
      "c:\\Users\\rimai\\AppData\\Local\\anaconda3\\lib\\site-packages\\wordcloud\\wordcloud.py:508: DeprecationWarning: textsize is deprecated and will be removed in Pillow 10 (2023-07-01). Use textbbox or textlength instead.\n",
      "  box_size = draw.textsize(word, font=transposed_font)\n",
      "c:\\Users\\rimai\\AppData\\Local\\anaconda3\\lib\\site-packages\\wordcloud\\wordcloud.py:508: DeprecationWarning: textsize is deprecated and will be removed in Pillow 10 (2023-07-01). Use textbbox or textlength instead.\n",
      "  box_size = draw.textsize(word, font=transposed_font)\n",
      "c:\\Users\\rimai\\AppData\\Local\\anaconda3\\lib\\site-packages\\wordcloud\\wordcloud.py:508: DeprecationWarning: textsize is deprecated and will be removed in Pillow 10 (2023-07-01). Use textbbox or textlength instead.\n",
      "  box_size = draw.textsize(word, font=transposed_font)\n",
      "c:\\Users\\rimai\\AppData\\Local\\anaconda3\\lib\\site-packages\\wordcloud\\wordcloud.py:508: DeprecationWarning: textsize is deprecated and will be removed in Pillow 10 (2023-07-01). Use textbbox or textlength instead.\n",
      "  box_size = draw.textsize(word, font=transposed_font)\n",
      "c:\\Users\\rimai\\AppData\\Local\\anaconda3\\lib\\site-packages\\wordcloud\\wordcloud.py:508: DeprecationWarning: textsize is deprecated and will be removed in Pillow 10 (2023-07-01). Use textbbox or textlength instead.\n",
      "  box_size = draw.textsize(word, font=transposed_font)\n",
      "c:\\Users\\rimai\\AppData\\Local\\anaconda3\\lib\\site-packages\\wordcloud\\wordcloud.py:508: DeprecationWarning: textsize is deprecated and will be removed in Pillow 10 (2023-07-01). Use textbbox or textlength instead.\n",
      "  box_size = draw.textsize(word, font=transposed_font)\n",
      "c:\\Users\\rimai\\AppData\\Local\\anaconda3\\lib\\site-packages\\wordcloud\\wordcloud.py:508: DeprecationWarning: textsize is deprecated and will be removed in Pillow 10 (2023-07-01). Use textbbox or textlength instead.\n",
      "  box_size = draw.textsize(word, font=transposed_font)\n",
      "c:\\Users\\rimai\\AppData\\Local\\anaconda3\\lib\\site-packages\\wordcloud\\wordcloud.py:508: DeprecationWarning: textsize is deprecated and will be removed in Pillow 10 (2023-07-01). Use textbbox or textlength instead.\n",
      "  box_size = draw.textsize(word, font=transposed_font)\n",
      "c:\\Users\\rimai\\AppData\\Local\\anaconda3\\lib\\site-packages\\wordcloud\\wordcloud.py:508: DeprecationWarning: textsize is deprecated and will be removed in Pillow 10 (2023-07-01). Use textbbox or textlength instead.\n",
      "  box_size = draw.textsize(word, font=transposed_font)\n",
      "c:\\Users\\rimai\\AppData\\Local\\anaconda3\\lib\\site-packages\\wordcloud\\wordcloud.py:508: DeprecationWarning: textsize is deprecated and will be removed in Pillow 10 (2023-07-01). Use textbbox or textlength instead.\n",
      "  box_size = draw.textsize(word, font=transposed_font)\n",
      "c:\\Users\\rimai\\AppData\\Local\\anaconda3\\lib\\site-packages\\wordcloud\\wordcloud.py:508: DeprecationWarning: textsize is deprecated and will be removed in Pillow 10 (2023-07-01). Use textbbox or textlength instead.\n",
      "  box_size = draw.textsize(word, font=transposed_font)\n",
      "c:\\Users\\rimai\\AppData\\Local\\anaconda3\\lib\\site-packages\\wordcloud\\wordcloud.py:508: DeprecationWarning: textsize is deprecated and will be removed in Pillow 10 (2023-07-01). Use textbbox or textlength instead.\n",
      "  box_size = draw.textsize(word, font=transposed_font)\n"
     ]
    },
    {
     "data": {
      "image/png": "[encoded data removed]",
      "text/plain": [
       "<Figure size 1000x500 with 1 Axes>"
      ]
     },
     "metadata": {},
     "output_type": "display_data"
    }
   ],
   "source": [
    "from wordcloud import WordCloud\n",
    "import matplotlib.pyplot as plt\n",
    "\n",
    "# Concatenate all topic words into a single string\n",
    "all_words = ' '.join([word for topic in topic_words for word in topic])\n",
    "\n",
    "# Generate a word cloud\n",
    "wordcloud = WordCloud(width=800, height=400).generate(all_words)\n",
    "\n",
    "# Plot the word cloud\n",
    "plt.figure(figsize=(10, 5))\n",
    "plt.imshow(wordcloud, interpolation='bilinear')\n",
    "plt.axis('off')\n",
    "plt.title('Topic Word Cloud')\n",
    "plt.show()"
   ]
  },
  {
   "cell_type": "code",
   "execution_count": null,
   "metadata": {},
   "outputs": [
    {
     "data": {
      "text/html": [
       "\n",
       "<link rel=\"stylesheet\" type=\"text/css\" href=\"https://cdn.jsdelivr.net/gh/bmabey/pyLDAvis@3.4.0/pyLDAvis/js/ldavis.v1.0.0.css\">\n",
       "\n",
       "\n",
       "<div id=\"ldavis_el720432138009867047614645572\" style=\"background-color:white;\"></div>\n",
       "<script type=\"text/javascript\">\n",
       "\n",
       "var ldavis_el720432138009867047614645572_data = {\"mdsDat\": {\"x\": [-0.05544433340124254, -0.12232954070251392, 0.17777387410375647], \"y\": [0.1310410333290152, -0.1018354120439592, -0.02920562128505597], \"topics\": [1, 2, 3], \"cluster\": [1, 1, 1], \"Freq\": [46.21008903750341, 42.416229853947065, 11.37368110854952]}, \"tinfo\": {\"Term\": [\"return\", \"equiti\", \"china\", \"yield\", \"asset\", \"bond\", \"jan\", \"portfolio\", \"inflat\", \"gdp\", \"jun\", \"russia\", \"investor\", \"rate\", \"covid\", \"product\", \"unicredit\", \"global\", \"fund\", \"risk\", \"decemb\", \"apr\", \"polici\", \"cpi\", \"yoy\", \"labor\", \"wage\", \"emerg\", \"ukrain\", \"jul\", \"unicredit\", \"yoy\", \"wage\", \"jan\", \"labor\", \"unemploy\", \"household\", \"job\", \"apr\", \"ecb\", \"cpi\", \"chartbook\", \"disclaim\", \"pmi\", \"output\", \"worker\", \"bp\", \"pce\", \"weaker\", \"cee\", \"baselin\", \"qoq\", \"open\", \"person\", \"jul\", \"announc\", \"read\", \"shelter\", \"jun\", \"deposit\", \"hike\", \"spend\", \"fed\", \"consumpt\", \"gdp\", \"pressur\", \"food\", \"hous\", \"condit\", \"inflat\", \"forecast\", \"polici\", \"cut\", \"juli\", \"price\", \"haver\", \"econom\", \"consum\", \"rate\", \"growth\", \"expect\", \"economi\", \"servic\", \"june\", \"tighten\", \"remain\", \"energi\", \"global\", \"month\", \"market\", \"exhibit\", \"level\", \"real\", \"increas\", \"invest\", \"equiti\", \"portfolio\", \"correl\", \"valuat\", \"gold\", \"attract\", \"premium\", \"hedg\", \"municip\", \"hy\", \"histori\", \"client\", \"irr\", \"durat\", \"outperform\", \"default\", \"overweight\", \"qualiti\", \"yield\", \"option\", \"datastream\", \"worst\", \"compel\", \"percentil\", \"return\", \"class\", \"preqin\", \"apprais\", \"downgrad\", \"tilt\", \"bond\", \"asset\", \"estat\", \"msci\", \"investor\", \"leverag\", \"perform\", \"stock\", \"alloc\", \"model\", \"fund\", \"treasuri\", \"cash\", \"credit\", \"strategi\", \"spread\", \"invest\", \"posit\", \"market\", \"exhibit\", \"earn\", \"volatil\", \"risk\", \"debt\", \"recess\", \"real\", \"total\", \"bloomberg\", \"time\", \"base\", \"term\", \"rate\", \"averag\", \"global\", \"decemb\", \"expect\", \"growth\", \"iran\", \"ing\", \"taux\", \"missil\", \"moi\", \"menag\", \"sir\", \"epargn\", \"baiss\", \"croissanc\", \"asean\", \"decoupl\", \"trimestr\", \"industriell\", \"mai\", \"semain\", \"dispon\", \"anne\", \"juin\", \"dett\", \"terror\", \"revolut\", \"ballist\", \"hauss\", \"an\", \"activit\", \"philippin\", \"ghana\", \"fort\", \"juillet\", \"india\", \"taiwan\", \"indonesia\", \"weapon\", \"china\", \"progress\", \"nuclear\", \"north\", \"militari\", \"east\", \"infect\", \"russia\", \"chines\", \"korea\", \"asia\", \"covid\", \"africa\", \"ukrain\", \"war\", \"emerg\", \"product\", \"geopolit\", \"oil\", \"global\", \"chain\", \"decemb\", \"export\", \"region\", \"risk\", \"suppli\", \"middl\", \"continu\", \"invest\", \"term\", \"market\", \"growth\", \"develop\", \"polici\"], \"Freq\": [582.0, 500.0, 237.0, 344.0, 392.0, 336.0, 269.0, 219.0, 748.0, 345.0, 239.0, 98.0, 225.0, 820.0, 118.0, 143.0, 170.0, 441.0, 289.0, 376.0, 212.0, 138.0, 259.0, 136.0, 128.0, 130.0, 127.0, 97.0, 76.0, 143.0, 170.13072866766612, 127.43265957356535, 126.45807730681224, 267.69101744218415, 129.90099705773662, 75.24516754424742, 107.20502766575427, 65.6695370958566, 136.9895795962415, 55.30940676790402, 134.94065489979366, 46.79634290649553, 45.84752434204813, 42.99595043728878, 42.033766255395065, 40.10388043811929, 55.93202297953684, 32.55452219460554, 43.672198167151436, 28.765562076058945, 29.6827847668634, 26.86562480928553, 25.924069932790992, 28.686821468649146, 139.41245383915296, 22.091462944569727, 22.084373700224546, 20.222031728488172, 232.8953229051389, 20.192906839556105, 142.56719994373745, 75.67891707877955, 157.07444829423576, 68.63438065202054, 320.3299407539798, 108.89239730382243, 71.20903162394163, 106.02154468283265, 99.5099856307858, 631.6858980705257, 274.5278544757636, 219.590778705386, 65.0058385154208, 79.11921118365015, 392.7280519433906, 100.95650079988862, 270.7361050578818, 138.65613829175197, 577.1128591335648, 409.60210800161383, 380.9761205939653, 178.37059585556744, 141.44450246534834, 128.86623354472093, 124.8659143140089, 159.27794801096695, 166.58370384909742, 222.35702990372403, 171.24804537003268, 262.73725059706413, 208.84269298749936, 147.63446663388865, 144.58681811409468, 135.60211628592063, 144.7996177348143, 499.54672846319755, 218.9530116229052, 98.75112204235913, 83.52473248813635, 68.45297101878835, 69.37773518186657, 67.49010118153589, 95.49417969011286, 48.56348625132516, 41.957341707567394, 42.785788513310735, 47.423742961619865, 34.38840986353987, 35.30445481976537, 47.30411055741109, 59.37845235996495, 29.622767401510167, 34.245733133760474, 336.3716683082502, 24.892031480205137, 23.022114868581447, 40.508735124150235, 22.05239941398362, 22.01292197515686, 565.6491056412372, 98.67709627331263, 18.296770262986566, 18.29676861224691, 19.21067420988075, 48.50673052053939, 321.3686370351385, 373.5059680345371, 119.62008308799459, 45.53811295922921, 215.02380224506516, 61.79666709990243, 151.75248319148386, 140.505544927212, 144.4374351062502, 77.62764335390266, 249.42068700598895, 112.07250521213194, 101.40675936526023, 137.14104698206603, 211.21924351998223, 104.78260119330888, 369.33152477369043, 127.9964379175314, 474.72055489223067, 390.29248484172575, 122.31203008032631, 104.10250305879627, 229.36250985179842, 122.97628771711858, 208.71462246359283, 212.39173088146538, 141.93453081910104, 147.7893610181909, 161.6775355526219, 138.2868055670707, 147.8371004089862, 243.2857989201505, 145.04581850723198, 156.7002121417939, 130.5222676769961, 155.08783567729782, 139.74978348991607, 23.6291502317061, 21.265274686568585, 20.461864014141756, 18.038218329725265, 15.602134549792606, 12.38581036604128, 11.564410931985377, 10.770159301281701, 10.7686419421561, 10.76684218071949, 9.960818180323713, 9.956190854682218, 9.154129339377572, 9.152345512867603, 9.1518258572044, 9.150928189670351, 8.346649063741648, 8.344512898298195, 8.317802420154862, 7.538869565594374, 7.538262267834653, 10.546066427944359, 7.532548711360535, 7.532304375818723, 7.528616325575282, 8.276167112665831, 8.235979227679927, 6.731026770377392, 6.729294289742151, 6.72882730786423, 20.552471777563806, 16.93051252763492, 13.817825565654895, 12.388815870260311, 171.86132830384108, 22.713152220378547, 21.39185643215398, 21.842655506797612, 12.05543507311041, 15.475898060951076, 13.338649927760352, 50.63786115038927, 25.344684957739574, 25.02872723232303, 34.147719173185855, 48.08716452532521, 13.942945724357926, 33.296103577125834, 26.5520708081523, 35.60691935764719, 43.92847445302576, 25.06781914846559, 32.93003581906892, 62.26214933977159, 22.884613801571604, 41.504180748259245, 26.515962264386218, 23.463839532196058, 49.67353604765762, 30.713338797472613, 18.63956173852594, 29.551611823525498, 34.888342693556545, 27.960265062986622, 33.55618636755316, 26.34841890459918, 21.402187576258868, 21.30699232451192], \"Total\": [582.0, 500.0, 237.0, 344.0, 392.0, 336.0, 269.0, 219.0, 748.0, 345.0, 239.0, 98.0, 225.0, 820.0, 118.0, 143.0, 170.0, 441.0, 289.0, 376.0, 212.0, 138.0, 259.0, 136.0, 128.0, 130.0, 127.0, 97.0, 76.0, 143.0, 170.7193353839883, 128.02601505539457, 127.07637779382856, 269.3602961963102, 130.86842732929577, 75.8459752270502, 108.09744478166213, 66.35566812144259, 138.4575352526496, 55.922062084618865, 136.53657119702618, 47.3844553621232, 46.43571201287114, 43.58910551715115, 42.637750393631876, 40.73678416754455, 56.819826137980534, 33.153059023755326, 44.52273594505057, 29.358172659055167, 30.304794478974767, 27.459898392294285, 26.512730026673065, 29.355951090636605, 143.19577396014847, 22.71430005541364, 22.71561662512395, 20.81927657061395, 239.95895050755482, 20.81780128081735, 147.8679581753839, 78.4640961691977, 165.31682443780707, 71.63307372399785, 345.9678797680163, 115.17296919263225, 74.72726964364652, 113.60631366451237, 106.84141005903787, 748.9797777581337, 322.596577913796, 259.97928146480734, 68.81460790165083, 85.81400126714144, 515.3061879918323, 112.61378254925935, 342.2961189239213, 162.07790416874656, 820.942351387765, 575.700310396129, 542.191543304713, 221.5904459145001, 175.70307213956184, 159.1032402006913, 162.8885137856522, 238.5522702340084, 260.86948887579535, 441.3193913852895, 292.5210267873727, 771.013991856848, 615.727526425897, 259.3530333146691, 358.764150479303, 229.95082282217226, 549.0194852020612, 500.62014616147604, 219.55283385924346, 99.34024845993153, 84.18739882899678, 69.04917350156373, 69.99413817914302, 68.10173744258924, 96.49624063796486, 49.16914465340802, 42.546271504662755, 43.482927154662995, 48.20256597467823, 34.97409852821981, 35.91860697594199, 48.17643542186222, 60.52490807971496, 30.238473306951967, 34.969662331165296, 344.3564679176242, 25.505200230137977, 23.61428564666733, 41.59619718111613, 22.6655080335114, 22.660501139181836, 582.9887874342384, 101.75238621081614, 18.882423913313787, 18.882424937001453, 19.827432021913385, 50.11109766417199, 336.8163260521381, 392.90156684728146, 124.87507990785673, 47.10988791195022, 225.98525117907565, 64.1760528152752, 163.45024345967394, 151.00124781750813, 157.83764644872085, 82.30167383323304, 289.29881996185765, 123.9709202854091, 117.35436062649066, 167.15569873782707, 281.30212077124224, 123.9518448188741, 549.0194852020612, 158.53390887243725, 771.013991856848, 615.727526425897, 152.41042725199375, 124.29811662580474, 376.9379204352434, 157.75083110468535, 347.8621920686799, 358.764150479303, 200.9620986645145, 217.62737872839136, 258.736036297118, 210.4690356321556, 246.19127427045981, 820.942351387765, 253.86487459652068, 441.3193913852895, 212.56065426771062, 542.191543304713, 575.700310396129, 24.335854577785412, 21.90453971402952, 21.09652269668377, 18.67281744617263, 16.25165030326077, 13.017719292790114, 12.211168642375272, 11.40203446187944, 11.402290451916581, 11.402595982111718, 10.594309677206901, 10.59471177746216, 9.786410275635571, 9.786712170884199, 9.786801973312276, 9.786954364728466, 8.97851004070982, 8.978869450980007, 8.983414047951817, 8.17065854734024, 8.170711573541752, 11.435024207749619, 8.171219657544597, 8.171769719257783, 8.172397431589648, 8.990461100927838, 8.994017335702809, 7.362816433895675, 7.363104558522297, 7.363185836344803, 22.970937767049048, 18.858308815599074, 15.605598976945217, 13.96165449126103, 237.54682446364902, 27.33602236887609, 26.612447065149837, 27.483989805821285, 14.018941140187628, 20.053717232870838, 16.642322532147105, 98.36852643515721, 41.11151665561045, 41.165877690575485, 68.9467882159107, 118.70818990473336, 18.425790353420904, 76.70983677751235, 55.11708609438129, 97.11109628354114, 143.14844462337953, 55.344818895645446, 116.56321662771526, 441.3193913852895, 54.81712622599239, 212.56065426771062, 82.65259019649679, 62.27699738029699, 376.9379204352434, 151.1291475599232, 36.577947942413644, 179.7429941653102, 549.0194852020612, 246.19127427045981, 771.013991856848, 575.700310396129, 66.39054302448496, 259.97928146480734], \"Category\": [\"Default\", \"Default\", \"Default\", \"Default\", \"Default\", \"Default\", \"Default\", \"Default\", \"Default\", \"Default\", \"Default\", \"Default\", \"Default\", \"Default\", \"Default\", \"Default\", \"Default\", \"Default\", \"Default\", \"Default\", \"Default\", \"Default\", \"Default\", \"Default\", \"Default\", \"Default\", \"Default\", \"Default\", \"Default\", \"Default\", \"Topic1\", \"Topic1\", \"Topic1\", \"Topic1\", \"Topic1\", \"Topic1\", \"Topic1\", \"Topic1\", \"Topic1\", \"Topic1\", \"Topic1\", \"Topic1\", \"Topic1\", \"Topic1\", \"Topic1\", \"Topic1\", \"Topic1\", \"Topic1\", \"Topic1\", \"Topic1\", \"Topic1\", \"Topic1\", \"Topic1\", \"Topic1\", \"Topic1\", \"Topic1\", \"Topic1\", \"Topic1\", \"Topic1\", \"Topic1\", \"Topic1\", \"Topic1\", \"Topic1\", \"Topic1\", \"Topic1\", \"Topic1\", \"Topic1\", \"Topic1\", \"Topic1\", \"Topic1\", \"Topic1\", \"Topic1\", \"Topic1\", \"Topic1\", \"Topic1\", \"Topic1\", \"Topic1\", \"Topic1\", \"Topic1\", \"Topic1\", \"Topic1\", \"Topic1\", \"Topic1\", \"Topic1\", \"Topic1\", \"Topic1\", \"Topic1\", \"Topic1\", \"Topic1\", \"Topic1\", \"Topic1\", \"Topic1\", \"Topic1\", \"Topic1\", \"Topic1\", \"Topic2\", \"Topic2\", \"Topic2\", \"Topic2\", \"Topic2\", \"Topic2\", \"Topic2\", \"Topic2\", \"Topic2\", \"Topic2\", \"Topic2\", \"Topic2\", \"Topic2\", \"Topic2\", \"Topic2\", \"Topic2\", \"Topic2\", \"Topic2\", \"Topic2\", \"Topic2\", \"Topic2\", \"Topic2\", \"Topic2\", \"Topic2\", \"Topic2\", \"Topic2\", \"Topic2\", \"Topic2\", \"Topic2\", \"Topic2\", \"Topic2\", \"Topic2\", \"Topic2\", \"Topic2\", \"Topic2\", \"Topic2\", \"Topic2\", \"Topic2\", \"Topic2\", \"Topic2\", \"Topic2\", \"Topic2\", \"Topic2\", \"Topic2\", \"Topic2\", \"Topic2\", \"Topic2\", \"Topic2\", \"Topic2\", \"Topic2\", \"Topic2\", \"Topic2\", \"Topic2\", \"Topic2\", \"Topic2\", \"Topic2\", \"Topic2\", \"Topic2\", \"Topic2\", \"Topic2\", \"Topic2\", \"Topic2\", \"Topic2\", \"Topic2\", \"Topic2\", \"Topic2\", \"Topic2\", \"Topic3\", \"Topic3\", \"Topic3\", \"Topic3\", \"Topic3\", \"Topic3\", \"Topic3\", \"Topic3\", \"Topic3\", \"Topic3\", \"Topic3\", \"Topic3\", \"Topic3\", \"Topic3\", \"Topic3\", \"Topic3\", \"Topic3\", \"Topic3\", \"Topic3\", \"Topic3\", \"Topic3\", \"Topic3\", \"Topic3\", \"Topic3\", \"Topic3\", \"Topic3\", \"Topic3\", \"Topic3\", \"Topic3\", \"Topic3\", \"Topic3\", \"Topic3\", \"Topic3\", \"Topic3\", \"Topic3\", \"Topic3\", \"Topic3\", \"Topic3\", \"Topic3\", \"Topic3\", \"Topic3\", \"Topic3\", \"Topic3\", \"Topic3\", \"Topic3\", \"Topic3\", \"Topic3\", \"Topic3\", \"Topic3\", \"Topic3\", \"Topic3\", \"Topic3\", \"Topic3\", \"Topic3\", \"Topic3\", \"Topic3\", \"Topic3\", \"Topic3\", \"Topic3\", \"Topic3\", \"Topic3\", \"Topic3\", \"Topic3\", \"Topic3\", \"Topic3\", \"Topic3\", \"Topic3\", \"Topic3\"], \"logprob\": [30.0, 29.0, 28.0, 27.0, 26.0, 25.0, 24.0, 23.0, 22.0, 21.0, 20.0, 19.0, 18.0, 17.0, 16.0, 15.0, 14.0, 13.0, 12.0, 11.0, 10.0, 9.0, 8.0, 7.0, 6.0, 5.0, 4.0, 3.0, 2.0, 1.0, -5.2018, -5.4908, -5.4985, -4.7486, -5.4716, -6.0176, -5.6636, -6.1537, -5.4185, -6.3254, -5.4335, -6.4926, -6.5131, -6.5773, -6.5999, -6.6469, -6.3142, -6.8555, -6.5617, -6.9792, -6.9478, -7.0475, -7.0832, -6.9819, -5.4009, -7.2432, -7.2435, -7.3316, -4.8878, -7.3331, -5.3786, -6.0119, -5.2817, -6.1096, -4.569, -5.648, -6.0728, -5.6747, -5.7381, -3.89, -4.7233, -4.9466, -6.1639, -5.9674, -4.3653, -5.7237, -4.7372, -5.4064, -3.9803, -4.3232, -4.3956, -5.1545, -5.3865, -5.4796, -5.5111, -5.2677, -5.2229, -4.9341, -5.1953, -4.7672, -4.9968, -5.3436, -5.3645, -5.4287, -5.363, -4.039, -4.8639, -5.6601, -5.8276, -6.0266, -6.0132, -6.0407, -5.6937, -6.3698, -6.5161, -6.4965, -6.3936, -6.715, -6.6887, -6.3961, -6.1688, -6.8642, -6.7192, -4.4345, -7.0382, -7.1163, -6.5512, -7.1593, -7.1611, -3.9147, -5.6609, -7.346, -7.346, -7.2973, -6.371, -4.4801, -4.3298, -5.4684, -6.4342, -4.882, -6.1289, -5.2305, -5.3075, -5.2799, -5.9008, -4.7336, -5.5336, -5.6336, -5.3317, -4.8998, -5.6008, -4.341, -5.4007, -4.09, -4.2858, -5.4461, -5.6073, -4.8174, -5.4407, -4.9117, -4.8943, -5.2974, -5.2569, -5.1671, -5.3234, -5.2566, -4.7585, -5.2757, -5.1984, -5.3812, -5.2087, -5.3129, -5.774, -5.8794, -5.9179, -6.044, -6.1891, -6.4199, -6.4886, -6.5597, -6.5598, -6.56, -6.6378, -6.6383, -6.7223, -6.7225, -6.7225, -6.7226, -6.8146, -6.8149, -6.8181, -6.9164, -6.9165, -6.5807, -6.9173, -6.9173, -6.9178, -6.8231, -6.828, -7.0298, -7.03, -7.0301, -5.9135, -6.1074, -6.3105, -6.4197, -3.7898, -5.8135, -5.8735, -5.8526, -6.447, -6.1972, -6.3458, -5.0118, -5.7039, -5.7165, -5.4058, -5.0635, -6.3015, -5.431, -5.6574, -5.3639, -5.1539, -5.7149, -5.4421, -4.8051, -5.806, -5.2107, -5.6587, -5.781, -5.031, -5.5118, -6.0112, -5.5503, -5.3843, -5.6057, -5.4233, -5.6651, -5.873, -5.8775], \"loglift\": [30.0, 29.0, 28.0, 27.0, 26.0, 25.0, 24.0, 23.0, 22.0, 21.0, 20.0, 19.0, 18.0, 17.0, 16.0, 15.0, 14.0, 13.0, 12.0, 11.0, 10.0, 9.0, 8.0, 7.0, 6.0, 5.0, 4.0, 3.0, 2.0, 1.0, 0.7685, 0.7673, 0.7671, 0.7658, 0.7646, 0.764, 0.7637, 0.7616, 0.7613, 0.761, 0.7602, 0.7595, 0.7592, 0.7583, 0.7577, 0.7563, 0.7562, 0.7538, 0.7527, 0.7516, 0.7512, 0.7501, 0.7495, 0.7489, 0.7452, 0.7442, 0.7438, 0.7429, 0.7421, 0.7415, 0.7355, 0.7358, 0.7208, 0.7292, 0.695, 0.7159, 0.7237, 0.7029, 0.7009, 0.6017, 0.6106, 0.6031, 0.715, 0.6907, 0.5003, 0.6627, 0.5374, 0.6159, 0.4196, 0.4316, 0.4191, 0.555, 0.5551, 0.5612, 0.5061, 0.368, 0.3234, 0.0865, 0.2365, -0.3046, -0.3093, 0.2085, -0.1368, 0.2438, -0.5608, 0.8555, 0.8549, 0.8517, 0.8497, 0.849, 0.8488, 0.8486, 0.8472, 0.8452, 0.8437, 0.8415, 0.8413, 0.8408, 0.8404, 0.8394, 0.8385, 0.8371, 0.8367, 0.8342, 0.8333, 0.8322, 0.8311, 0.8302, 0.8286, 0.8274, 0.8269, 0.8261, 0.8261, 0.826, 0.8251, 0.8107, 0.807, 0.8146, 0.8237, 0.8079, 0.8199, 0.7834, 0.7856, 0.7689, 0.7992, 0.7093, 0.7567, 0.7116, 0.6597, 0.5711, 0.6896, 0.4612, 0.6437, 0.3727, 0.4017, 0.6376, 0.6803, 0.3609, 0.6086, 0.3468, 0.3334, 0.5099, 0.4706, 0.3874, 0.4376, 0.3476, -0.3586, 0.2979, -0.1778, 0.37, -0.394, -0.5581, 2.1444, 2.1442, 2.1433, 2.1393, 2.1331, 2.1241, 2.1194, 2.1169, 2.1167, 2.1165, 2.1122, 2.1117, 2.1071, 2.1069, 2.1068, 2.1067, 2.1009, 2.1006, 2.0969, 2.0934, 2.0933, 2.0929, 2.0925, 2.0924, 2.0918, 2.0911, 2.0858, 2.0842, 2.0839, 2.0838, 2.0626, 2.066, 2.0522, 2.0543, 1.8502, 1.9886, 1.9555, 1.9441, 2.023, 1.9147, 1.9526, 1.5098, 1.6901, 1.6763, 1.4712, 1.2702, 1.8951, 1.3393, 1.4435, 1.1706, 0.9925, 1.3819, 0.9098, 0.2155, 1.3003, 0.5404, 1.037, 1.1977, 0.1473, 0.5804, 1.4997, 0.3685, -0.5821, -0.0015, -0.9606, -0.9103, 1.0418, -0.3277]}, \"token.table\": {\"Topic\": [3, 1, 2, 3, 1, 2, 3, 3, 3, 1, 2, 1, 2, 3, 1, 2, 3, 1, 2, 3, 2, 1, 2, 3, 3, 1, 2, 3, 1, 1, 2, 3, 1, 2, 3, 1, 3, 1, 2, 1, 1, 2, 3, 1, 1, 2, 3, 1, 3, 2, 3, 2, 2, 1, 2, 3, 1, 2, 3, 1, 3, 1, 2, 3, 2, 1, 2, 3, 1, 2, 1, 2, 3, 3, 1, 2, 3, 2, 1, 2, 3, 1, 2, 3, 3, 1, 2, 1, 3, 1, 2, 3, 1, 3, 2, 2, 1, 2, 1, 2, 3, 1, 1, 2, 3, 1, 2, 3, 1, 2, 3, 1, 2, 3, 3, 2, 3, 1, 2, 1, 2, 3, 1, 2, 3, 1, 3, 1, 2, 3, 1, 2, 3, 1, 2, 3, 3, 1, 2, 3, 1, 2, 3, 1, 2, 3, 3, 1, 2, 3, 2, 1, 2, 3, 3, 1, 2, 3, 1, 2, 1, 2, 3, 2, 1, 2, 3, 1, 2, 2, 1, 2, 3, 1, 3, 2, 3, 3, 1, 3, 1, 2, 3, 3, 1, 2, 3, 1, 2, 3, 3, 2, 1, 2, 1, 3, 3, 1, 2, 1, 2, 3, 1, 2, 1, 2, 3, 1, 3, 1, 2, 1, 2, 3, 1, 2, 3, 3, 1, 2, 3, 3, 1, 2, 3, 1, 3, 3, 1, 2, 3, 1, 2, 3, 2, 3, 2, 1, 2, 3, 2, 3, 1, 2, 3, 1, 2, 2, 3, 1, 2, 1, 2, 1, 2, 3, 1, 3, 1, 1, 2, 3, 2, 1, 2, 3, 2, 2, 1, 2, 3, 1, 2, 3, 1, 2, 3, 1, 2, 3, 1, 2, 1, 2, 3, 1, 1, 2, 3, 1, 2, 3, 1, 2, 3, 1, 2, 3, 1, 2, 3, 3, 1, 2, 3, 1, 3, 3, 1, 2, 3, 1, 3, 1, 2, 3, 1, 2, 1, 2, 3, 1, 2, 3, 1, 2, 3, 2, 3, 3, 1, 2, 3, 3, 1, 2, 3, 1, 2, 1, 2, 3, 1, 2, 3, 1, 2, 3, 1, 2, 3, 1, 1, 2, 1, 2, 3, 1, 1, 2, 3, 1, 2, 1, 3, 1, 1, 2, 1, 2, 3, 1], \"Freq\": [0.8898320019619883, 0.10854351219885029, 0.16281526829827545, 0.7598045853919521, 0.07602748944877752, 0.9123298733853302, 0.012671248241462919, 0.9789049133950264, 0.8909807680884405, 0.9685528476038865, 0.9532673933594049, 0.9894730521528499, 0.0072224310376120425, 0.943902935130778, 0.2610708992510572, 0.24656696040377624, 0.4931339208075525, 0.035632334358803204, 0.9518923607280284, 0.012725833699572572, 0.9857968366351104, 0.42542317117186634, 0.5711699983325983, 0.9647184525238118, 0.9790460096876104, 0.29458014958722795, 0.655678397468346, 0.0475129273527787, 0.9899423677271189, 0.3124606857709159, 0.6800614925602287, 0.00459501008486641, 0.04156568110606623, 0.9530416882176614, 0.0029689772218618737, 0.9855714775333934, 0.01759949067023917, 0.13633920303075883, 0.8606412191316651, 0.9877998994278449, 0.5472742200370043, 0.03648494800246695, 0.41957690202837, 0.9918864665809684, 0.252581781025583, 0.0252581781025583, 0.724067772273338, 0.3648612656559087, 0.6081021094265145, 0.972950155634546, 0.0294833380495317, 0.9750518265913487, 0.9706378505821518, 0.9359666813152552, 0.04679833406576276, 0.018719333626305103, 0.8576122742510347, 0.10488783210264453, 0.037019234859756896, 0.9632422066077594, 0.0418800959394678, 0.600857911049774, 0.23923046458463224, 0.1669049752916039, 0.9965749183718947, 0.497017097534291, 0.10108822322731342, 0.4043528929092537, 0.9887460833126617, 0.007324045061575271, 0.1316138197268738, 0.8195951501173505, 0.047859570809772295, 0.9646926030929004, 0.9445668874971629, 0.014531798269187123, 0.029063596538374245, 0.9739866936540583, 0.17115599208528084, 0.7797106306107239, 0.05071288654378692, 0.192886120628714, 0.6162946781063788, 0.1975906601562436, 0.9438671112575923, 0.01652212339889785, 0.9748052805349731, 0.9607162509726271, 0.9791132445014736, 0.1807486345694503, 0.49705874506598835, 0.31631011049653807, 0.9906168766670279, 0.89101643409952, 0.9582683213338519, 0.9744253173137458, 0.19683692606148478, 0.8004701659833715, 0.049866066644285806, 0.19946426657714322, 0.7479909996642872, 0.9835116580067516, 0.7917121609556795, 0.1752868253038405, 0.03213591797237075, 0.8032837303314092, 0.11282074864205185, 0.08123093902227733, 0.25743711024542437, 0.37070943875341106, 0.37070943875341106, 0.6401668540068773, 0.2798334152245632, 0.08050002355775104, 0.9647401116683547, 0.998761244096485, 0.0019975224881929703, 0.040040014418324436, 0.9609603460397865, 0.339435856007898, 0.6333970518807666, 0.027609615081982133, 0.7027036933806934, 0.28587683064043956, 0.01106619989575895, 0.6775347253711783, 0.326668528303961, 0.9496916029805793, 0.024195964407148517, 0.024195964407148517, 0.9501216937080555, 0.026763991372057903, 0.013381995686028951, 0.8524578957979067, 0.11779418196480165, 0.0309984689381057, 0.9506859429149315, 0.12789544044762516, 0.8607017478772613, 0.006913267051222982, 0.9249413564478047, 0.06937060173358535, 0.0028904417388993897, 0.19875392529047528, 0.3613707732554096, 0.45171346656926203, 0.9507231455309135, 0.5030370392362503, 0.3557514196400509, 0.14048782176868252, 0.9848054154979861, 0.7121760968269869, 0.2431820818433614, 0.04516238662805283, 0.9789801077173055, 0.8968706823769171, 0.08879907746306111, 0.00887990774630611, 0.010363098016966336, 0.9844943116118019, 0.9670790194478097, 0.03381395172894439, 0.006762790345788879, 0.9888938674035148, 0.9330467346473862, 0.0528139661121162, 0.0088023276853527, 0.9898476343832291, 0.0092509124708713, 0.9871605316907055, 0.5914308039035494, 0.3305054492402188, 0.0826263623100547, 0.08706653686855247, 0.9141986371198009, 0.06407956538402278, 0.8971139153763189, 0.9196142527595024, 0.18026330124326437, 0.7811409720541457, 0.8438145044339106, 0.14019070089487437, 0.016021794387985643, 0.9587053767922739, 0.2641072018539272, 0.6721072929937872, 0.06375001424060313, 0.03982560787946379, 0.9513895215649685, 0.008850135084325288, 0.9861991870179898, 0.9721480018295873, 0.9949499008743338, 0.0037124996301281113, 0.9946399737729766, 0.9506754488590914, 0.8905300320454415, 0.9706990377990055, 0.027933785260403035, 0.9205956934005529, 0.04661244017217989, 0.03495933012913492, 0.9709994126377223, 0.029171656173665475, 0.8107942983265498, 0.18227158644550343, 0.006285227118810463, 0.3886714166588276, 0.6072990885294182, 0.9933641188557222, 0.007641262452736324, 0.5706507385260994, 0.4009978162615834, 0.026990237632991187, 0.015582136266286227, 0.9660924485097461, 0.015582136266286227, 0.9196058144981565, 0.34110924416120125, 0.6160718288082533, 0.044097773009432864, 0.9218204610270111, 0.3827442704560914, 0.10935550584459755, 0.5194386527618383, 0.142664127054979, 0.855984762329874, 0.963968080975882, 0.048601684676610045, 0.9477328511938958, 0.9845154000630767, 0.5845733617101524, 0.40680836282753297, 0.0068371153416392095, 0.9764404467693782, 0.021226966234116917, 0.996559943139131, 0.10915445760224307, 0.10915445760224307, 0.8004660224164492, 0.18788200828580393, 0.7891044348003765, 0.4461098578471791, 0.2659501075627414, 0.28310817901840213, 0.9806609871500508, 0.9801922656721193, 0.9755806877042554, 0.02075703590860118, 0.9850425881350643, 0.9921135797918362, 0.9953832609037478, 0.9708523154397598, 0.06118069810319479, 0.9299466111685608, 0.012236139620638957, 0.9878746530971657, 0.8894801623567101, 0.9864850285372488, 0.8462212787128607, 0.07308274679792888, 0.08077566751350033, 0.9974820008035156, 0.17031056757532728, 0.807398246283033, 0.018923396397258586, 0.983822183046093, 0.9532674450396382, 0.9464026217618158, 0.026047778580600433, 0.026047778580600433, 0.7626533683430736, 0.23287125750933543, 0.005821781437733386, 0.6007749523668535, 0.09081481838103599, 0.3073732314435064, 0.14632706785293936, 0.03658176696323484, 0.8413806401544014, 0.9832519994894322, 0.9722713270153277, 0.7028508140974921, 0.2960012960583892, 0.0012181123294583917, 0.9684967114503745, 0.4041652428378989, 0.5909174584940315, 0.005574693004660674, 0.37083650635574383, 0.6008126343282981, 0.02874701599656929, 0.3853750342753848, 0.24085939642211548, 0.3693177411805771, 0.6665205904099281, 0.27666892432110224, 0.054495394184459534, 0.029160080547719992, 0.970859152353501, 0.001715298855748235, 0.9619568616693615, 0.2599897614090967, 0.607527095537583, 0.13264783745362074, 0.47779510076306336, 0.5184585135939623, 0.9195914954334928, 0.802490236983466, 0.14228550301125284, 0.05122278108405102, 0.9606481729643601, 0.982706926047809, 0.9685958764645145, 0.0127446825850594, 0.0254893651701188, 0.15328533454071575, 0.8471031645671133, 0.05297969464244669, 0.9337671180731228, 0.01986738549091751, 0.19196442547944156, 0.7500832180770772, 0.056878348290204904, 0.6616857278332074, 0.1323371455666415, 0.2051225756282943, 0.10605404861891195, 0.9014594132607516, 0.9480235339041853, 0.2843317668647333, 0.6011585927997218, 0.11373270674589334, 0.9791068902622206, 0.7673960372951136, 0.22714922703935364, 0.006139168298360909, 0.01995565945694643, 0.9778273133903751, 0.35557474450274235, 0.6261207457548289, 0.01932471437514904, 0.27368344760280805, 0.7066009010836135, 0.024880313418437095, 0.09679689375841759, 0.9034376750785642, 0.9196426214019012, 0.48233709722670964, 0.07821682657730426, 0.43019254617517344, 0.988846142138489, 0.9957864445619453, 0.9977740275670303, 0.04022587096031656, 0.8366981159745844, 0.12067761288094968, 0.9915296783515903, 0.41729346795683836, 0.10885916555395783, 0.48986624499281023, 0.9882591234802882, 0.022460434624552005, 0.07162474910304696, 0.8594969892365636, 0.981913541223228, 0.02404065918924869, 0.9856670267591963, 0.02032777267791734, 0.9757330885400324, 0.002903967525416763, 0.99198588618922], \"Term\": [\"activit\", \"africa\", \"africa\", \"africa\", \"alloc\", \"alloc\", \"alloc\", \"an\", \"anne\", \"announc\", \"apprais\", \"apr\", \"apr\", \"asean\", \"asia\", \"asia\", \"asia\", \"asset\", \"asset\", \"asset\", \"attract\", \"averag\", \"averag\", \"baiss\", \"ballist\", \"base\", \"base\", \"base\", \"baselin\", \"bloomberg\", \"bloomberg\", \"bloomberg\", \"bond\", \"bond\", \"bond\", \"bp\", \"bp\", \"cash\", \"cash\", \"cee\", \"chain\", \"chain\", \"chain\", \"chartbook\", \"china\", \"china\", \"china\", \"chines\", \"chines\", \"class\", \"class\", \"client\", \"compel\", \"condit\", \"condit\", \"condit\", \"consum\", \"consum\", \"consum\", \"consumpt\", \"consumpt\", \"continu\", \"continu\", \"continu\", \"correl\", \"covid\", \"covid\", \"covid\", \"cpi\", \"cpi\", \"credit\", \"credit\", \"credit\", \"croissanc\", \"cut\", \"cut\", \"cut\", \"datastream\", \"debt\", \"debt\", \"debt\", \"decemb\", \"decemb\", \"decemb\", \"decoupl\", \"default\", \"default\", \"deposit\", \"dett\", \"develop\", \"develop\", \"develop\", \"disclaim\", \"dispon\", \"downgrad\", \"durat\", \"earn\", \"earn\", \"east\", \"east\", \"east\", \"ecb\", \"econom\", \"econom\", \"econom\", \"economi\", \"economi\", \"economi\", \"emerg\", \"emerg\", \"emerg\", \"energi\", \"energi\", \"energi\", \"epargn\", \"equiti\", \"equiti\", \"estat\", \"estat\", \"exhibit\", \"exhibit\", \"exhibit\", \"expect\", \"expect\", \"expect\", \"export\", \"export\", \"fed\", \"fed\", \"fed\", \"food\", \"food\", \"food\", \"forecast\", \"forecast\", \"forecast\", \"fort\", \"fund\", \"fund\", \"fund\", \"gdp\", \"gdp\", \"gdp\", \"geopolit\", \"geopolit\", \"geopolit\", \"ghana\", \"global\", \"global\", \"global\", \"gold\", \"growth\", \"growth\", \"growth\", \"hauss\", \"haver\", \"haver\", \"haver\", \"hedg\", \"hedg\", \"hike\", \"hike\", \"hike\", \"histori\", \"hous\", \"hous\", \"hous\", \"household\", \"household\", \"hy\", \"increas\", \"increas\", \"increas\", \"india\", \"india\", \"indonesia\", \"indonesia\", \"industriell\", \"infect\", \"infect\", \"inflat\", \"inflat\", \"inflat\", \"ing\", \"invest\", \"invest\", \"invest\", \"investor\", \"investor\", \"investor\", \"iran\", \"irr\", \"jan\", \"jan\", \"job\", \"juillet\", \"juin\", \"jul\", \"jul\", \"juli\", \"juli\", \"juli\", \"jun\", \"jun\", \"june\", \"june\", \"june\", \"korea\", \"korea\", \"labor\", \"labor\", \"level\", \"level\", \"level\", \"leverag\", \"leverag\", \"leverag\", \"mai\", \"market\", \"market\", \"market\", \"menag\", \"middl\", \"middl\", \"middl\", \"militari\", \"militari\", \"missil\", \"model\", \"model\", \"moi\", \"month\", \"month\", \"month\", \"msci\", \"msci\", \"municip\", \"north\", \"north\", \"north\", \"nuclear\", \"nuclear\", \"oil\", \"oil\", \"oil\", \"open\", \"option\", \"outperform\", \"outperform\", \"output\", \"overweight\", \"pce\", \"percentil\", \"perform\", \"perform\", \"perform\", \"person\", \"philippin\", \"pmi\", \"polici\", \"polici\", \"polici\", \"portfolio\", \"posit\", \"posit\", \"posit\", \"premium\", \"preqin\", \"pressur\", \"pressur\", \"pressur\", \"price\", \"price\", \"price\", \"product\", \"product\", \"product\", \"progress\", \"progress\", \"progress\", \"qoq\", \"qualiti\", \"rate\", \"rate\", \"rate\", \"read\", \"real\", \"real\", \"real\", \"recess\", \"recess\", \"recess\", \"region\", \"region\", \"region\", \"remain\", \"remain\", \"remain\", \"return\", \"return\", \"return\", \"revolut\", \"risk\", \"risk\", \"risk\", \"russia\", \"russia\", \"semain\", \"servic\", \"servic\", \"servic\", \"shelter\", \"sir\", \"spend\", \"spend\", \"spend\", \"spread\", \"spread\", \"stock\", \"stock\", \"stock\", \"strategi\", \"strategi\", \"strategi\", \"suppli\", \"suppli\", \"suppli\", \"taiwan\", \"taiwan\", \"taux\", \"term\", \"term\", \"term\", \"terror\", \"tighten\", \"tighten\", \"tighten\", \"tilt\", \"tilt\", \"time\", \"time\", \"time\", \"total\", \"total\", \"total\", \"treasuri\", \"treasuri\", \"trimestr\", \"ukrain\", \"ukrain\", \"ukrain\", \"unemploy\", \"unicredit\", \"valuat\", \"volatil\", \"volatil\", \"volatil\", \"wage\", \"war\", \"war\", \"war\", \"weaker\", \"weaker\", \"weapon\", \"weapon\", \"worker\", \"worst\", \"worst\", \"yield\", \"yield\", \"yield\", \"yoy\"]}, \"R\": 30, \"lambda.step\": 0.01, \"plot.opts\": {\"xlab\": \"PC1\", \"ylab\": \"PC2\"}, \"topic.order\": [1, 2, 3]};\n",
       "\n",
       "function LDAvis_load_lib(url, callback){\n",
       "  var s = document.createElement('script');\n",
       "  s.src = url;\n",
       "  s.async = true;\n",
       "  s.onreadystatechange = s.onload = callback;\n",
       "  s.onerror = function(){console.warn(\"failed to load library \" + url);};\n",
       "  document.getElementsByTagName(\"head\")[0].appendChild(s);\n",
       "}\n",
       "\n",
       "if(typeof(LDAvis) !== \"undefined\"){\n",
       "   // already loaded: just create the visualization\n",
       "   !function(LDAvis){\n",
       "       new LDAvis(\"#\" + \"ldavis_el720432138009867047614645572\", ldavis_el720432138009867047614645572_data);\n",
       "   }(LDAvis);\n",
       "}else if(typeof define === \"function\" && define.amd){\n",
       "   // require.js is available: use it to load d3/LDAvis\n",
       "   require.config({paths: {d3: \"https://d3js.org/d3.v5\"}});\n",
       "   require([\"d3\"], function(d3){\n",
       "      window.d3 = d3;\n",
       "      LDAvis_load_lib(\"https://cdn.jsdelivr.net/gh/bmabey/pyLDAvis@3.4.0/pyLDAvis/js/ldavis.v3.0.0.js\", function(){\n",
       "        new LDAvis(\"#\" + \"ldavis_el720432138009867047614645572\", ldavis_el720432138009867047614645572_data);\n",
       "      });\n",
       "    });\n",
       "}else{\n",
       "    // require.js not available: dynamically load d3 & LDAvis\n",
       "    LDAvis_load_lib(\"https://d3js.org/d3.v5.js\", function(){\n",
       "         LDAvis_load_lib(\"https://cdn.jsdelivr.net/gh/bmabey/pyLDAvis@3.4.0/pyLDAvis/js/ldavis.v3.0.0.js\", function(){\n",
       "                 new LDAvis(\"#\" + \"ldavis_el720432138009867047614645572\", ldavis_el720432138009867047614645572_data);\n",
       "            })\n",
       "         });\n",
       "}\n",
       "</script>"
      ],
      "text/plain": [
       "<IPython.core.display.HTML object>"
      ]
     },
     "execution_count": 134,
     "metadata": {},
     "output_type": "execute_result"
    }
   ],
   "source": [
    "import pyLDAvis.gensim_models as gensimvis\n",
    "import pyLDAvis\n",
    "\n",
    "# Generate the visualization data\n",
    "vis_data = gensimvis.prepare(lda_model_2, doc_term_matrix, dictionary_2)\n",
    "# Plot the interactive visualization\n",
    "pyLDAvis.display(vis_data)"
   ]
  },
  {
   "cell_type": "code",
   "execution_count": 31,
   "metadata": {},
   "outputs": [],
   "source": [
    "data['clean_text']=data.groupby('file_name')['text'].transform(lambda x: ' '.join(x))\n",
    "data.drop_duplicates(subset=['file_name', 'clean_text'], inplace=True)\n",
    "data.reset_index(drop=True, inplace=True)"
   ]
  },
  {
   "cell_type": "code",
   "execution_count": 32,
   "metadata": {},
   "outputs": [
    {
     "data": {
      "text/html": [
       "<div>\n",
       "<style scoped>\n",
       "    .dataframe tbody tr th:only-of-type {\n",
       "        vertical-align: middle;\n",
       "    }\n",
       "\n",
       "    .dataframe tbody tr th {\n",
       "        vertical-align: top;\n",
       "    }\n",
       "\n",
       "    .dataframe thead th {\n",
       "        text-align: right;\n",
       "    }\n",
       "</style>\n",
       "<table border=\"1\" class=\"dataframe\">\n",
       "  <thead>\n",
       "    <tr style=\"text-align: right;\">\n",
       "      <th></th>\n",
       "      <th>file_name</th>\n",
       "      <th>page_num</th>\n",
       "      <th>text</th>\n",
       "      <th>clean_text</th>\n",
       "      <th>tokens</th>\n",
       "      <th>subjectivity_score</th>\n",
       "      <th>date</th>\n",
       "      <th>bank</th>\n",
       "      <th>title</th>\n",
       "      <th>topic</th>\n",
       "    </tr>\n",
       "  </thead>\n",
       "  <tbody>\n",
       "    <tr>\n",
       "      <th>0</th>\n",
       "      <td>01 01 2023_Goldman Sachs_Caution Heavy Fog</td>\n",
       "      <td>1</td>\n",
       "      <td>Outlook Caution: Heavy Fog Investment Strategy...</td>\n",
       "      <td>Outlook Caution: Heavy Fog Investment Strategy...</td>\n",
       "      <td>['caution', 'heavy', 'fog', 'investment', 'str...</td>\n",
       "      <td>0.476515</td>\n",
       "      <td>01 01 2023</td>\n",
       "      <td>Goldman Sachs</td>\n",
       "      <td>Caution Heavy Fog</td>\n",
       "      <td>1</td>\n",
       "    </tr>\n",
       "    <tr>\n",
       "      <th>1</th>\n",
       "      <td>01 07 2022_Unicredit_Economics chartbook Q2</td>\n",
       "      <td>1</td>\n",
       "      <td>3Q          2022      Editor: Chiara Silvestr...</td>\n",
       "      <td>3Q          2022      Editor: Chiara Silvestr...</td>\n",
       "      <td>['editor', 'chiara', 'silvestre', 'economist',...</td>\n",
       "      <td>0.000000</td>\n",
       "      <td>01 07 2022</td>\n",
       "      <td>Unicredit</td>\n",
       "      <td>Economics chartbook Q2</td>\n",
       "      <td>0</td>\n",
       "    </tr>\n",
       "    <tr>\n",
       "      <th>2</th>\n",
       "      <td>01 11 2022_bnp_parisbas global view 2023</td>\n",
       "      <td>1</td>\n",
       "      <td>I N V E S T M E N T  O U T L O O K  F O R  2 0...</td>\n",
       "      <td>I N V E S T M E N T  O U T L O O K  F O R  2 0...</td>\n",
       "      <td>['sustainable', 'investor', 'changing', 'inves...</td>\n",
       "      <td>0.100000</td>\n",
       "      <td>01 11 2022</td>\n",
       "      <td>bnp</td>\n",
       "      <td>parisbas global view 2023</td>\n",
       "      <td>1</td>\n",
       "    </tr>\n",
       "    <tr>\n",
       "      <th>3</th>\n",
       "      <td>01 12 2020_UBS_alternative-investments-improvi...</td>\n",
       "      <td>1</td>\n",
       "      <td>For marketing purposes For professional / qual...</td>\n",
       "      <td>For marketing purposes For professional / qual...</td>\n",
       "      <td>['marketing', 'professional', 'qualified', 'in...</td>\n",
       "      <td>0.550000</td>\n",
       "      <td>01 12 2020</td>\n",
       "      <td>UBS</td>\n",
       "      <td>alternative-investments-improving-portfolio-pe...</td>\n",
       "      <td>0</td>\n",
       "    </tr>\n",
       "    <tr>\n",
       "      <th>4</th>\n",
       "      <td>01 12 2022_Goldman Sachs_global view 2023</td>\n",
       "      <td>1</td>\n",
       "      <td>1 Goldman Sachs Asset Management Strategic Adv...</td>\n",
       "      <td>1 Goldman Sachs Asset Management Strategic Adv...</td>\n",
       "      <td>['asset', 'management', 'strategic', 'advisory...</td>\n",
       "      <td>0.425532</td>\n",
       "      <td>01 12 2022</td>\n",
       "      <td>Goldman Sachs</td>\n",
       "      <td>global view 2023</td>\n",
       "      <td>0</td>\n",
       "    </tr>\n",
       "  </tbody>\n",
       "</table>\n",
       "</div>"
      ],
      "text/plain": [
       "                                           file_name  page_num  \\\n",
       "0         01 01 2023_Goldman Sachs_Caution Heavy Fog         1   \n",
       "1        01 07 2022_Unicredit_Economics chartbook Q2         1   \n",
       "2           01 11 2022_bnp_parisbas global view 2023         1   \n",
       "3  01 12 2020_UBS_alternative-investments-improvi...         1   \n",
       "4          01 12 2022_Goldman Sachs_global view 2023         1   \n",
       "\n",
       "                                                text  \\\n",
       "0  Outlook Caution: Heavy Fog Investment Strategy...   \n",
       "1   3Q          2022      Editor: Chiara Silvestr...   \n",
       "2  I N V E S T M E N T  O U T L O O K  F O R  2 0...   \n",
       "3  For marketing purposes For professional / qual...   \n",
       "4  1 Goldman Sachs Asset Management Strategic Adv...   \n",
       "\n",
       "                                          clean_text  \\\n",
       "0  Outlook Caution: Heavy Fog Investment Strategy...   \n",
       "1   3Q          2022      Editor: Chiara Silvestr...   \n",
       "2  I N V E S T M E N T  O U T L O O K  F O R  2 0...   \n",
       "3  For marketing purposes For professional / qual...   \n",
       "4  1 Goldman Sachs Asset Management Strategic Adv...   \n",
       "\n",
       "                                              tokens  subjectivity_score  \\\n",
       "0  ['caution', 'heavy', 'fog', 'investment', 'str...            0.476515   \n",
       "1  ['editor', 'chiara', 'silvestre', 'economist',...            0.000000   \n",
       "2  ['sustainable', 'investor', 'changing', 'inves...            0.100000   \n",
       "3  ['marketing', 'professional', 'qualified', 'in...            0.550000   \n",
       "4  ['asset', 'management', 'strategic', 'advisory...            0.425532   \n",
       "\n",
       "         date           bank  \\\n",
       "0  01 01 2023  Goldman Sachs   \n",
       "1  01 07 2022      Unicredit   \n",
       "2  01 11 2022            bnp   \n",
       "3  01 12 2020            UBS   \n",
       "4  01 12 2022  Goldman Sachs   \n",
       "\n",
       "                                               title  topic  \n",
       "0                                  Caution Heavy Fog      1  \n",
       "1                             Economics chartbook Q2      0  \n",
       "2                          parisbas global view 2023      1  \n",
       "3  alternative-investments-improving-portfolio-pe...      0  \n",
       "4                                   global view 2023      0  "
      ]
     },
     "execution_count": 32,
     "metadata": {},
     "output_type": "execute_result"
    }
   ],
   "source": [
    "data.head()"
   ]
  },
  {
   "cell_type": "code",
   "execution_count": 70,
   "metadata": {},
   "outputs": [
    {
     "ename": "NameError",
     "evalue": "name 'data' is not defined",
     "output_type": "error",
     "traceback": [
      "\u001b[1;31m---------------------------------------------------------------------------\u001b[0m",
      "\u001b[1;31mNameError\u001b[0m                                 Traceback (most recent call last)",
      "\u001b[1;32mc:\\Users\\rimai\\Desktop\\financial_nlp_nlu\\notebooks\\classification.ipynb Cell 71\u001b[0m line \u001b[0;36m7\n\u001b[0;32m      <a href='vscode-notebook-cell:/c%3A/Users/rimai/Desktop/financial_nlp_nlu/notebooks/classification.ipynb#Y125sZmlsZQ%3D%3D?line=3'>4</a>\u001b[0m \u001b[39mimport\u001b[39;00m \u001b[39mplotly\u001b[39;00m\u001b[39m.\u001b[39;00m\u001b[39mexpress\u001b[39;00m \u001b[39mas\u001b[39;00m \u001b[39mpx\u001b[39;00m\n\u001b[0;32m      <a href='vscode-notebook-cell:/c%3A/Users/rimai/Desktop/financial_nlp_nlu/notebooks/classification.ipynb#Y125sZmlsZQ%3D%3D?line=5'>6</a>\u001b[0m vectorizer \u001b[39m=\u001b[39m TfidfVectorizer()\n\u001b[1;32m----> <a href='vscode-notebook-cell:/c%3A/Users/rimai/Desktop/financial_nlp_nlu/notebooks/classification.ipynb#Y125sZmlsZQ%3D%3D?line=6'>7</a>\u001b[0m processed_docs \u001b[39m=\u001b[39m data[\u001b[39m'\u001b[39m\u001b[39mclean_text\u001b[39m\u001b[39m'\u001b[39m]\u001b[39m.\u001b[39mtolist()\n\u001b[0;32m      <a href='vscode-notebook-cell:/c%3A/Users/rimai/Desktop/financial_nlp_nlu/notebooks/classification.ipynb#Y125sZmlsZQ%3D%3D?line=7'>8</a>\u001b[0m X \u001b[39m=\u001b[39m vectorizer\u001b[39m.\u001b[39mfit_transform(processed_docs)\n\u001b[0;32m      <a href='vscode-notebook-cell:/c%3A/Users/rimai/Desktop/financial_nlp_nlu/notebooks/classification.ipynb#Y125sZmlsZQ%3D%3D?line=8'>9</a>\u001b[0m tsne \u001b[39m=\u001b[39m TSNE(n_components\u001b[39m=\u001b[39m\u001b[39m2\u001b[39m, perplexity\u001b[39m=\u001b[39m\u001b[39m4\u001b[39m, random_state\u001b[39m=\u001b[39m\u001b[39m0\u001b[39m)\n",
      "\u001b[1;31mNameError\u001b[0m: name 'data' is not defined"
     ]
    }
   ],
   "source": [
    "import numpy as np\n",
    "from sklearn.feature_extraction.text import CountVectorizer\n",
    "from sklearn.manifold import TSNE\n",
    "import plotly.express as px\n",
    "\n",
    "vectorizer = CountVectorizer()\n",
    "processed_docs = data['clean_text'].tolist()\n",
    "X = vectorizer.fit_transform(processed_docs)\n",
    "tsne = TSNE(n_components=2, perplexity=4, random_state=0)\n",
    "X_tsne = tsne.fit_transform(X.toarray())\n",
    "\n",
    "tsne_df = pd.DataFrame(X_tsne, columns=['Dimension 1', 'Dimension 2'])\n",
    "tsne_df['title'] = data['title']  \n",
    "\n",
    "fig = px.scatter(tsne_df, x='Dimension 1', y='Dimension 2', custom_data=['title'],\n",
    "                 color='title', title='t-SNE Visualization of Documents')\n",
    "fig.update_traces(marker=dict(size=12, opacity=0.7))\n",
    "fig.update_layout(hovermode='closest')\n",
    "fig.update_layout(hoverlabel=dict(namelength=0)) \n",
    "fig.update_traces(textposition='top center')  \n",
    "fig.show()\n"
   ]
  },
  {
   "cell_type": "code",
   "execution_count": 46,
   "metadata": {},
   "outputs": [
    {
     "name": "stdout",
     "output_type": "stream",
     "text": [
      "Variance per dimension: [2512.615     123.913994]\n",
      "Standard deviation per dimension: [50.12599  11.131666]\n"
     ]
    }
   ],
   "source": [
    "variance_per_dimension = np.var(X_tsne, axis=0)\n",
    "std_deviation_per_dimension = np.std(X_tsne, axis=0)\n",
    "\n",
    "print(\"Variance per dimension:\", variance_per_dimension)\n",
    "print(\"Standard deviation per dimension:\", std_deviation_per_dimension)"
   ]
  },
  {
   "cell_type": "code",
   "execution_count": 13,
   "metadata": {},
   "outputs": [
    {
     "data": {
      "text/plain": [
       "[1, 2, 4, 5]"
      ]
     },
     "execution_count": 13,
     "metadata": {},
     "output_type": "execute_result"
    }
   ],
   "source": [
    "[1,2]+[4,5]"
   ]
  },
  {
   "cell_type": "code",
   "execution_count": 10,
   "metadata": {},
   "outputs": [
    {
     "name": "stdout",
     "output_type": "stream",
     "text": [
      "     Dimension 1  Dimension 2  Dimension 3       Word\n",
      "0     -11.732770     8.888331    -4.457830      tilts\n",
      "1      13.094135     3.744863     0.248683     turner\n",
      "2      13.109726     3.760818     0.242965      chris\n",
      "3      -6.833136    -0.167213     6.016998       mild\n",
      "4      -7.056195   -10.586903     0.181492     cycles\n",
      "..           ...          ...          ...        ...\n",
      "144     0.322028    -7.164661     4.195466  weakening\n",
      "145     0.545009    -5.783148    -4.061032  overnight\n",
      "146     4.812994    -0.730653    -0.014860   building\n",
      "147     4.251011    -7.485504     2.782750      spike\n",
      "148    11.661928    -3.021403    -1.160304      party\n",
      "\n",
      "[149 rows x 4 columns]\n"
     ]
    },
    {
     "data": {
      "application/vnd.plotly.v1+json": {
       "config": {
        "plotlyServerURL": "https://plot.ly"
       },
       "data": [
        {
         "hovertemplate": "Dimension 1=%{x}<br>Dimension 2=%{y}<br>Dimension 3=%{z}<br>Word=%{text}<extra></extra>",
         "legendgroup": "",
         "marker": {
          "color": "rgb(228,26,28)",
          "opacity": 0.7,
          "size": 6,
          "symbol": "circle"
         },
         "mode": "markers+text",
         "name": "",
         "scene": "scene",
         "showlegend": false,
         "text": [
          "tilts",
          "turner",
          "chris",
          "mild",
          "cycles",
          "loss",
          "population",
          "combination",
          "people",
          "reason",
          "ease",
          "weak",
          "house",
          "concerns",
          "stable",
          "moving",
          "tilt",
          "table",
          "improve",
          "resilience",
          "weight",
          "add",
          "products",
          "declines",
          "cyclical",
          "bund",
          "boost",
          "territory",
          "double",
          "reached",
          "revision",
          "growing",
          "conflict",
          "assumptions",
          "achieved",
          "finally",
          "reduce",
          "bull",
          "downturn",
          "raise",
          "situation",
          "recommend",
          "weigh",
          "decision",
          "tensions",
          "tend",
          "japanese",
          "drivers",
          "contribution",
          "fell",
          "german",
          "strength",
          "productivity",
          "faster",
          "compelling",
          "multiple",
          "initial",
          "conference",
          "ism",
          "broad",
          "improvement",
          "hungary",
          "limit",
          "scenarios",
          "political",
          "avoid",
          "highs",
          "assurance",
          "policies",
          "sustainable",
          "export",
          "main",
          "quarterly",
          "actual",
          "incremental",
          "stimulus",
          "office",
          "measured",
          "brent",
          "difficult",
          "gross",
          "czech",
          "sheets",
          "ongoing",
          "era",
          "mois",
          "payments",
          "odds",
          "invasion",
          "restrictive",
          "include",
          "usa",
          "reach",
          "winter",
          "continuing",
          "shelter",
          "drop",
          "erste",
          "australia",
          "indonesia",
          "raised",
          "correlation",
          "macroeconomic",
          "slower",
          "traditional",
          "weekly",
          "revenue",
          "datastream",
          "trends",
          "structural",
          "boc",
          "raising",
          "regional",
          "financials",
          "peaking",
          "fallen",
          "changed",
          "health",
          "percentile",
          "securities",
          "talking",
          "dividend",
          "push",
          "taxes",
          "regime",
          "gbp",
          "capacity",
          "futures",
          "regions",
          "hold",
          "service",
          "stands",
          "running",
          "gmaa",
          "substantial",
          "started",
          "input",
          "volatile",
          "position",
          "larger",
          "policymakers",
          "challenges",
          "report",
          "bubble",
          "weakening",
          "overnight",
          "building",
          "spike",
          "party"
         ],
         "textposition": "top center",
         "type": "scatter3d",
         "x": [
          -11.732769966125488,
          13.094135284423828,
          13.109725952148438,
          -6.833135604858398,
          -7.05619478225708,
          -3.2442808151245117,
          5.341416835784912,
          -8.967761039733887,
          6.078229904174805,
          -11.293581008911133,
          -4.845224380493164,
          -6.237322807312012,
          10.081155776977539,
          -7.633945941925049,
          10.205721855163574,
          0.8292491436004639,
          -10.134206771850586,
          8.150561332702637,
          -3.708477020263672,
          -6.276618957519531,
          1.626165509223938,
          -3.762331962585449,
          5.006430625915527,
          -1.8244355916976929,
          4.086009979248047,
          6.3786211013793945,
          -3.4875690937042236,
          -4.646273136138916,
          -3.37471342086792,
          -2.3646440505981445,
          4.880195140838623,
          -7.644131660461426,
          0.6165236234664917,
          4.90074348449707,
          6.531484603881836,
          -6.942623138427734,
          -10.695096969604492,
          -8.683330535888672,
          -9.146668434143066,
          -5.28928804397583,
          10.000896453857422,
          -10.314655303955078,
          0.3631162643432617,
          0.4712831377983093,
          1.758047103881836,
          -7.628839492797852,
          -6.4688401222229,
          3.093327522277832,
          8.027315139770508,
          -0.061568111181259155,
          9.12171745300293,
          -4.736575603485107,
          -5.699672222137451,
          -1.1946892738342285,
          -11.952527046203613,
          -5.685946464538574,
          9.415706634521484,
          2.182605743408203,
          -1.0788979530334473,
          -1.0386412143707275,
          -0.004666950553655624,
          8.228056907653809,
          -9.755895614624023,
          2.122779607772827,
          3.1695380210876465,
          -8.162981033325195,
          -2.377028703689575,
          6.621316432952881,
          -3.3743395805358887,
          -4.8600664138793945,
          8.56170654296875,
          2.6501734256744385,
          8.015869140625,
          2.382359266281128,
          -13.005545616149902,
          -3.502454996109009,
          4.020993709564209,
          -1.3424944877624512,
          10.208535194396973,
          3.1282122135162354,
          6.616016387939453,
          8.15087890625,
          -3.726706027984619,
          -1.9226025342941284,
          2.986631393432617,
          11.721463203430176,
          0.7322001457214355,
          -8.94853401184082,
          0.6158033609390259,
          -6.41731595993042,
          5.113840103149414,
          9.356935501098633,
          -9.37819766998291,
          1.2421011924743652,
          0.29215991497039795,
          6.942897796630859,
          -2.412313938140869,
          9.159643173217773,
          7.456567287445068,
          7.016729831695557,
          -4.850466251373291,
          -12.6503324508667,
          2.9402830600738525,
          -0.5065774917602539,
          -11.861358642578125,
          -8.686074256896973,
          0.9308356046676636,
          -8.609747886657715,
          3.623826026916504,
          -6.786459445953369,
          -0.49257564544677734,
          -6.550041198730469,
          5.531430244445801,
          -5.627954483032227,
          -2.521120309829712,
          -2.228701114654541,
          0.44608253240585327,
          7.413109302520752,
          -0.6144807934761047,
          -3.259361982345581,
          10.78268814086914,
          -1.929023265838623,
          -1.569258213043213,
          -2.27587890625,
          -6.955363750457764,
          11.5368070602417,
          8.903909683227539,
          6.427987098693848,
          -7.430765151977539,
          -1.75335693359375,
          -1.2765028476715088,
          -3.7938358783721924,
          5.861337184906006,
          7.470800876617432,
          -0.7535140514373779,
          -4.58792781829834,
          7.4134521484375,
          -6.12885856628418,
          4.011251449584961,
          -3.183063507080078,
          1.5942076444625854,
          2.735257625579834,
          2.0126547813415527,
          -5.235959529876709,
          0.32202795147895813,
          0.545008659362793,
          4.812994003295898,
          4.251010894775391,
          11.661928176879883
         ],
         "y": [
          8.888331413269043,
          3.7448625564575195,
          3.7608184814453125,
          -0.16721315681934357,
          -10.586902618408203,
          6.575698375701904,
          -2.651663303375244,
          1.7607961893081665,
          -2.2445971965789795,
          0.7143642902374268,
          -10.022750854492188,
          0.4947589039802551,
          0.49452638626098633,
          1.630821943283081,
          -0.4896280765533447,
          4.786294460296631,
          7.692764759063721,
          2.4534175395965576,
          4.174893379211426,
          0.056331560015678406,
          5.116433143615723,
          5.124425888061523,
          -1.608708381652832,
          0.8969182372093201,
          -7.585133075714111,
          5.637247562408447,
          -5.470630645751953,
          -7.516017913818359,
          3.8869144916534424,
          -2.4981324672698975,
          7.650351524353027,
          0.629635751247406,
          -4.068652153015137,
          7.66017484664917,
          8.386879920959473,
          -0.7316223382949829,
          0.9389897584915161,
          10.157244682312012,
          -1.023838996887207,
          -10.1487455368042,
          -2.989757776260376,
          7.276318550109863,
          -6.584575653076172,
          -2.733527421951294,
          -0.19949458539485931,
          3.5678141117095947,
          1.0409663915634155,
          -2.1257340908050537,
          3.6938254833221436,
          4.608407020568848,
          -0.6365548372268677,
          7.337142467498779,
          0.7724730372428894,
          -7.640555381774902,
          7.814540386199951,
          5.813496112823486,
          -2.0316293239593506,
          -4.849473476409912,
          1.2951233386993408,
          1.1486836671829224,
          -1.791926383972168,
          0.3564583659172058,
          0.6840385794639587,
          4.6168646812438965,
          -0.9293628334999084,
          0.19625511765480042,
          -1.238454818725586,
          8.42432689666748,
          -5.895258903503418,
          5.22377347946167,
          -1.6888583898544312,
          -2.6540489196777344,
          3.4373953342437744,
          4.700415134429932,
          8.753985404968262,
          -6.172343730926514,
          -3.328322410583496,
          1.0912988185882568,
          1.8184459209442139,
          -1.846380352973938,
          4.940944194793701,
          -0.2025361955165863,
          -4.392396450042725,
          -5.625943660736084,
          -2.5252127647399902,
          -3.133774518966675,
          5.565460681915283,
          3.854832172393799,
          -4.058968544006348,
          -10.448651313781738,
          -1.7564914226531982,
          2.712764263153076,
          0.6724464297294617,
          -4.612586498260498,
          -8.172364234924316,
          -7.596320152282715,
          -0.38328877091407776,
          -2.5708887577056885,
          -1.087510347366333,
          -1.6096376180648804,
          -8.810730934143066,
          7.794896125793457,
          -2.6108851432800293,
          -7.431845188140869,
          7.450341701507568,
          10.042288780212402,
          5.5914716720581055,
          11.103848457336426,
          -2.2230639457702637,
          -0.8669052124023438,
          -5.7182464599609375,
          -10.194456100463867,
          -2.074532985687256,
          1.3074314594268799,
          -8.307408332824707,
          -1.953757882118225,
          -5.990428447723389,
          -1.4991600513458252,
          7.70548677444458,
          6.2423095703125,
          -1.1135327816009521,
          7.2032904624938965,
          -8.152398109436035,
          -0.2121371030807495,
          7.016851902008057,
          2.331484317779541,
          -1.247941255569458,
          5.194326877593994,
          1.5840541124343872,
          -1.7667204141616821,
          4.525064468383789,
          4.885011196136475,
          -6.835634708404541,
          4.994866371154785,
          -1.633546233177185,
          -8.217412948608398,
          -7.744654655456543,
          1.4042500257492065,
          -2.333026170730591,
          4.587861061096191,
          -3.749936819076538,
          -1.5088549852371216,
          -3.039363145828247,
          5.730612277984619,
          -7.164660930633545,
          -5.783148288726807,
          -0.7306533455848694,
          -7.485504150390625,
          -3.021402597427368
         ],
         "z": [
          -4.457830429077148,
          0.24868258833885193,
          0.24296510219573975,
          6.016998291015625,
          0.1814919114112854,
          -5.154453754425049,
          -2.33847713470459,
          1.5927507877349854,
          -2.186154365539551,
          -1.038292407989502,
          2.6588709354400635,
          5.825984001159668,
          1.509636402130127,
          -0.46144142746925354,
          1.3947947025299072,
          -1.731581687927246,
          -3.46125864982605,
          -3.3262417316436768,
          -2.8116183280944824,
          6.179044723510742,
          -1.2511999607086182,
          -5.455803871154785,
          3.2344305515289307,
          1.3635666370391846,
          2.7213549613952637,
          0.14109466969966888,
          4.294412136077881,
          0.5041856169700623,
          -4.855859279632568,
          -0.6860407590866089,
          -6.425239086151123,
          0.2476436048746109,
          9.255722999572754,
          -6.425800800323486,
          -6.389481067657471,
          2.550732135772705,
          -0.7504932880401611,
          -2.012725591659546,
          0.7957584857940674,
          2.1244075298309326,
          3.0071144104003906,
          -3.664196491241455,
          4.897817611694336,
          -1.0982179641723633,
          4.8217082023620605,
          -0.934923529624939,
          -0.4831366240978241,
          1.3831150531768799,
          -1.8489091396331787,
          -1.5242576599121094,
          3.7259833812713623,
          -4.793531894683838,
          7.202733516693115,
          3.6282172203063965,
          -4.824236869812012,
          -1.5190118551254272,
          2.4158096313476562,
          -4.158675193786621,
          -0.06209084019064903,
          -1.0466430187225342,
          -0.5688236355781555,
          -4.18544340133667,
          0.013600625097751617,
          -3.5559279918670654,
          5.581339359283447,
          0.7299108505249023,
          2.1878461837768555,
          -6.386234283447266,
          5.442379951477051,
          -6.031444072723389,
          4.149016380310059,
          5.37660551071167,
          -2.468517303466797,
          -3.5514931678771973,
          -5.377155780792236,
          5.691221714019775,
          -2.8487472534179688,
          -2.0715460777282715,
          1.0848708152770996,
          4.083835601806641,
          -1.335457682609558,
          -4.196661949157715,
          3.4295172691345215,
          6.629236698150635,
          5.685635089874268,
          -1.231001377105713,
          0.29189273715019226,
          -1.0407774448394775,
          9.251630783081055,
          0.8371623158454895,
          -0.22445423901081085,
          0.2509443461894989,
          0.5492414236068726,
          5.026910305023193,
          2.9026544094085693,
          3.157472848892212,
          3.0621774196624756,
          0.9074968695640564,
          -3.578634738922119,
          -3.1597824096679688,
          0.1741352528333664,
          -5.331017971038818,
          0.2527828812599182,
          3.913468360900879,
          -4.804596900939941,
          -1.9994314908981323,
          0.25219759345054626,
          -2.0592288970947266,
          0.5352715253829956,
          2.995713710784912,
          -3.8169243335723877,
          0.12452605366706848,
          -0.9131425023078918,
          -3.849138021469116,
          1.4742743968963623,
          3.1094746589660645,
          -4.09071159362793,
          3.5194482803344727,
          -5.418022155761719,
          -5.281580448150635,
          -0.0918532982468605,
          -5.407939910888672,
          2.623093843460083,
          2.113553285598755,
          -0.8564451336860657,
          0.8253147602081299,
          3.46085524559021,
          -0.9984015822410583,
          -2.897395610809326,
          -0.06785698235034943,
          -1.7204554080963135,
          -2.1625258922576904,
          2.7195210456848145,
          -2.675753593444824,
          -0.3650318682193756,
          0.50454181432724,
          3.3427815437316895,
          -3.5813536643981934,
          6.625032424926758,
          -2.0994317531585693,
          4.6511054039001465,
          4.547139644622803,
          -0.7467882037162781,
          -1.7513302564620972,
          4.195466041564941,
          -4.061032295227051,
          -0.014860100112855434,
          2.782749652862549,
          -1.1603041887283325
         ]
        }
       ],
       "layout": {
        "height": 800,
        "hovermode": "closest",
        "legend": {
         "tracegroupgap": 0
        },
        "scene": {
         "domain": {
          "x": [
           0,
           1
          ],
          "y": [
           0,
           1
          ]
         },
         "xaxis": {
          "title": {
           "text": "Dimension 1"
          }
         },
         "yaxis": {
          "title": {
           "text": "Dimension 2"
          }
         },
         "zaxis": {
          "title": {
           "text": "Dimension 3"
          }
         }
        },
        "template": {
         "data": {
          "bar": [
           {
            "error_x": {
             "color": "#2a3f5f"
            },
            "error_y": {
             "color": "#2a3f5f"
            },
            "marker": {
             "line": {
              "color": "#E5ECF6",
              "width": 0.5
             },
             "pattern": {
              "fillmode": "overlay",
              "size": 10,
              "solidity": 0.2
             }
            },
            "type": "bar"
           }
          ],
          "barpolar": [
           {
            "marker": {
             "line": {
              "color": "#E5ECF6",
              "width": 0.5
             },
             "pattern": {
              "fillmode": "overlay",
              "size": 10,
              "solidity": 0.2
             }
            },
            "type": "barpolar"
           }
          ],
          "carpet": [
           {
            "aaxis": {
             "endlinecolor": "#2a3f5f",
             "gridcolor": "white",
             "linecolor": "white",
             "minorgridcolor": "white",
             "startlinecolor": "#2a3f5f"
            },
            "baxis": {
             "endlinecolor": "#2a3f5f",
             "gridcolor": "white",
             "linecolor": "white",
             "minorgridcolor": "white",
             "startlinecolor": "#2a3f5f"
            },
            "type": "carpet"
           }
          ],
          "choropleth": [
           {
            "colorbar": {
             "outlinewidth": 0,
             "ticks": ""
            },
            "type": "choropleth"
           }
          ],
          "contour": [
           {
            "colorbar": {
             "outlinewidth": 0,
             "ticks": ""
            },
            "colorscale": [
             [
              0,
              "#0d0887"
             ],
             [
              0.1111111111111111,
              "#46039f"
             ],
             [
              0.2222222222222222,
              "#7201a8"
             ],
             [
              0.3333333333333333,
              "#9c179e"
             ],
             [
              0.4444444444444444,
              "#bd3786"
             ],
             [
              0.5555555555555556,
              "#d8576b"
             ],
             [
              0.6666666666666666,
              "#ed7953"
             ],
             [
              0.7777777777777778,
              "#fb9f3a"
             ],
             [
              0.8888888888888888,
              "#fdca26"
             ],
             [
              1,
              "#f0f921"
             ]
            ],
            "type": "contour"
           }
          ],
          "contourcarpet": [
           {
            "colorbar": {
             "outlinewidth": 0,
             "ticks": ""
            },
            "type": "contourcarpet"
           }
          ],
          "heatmap": [
           {
            "colorbar": {
             "outlinewidth": 0,
             "ticks": ""
            },
            "colorscale": [
             [
              0,
              "#0d0887"
             ],
             [
              0.1111111111111111,
              "#46039f"
             ],
             [
              0.2222222222222222,
              "#7201a8"
             ],
             [
              0.3333333333333333,
              "#9c179e"
             ],
             [
              0.4444444444444444,
              "#bd3786"
             ],
             [
              0.5555555555555556,
              "#d8576b"
             ],
             [
              0.6666666666666666,
              "#ed7953"
             ],
             [
              0.7777777777777778,
              "#fb9f3a"
             ],
             [
              0.8888888888888888,
              "#fdca26"
             ],
             [
              1,
              "#f0f921"
             ]
            ],
            "type": "heatmap"
           }
          ],
          "heatmapgl": [
           {
            "colorbar": {
             "outlinewidth": 0,
             "ticks": ""
            },
            "colorscale": [
             [
              0,
              "#0d0887"
             ],
             [
              0.1111111111111111,
              "#46039f"
             ],
             [
              0.2222222222222222,
              "#7201a8"
             ],
             [
              0.3333333333333333,
              "#9c179e"
             ],
             [
              0.4444444444444444,
              "#bd3786"
             ],
             [
              0.5555555555555556,
              "#d8576b"
             ],
             [
              0.6666666666666666,
              "#ed7953"
             ],
             [
              0.7777777777777778,
              "#fb9f3a"
             ],
             [
              0.8888888888888888,
              "#fdca26"
             ],
             [
              1,
              "#f0f921"
             ]
            ],
            "type": "heatmapgl"
           }
          ],
          "histogram": [
           {
            "marker": {
             "pattern": {
              "fillmode": "overlay",
              "size": 10,
              "solidity": 0.2
             }
            },
            "type": "histogram"
           }
          ],
          "histogram2d": [
           {
            "colorbar": {
             "outlinewidth": 0,
             "ticks": ""
            },
            "colorscale": [
             [
              0,
              "#0d0887"
             ],
             [
              0.1111111111111111,
              "#46039f"
             ],
             [
              0.2222222222222222,
              "#7201a8"
             ],
             [
              0.3333333333333333,
              "#9c179e"
             ],
             [
              0.4444444444444444,
              "#bd3786"
             ],
             [
              0.5555555555555556,
              "#d8576b"
             ],
             [
              0.6666666666666666,
              "#ed7953"
             ],
             [
              0.7777777777777778,
              "#fb9f3a"
             ],
             [
              0.8888888888888888,
              "#fdca26"
             ],
             [
              1,
              "#f0f921"
             ]
            ],
            "type": "histogram2d"
           }
          ],
          "histogram2dcontour": [
           {
            "colorbar": {
             "outlinewidth": 0,
             "ticks": ""
            },
            "colorscale": [
             [
              0,
              "#0d0887"
             ],
             [
              0.1111111111111111,
              "#46039f"
             ],
             [
              0.2222222222222222,
              "#7201a8"
             ],
             [
              0.3333333333333333,
              "#9c179e"
             ],
             [
              0.4444444444444444,
              "#bd3786"
             ],
             [
              0.5555555555555556,
              "#d8576b"
             ],
             [
              0.6666666666666666,
              "#ed7953"
             ],
             [
              0.7777777777777778,
              "#fb9f3a"
             ],
             [
              0.8888888888888888,
              "#fdca26"
             ],
             [
              1,
              "#f0f921"
             ]
            ],
            "type": "histogram2dcontour"
           }
          ],
          "mesh3d": [
           {
            "colorbar": {
             "outlinewidth": 0,
             "ticks": ""
            },
            "type": "mesh3d"
           }
          ],
          "parcoords": [
           {
            "line": {
             "colorbar": {
              "outlinewidth": 0,
              "ticks": ""
             }
            },
            "type": "parcoords"
           }
          ],
          "pie": [
           {
            "automargin": true,
            "type": "pie"
           }
          ],
          "scatter": [
           {
            "fillpattern": {
             "fillmode": "overlay",
             "size": 10,
             "solidity": 0.2
            },
            "type": "scatter"
           }
          ],
          "scatter3d": [
           {
            "line": {
             "colorbar": {
              "outlinewidth": 0,
              "ticks": ""
             }
            },
            "marker": {
             "colorbar": {
              "outlinewidth": 0,
              "ticks": ""
             }
            },
            "type": "scatter3d"
           }
          ],
          "scattercarpet": [
           {
            "marker": {
             "colorbar": {
              "outlinewidth": 0,
              "ticks": ""
             }
            },
            "type": "scattercarpet"
           }
          ],
          "scattergeo": [
           {
            "marker": {
             "colorbar": {
              "outlinewidth": 0,
              "ticks": ""
             }
            },
            "type": "scattergeo"
           }
          ],
          "scattergl": [
           {
            "marker": {
             "colorbar": {
              "outlinewidth": 0,
              "ticks": ""
             }
            },
            "type": "scattergl"
           }
          ],
          "scattermapbox": [
           {
            "marker": {
             "colorbar": {
              "outlinewidth": 0,
              "ticks": ""
             }
            },
            "type": "scattermapbox"
           }
          ],
          "scatterpolar": [
           {
            "marker": {
             "colorbar": {
              "outlinewidth": 0,
              "ticks": ""
             }
            },
            "type": "scatterpolar"
           }
          ],
          "scatterpolargl": [
           {
            "marker": {
             "colorbar": {
              "outlinewidth": 0,
              "ticks": ""
             }
            },
            "type": "scatterpolargl"
           }
          ],
          "scatterternary": [
           {
            "marker": {
             "colorbar": {
              "outlinewidth": 0,
              "ticks": ""
             }
            },
            "type": "scatterternary"
           }
          ],
          "surface": [
           {
            "colorbar": {
             "outlinewidth": 0,
             "ticks": ""
            },
            "colorscale": [
             [
              0,
              "#0d0887"
             ],
             [
              0.1111111111111111,
              "#46039f"
             ],
             [
              0.2222222222222222,
              "#7201a8"
             ],
             [
              0.3333333333333333,
              "#9c179e"
             ],
             [
              0.4444444444444444,
              "#bd3786"
             ],
             [
              0.5555555555555556,
              "#d8576b"
             ],
             [
              0.6666666666666666,
              "#ed7953"
             ],
             [
              0.7777777777777778,
              "#fb9f3a"
             ],
             [
              0.8888888888888888,
              "#fdca26"
             ],
             [
              1,
              "#f0f921"
             ]
            ],
            "type": "surface"
           }
          ],
          "table": [
           {
            "cells": {
             "fill": {
              "color": "#EBF0F8"
             },
             "line": {
              "color": "white"
             }
            },
            "header": {
             "fill": {
              "color": "#C8D4E3"
             },
             "line": {
              "color": "white"
             }
            },
            "type": "table"
           }
          ]
         },
         "layout": {
          "annotationdefaults": {
           "arrowcolor": "#2a3f5f",
           "arrowhead": 0,
           "arrowwidth": 1
          },
          "autotypenumbers": "strict",
          "coloraxis": {
           "colorbar": {
            "outlinewidth": 0,
            "ticks": ""
           }
          },
          "colorscale": {
           "diverging": [
            [
             0,
             "#8e0152"
            ],
            [
             0.1,
             "#c51b7d"
            ],
            [
             0.2,
             "#de77ae"
            ],
            [
             0.3,
             "#f1b6da"
            ],
            [
             0.4,
             "#fde0ef"
            ],
            [
             0.5,
             "#f7f7f7"
            ],
            [
             0.6,
             "#e6f5d0"
            ],
            [
             0.7,
             "#b8e186"
            ],
            [
             0.8,
             "#7fbc41"
            ],
            [
             0.9,
             "#4d9221"
            ],
            [
             1,
             "#276419"
            ]
           ],
           "sequential": [
            [
             0,
             "#0d0887"
            ],
            [
             0.1111111111111111,
             "#46039f"
            ],
            [
             0.2222222222222222,
             "#7201a8"
            ],
            [
             0.3333333333333333,
             "#9c179e"
            ],
            [
             0.4444444444444444,
             "#bd3786"
            ],
            [
             0.5555555555555556,
             "#d8576b"
            ],
            [
             0.6666666666666666,
             "#ed7953"
            ],
            [
             0.7777777777777778,
             "#fb9f3a"
            ],
            [
             0.8888888888888888,
             "#fdca26"
            ],
            [
             1,
             "#f0f921"
            ]
           ],
           "sequentialminus": [
            [
             0,
             "#0d0887"
            ],
            [
             0.1111111111111111,
             "#46039f"
            ],
            [
             0.2222222222222222,
             "#7201a8"
            ],
            [
             0.3333333333333333,
             "#9c179e"
            ],
            [
             0.4444444444444444,
             "#bd3786"
            ],
            [
             0.5555555555555556,
             "#d8576b"
            ],
            [
             0.6666666666666666,
             "#ed7953"
            ],
            [
             0.7777777777777778,
             "#fb9f3a"
            ],
            [
             0.8888888888888888,
             "#fdca26"
            ],
            [
             1,
             "#f0f921"
            ]
           ]
          },
          "colorway": [
           "#636efa",
           "#EF553B",
           "#00cc96",
           "#ab63fa",
           "#FFA15A",
           "#19d3f3",
           "#FF6692",
           "#B6E880",
           "#FF97FF",
           "#FECB52"
          ],
          "font": {
           "color": "#2a3f5f"
          },
          "geo": {
           "bgcolor": "white",
           "lakecolor": "white",
           "landcolor": "#E5ECF6",
           "showlakes": true,
           "showland": true,
           "subunitcolor": "white"
          },
          "hoverlabel": {
           "align": "left"
          },
          "hovermode": "closest",
          "mapbox": {
           "style": "light"
          },
          "paper_bgcolor": "white",
          "plot_bgcolor": "#E5ECF6",
          "polar": {
           "angularaxis": {
            "gridcolor": "white",
            "linecolor": "white",
            "ticks": ""
           },
           "bgcolor": "#E5ECF6",
           "radialaxis": {
            "gridcolor": "white",
            "linecolor": "white",
            "ticks": ""
           }
          },
          "scene": {
           "xaxis": {
            "backgroundcolor": "#E5ECF6",
            "gridcolor": "white",
            "gridwidth": 2,
            "linecolor": "white",
            "showbackground": true,
            "ticks": "",
            "zerolinecolor": "white"
           },
           "yaxis": {
            "backgroundcolor": "#E5ECF6",
            "gridcolor": "white",
            "gridwidth": 2,
            "linecolor": "white",
            "showbackground": true,
            "ticks": "",
            "zerolinecolor": "white"
           },
           "zaxis": {
            "backgroundcolor": "#E5ECF6",
            "gridcolor": "white",
            "gridwidth": 2,
            "linecolor": "white",
            "showbackground": true,
            "ticks": "",
            "zerolinecolor": "white"
           }
          },
          "shapedefaults": {
           "line": {
            "color": "#2a3f5f"
           }
          },
          "ternary": {
           "aaxis": {
            "gridcolor": "white",
            "linecolor": "white",
            "ticks": ""
           },
           "baxis": {
            "gridcolor": "white",
            "linecolor": "white",
            "ticks": ""
           },
           "bgcolor": "#E5ECF6",
           "caxis": {
            "gridcolor": "white",
            "linecolor": "white",
            "ticks": ""
           }
          },
          "title": {
           "x": 0.05
          },
          "xaxis": {
           "automargin": true,
           "gridcolor": "white",
           "linecolor": "white",
           "ticks": "",
           "title": {
            "standoff": 15
           },
           "zerolinecolor": "white",
           "zerolinewidth": 2
          },
          "yaxis": {
           "automargin": true,
           "gridcolor": "white",
           "linecolor": "white",
           "ticks": "",
           "title": {
            "standoff": 15
           },
           "zerolinecolor": "white",
           "zerolinewidth": 2
          }
         }
        },
        "title": {
         "text": "3D t-SNE Visualization of Word Embeddings from CSV"
        },
        "width": 1000
       }
      }
     },
     "metadata": {},
     "output_type": "display_data"
    }
   ],
   "source": [
    "import numpy as np\n",
    "import pandas as pd\n",
    "from sklearn.manifold import TSNE\n",
    "import plotly.express as px\n",
    "\n",
    "embedding_df = pd.read_csv('../data/financial_emb.csv')\n",
    "\n",
    "\n",
    "words_em = embedding_df.iloc[500:649,0]\n",
    "embedding_matrix = embedding_df.iloc[500:649, 1:].values\n",
    "\n",
    "tsne = TSNE(n_components=3, perplexity=5, random_state=0,learning_rate=10,n_iter=500)\n",
    "word_tsne = tsne.fit_transform(embedding_matrix)\n",
    "tsne_df = pd.DataFrame(word_tsne, columns=['Dimension 1', 'Dimension 2', 'Dimension 3'])\n",
    "\n",
    "tsne_df['Word'] = list(words_em)\n",
    "fig = px.scatter_3d(tsne_df, x='Dimension 1', y='Dimension 2', z='Dimension 3',\n",
    "                    text='Word', title='3D t-SNE Visualization of Word Embeddings from CSV',\n",
    "                    color_discrete_sequence=px.colors.qualitative.Set1)\n",
    "fig.update_traces(marker=dict(size=6, opacity=0.7))\n",
    "fig.update_layout(hovermode='closest')\n",
    "fig.update_traces(textposition='top center')  \n",
    "\n",
    "fig.update_layout(width=1000, height=800)  \n",
    "\n",
    "fig.show()\n"
   ]
  },
  {
   "cell_type": "code",
   "execution_count": 10,
   "metadata": {},
   "outputs": [],
   "source": [
    "embedding_df=pd.read_csv('../tsne_embeddings/data/Embedding.csv')"
   ]
  },
  {
   "cell_type": "code",
   "execution_count": 12,
   "metadata": {},
   "outputs": [
    {
     "data": {
      "text/html": [
       "<div>\n",
       "<style scoped>\n",
       "    .dataframe tbody tr th:only-of-type {\n",
       "        vertical-align: middle;\n",
       "    }\n",
       "\n",
       "    .dataframe tbody tr th {\n",
       "        vertical-align: top;\n",
       "    }\n",
       "\n",
       "    .dataframe thead th {\n",
       "        text-align: right;\n",
       "    }\n",
       "</style>\n",
       "<table border=\"1\" class=\"dataframe\">\n",
       "  <thead>\n",
       "    <tr style=\"text-align: right;\">\n",
       "      <th></th>\n",
       "      <th>Unnamed: 0</th>\n",
       "      <th>0</th>\n",
       "      <th>1</th>\n",
       "      <th>2</th>\n",
       "      <th>3</th>\n",
       "      <th>4</th>\n",
       "      <th>5</th>\n",
       "      <th>6</th>\n",
       "      <th>7</th>\n",
       "      <th>8</th>\n",
       "      <th>...</th>\n",
       "      <th>91</th>\n",
       "      <th>92</th>\n",
       "      <th>93</th>\n",
       "      <th>94</th>\n",
       "      <th>95</th>\n",
       "      <th>96</th>\n",
       "      <th>97</th>\n",
       "      <th>98</th>\n",
       "      <th>99</th>\n",
       "      <th>100</th>\n",
       "    </tr>\n",
       "  </thead>\n",
       "  <tbody>\n",
       "    <tr>\n",
       "      <th>0</th>\n",
       "      <td>inflation</td>\n",
       "      <td>0.021148</td>\n",
       "      <td>0.183663</td>\n",
       "      <td>0.185199</td>\n",
       "      <td>0.054305</td>\n",
       "      <td>0.213899</td>\n",
       "      <td>-0.689852</td>\n",
       "      <td>0.153622</td>\n",
       "      <td>0.751659</td>\n",
       "      <td>-0.252999</td>\n",
       "      <td>...</td>\n",
       "      <td>-0.102017</td>\n",
       "      <td>0.296876</td>\n",
       "      <td>0.116780</td>\n",
       "      <td>0.620217</td>\n",
       "      <td>0.361338</td>\n",
       "      <td>-0.186587</td>\n",
       "      <td>-0.198008</td>\n",
       "      <td>0.227130</td>\n",
       "      <td>-0.055244</td>\n",
       "      <td>NaN</td>\n",
       "    </tr>\n",
       "    <tr>\n",
       "      <th>1</th>\n",
       "      <td>growth</td>\n",
       "      <td>-0.024918</td>\n",
       "      <td>0.265209</td>\n",
       "      <td>0.225577</td>\n",
       "      <td>-0.037122</td>\n",
       "      <td>0.347899</td>\n",
       "      <td>-0.311437</td>\n",
       "      <td>0.199655</td>\n",
       "      <td>0.348140</td>\n",
       "      <td>-0.221396</td>\n",
       "      <td>...</td>\n",
       "      <td>0.152925</td>\n",
       "      <td>0.183782</td>\n",
       "      <td>0.123269</td>\n",
       "      <td>0.559711</td>\n",
       "      <td>0.137582</td>\n",
       "      <td>0.092444</td>\n",
       "      <td>-0.265798</td>\n",
       "      <td>-0.120053</td>\n",
       "      <td>-0.274399</td>\n",
       "      <td>NaN</td>\n",
       "    </tr>\n",
       "    <tr>\n",
       "      <th>2</th>\n",
       "      <td>exhibit</td>\n",
       "      <td>0.105068</td>\n",
       "      <td>0.126507</td>\n",
       "      <td>0.133156</td>\n",
       "      <td>-0.165486</td>\n",
       "      <td>0.220145</td>\n",
       "      <td>-0.144541</td>\n",
       "      <td>0.417217</td>\n",
       "      <td>0.388043</td>\n",
       "      <td>-0.209632</td>\n",
       "      <td>...</td>\n",
       "      <td>0.093380</td>\n",
       "      <td>0.095718</td>\n",
       "      <td>0.071120</td>\n",
       "      <td>0.643850</td>\n",
       "      <td>0.066595</td>\n",
       "      <td>-0.003790</td>\n",
       "      <td>-0.279589</td>\n",
       "      <td>0.169439</td>\n",
       "      <td>-0.126515</td>\n",
       "      <td>NaN</td>\n",
       "    </tr>\n",
       "    <tr>\n",
       "      <th>3</th>\n",
       "      <td>rate</td>\n",
       "      <td>0.117714</td>\n",
       "      <td>0.395059</td>\n",
       "      <td>0.324886</td>\n",
       "      <td>-0.112577</td>\n",
       "      <td>0.122653</td>\n",
       "      <td>-0.631941</td>\n",
       "      <td>0.032977</td>\n",
       "      <td>0.676012</td>\n",
       "      <td>-0.056324</td>\n",
       "      <td>...</td>\n",
       "      <td>-0.034689</td>\n",
       "      <td>0.141461</td>\n",
       "      <td>0.279109</td>\n",
       "      <td>0.504290</td>\n",
       "      <td>0.312376</td>\n",
       "      <td>0.387416</td>\n",
       "      <td>-0.168994</td>\n",
       "      <td>-0.180282</td>\n",
       "      <td>-0.023368</td>\n",
       "      <td>NaN</td>\n",
       "    </tr>\n",
       "    <tr>\n",
       "      <th>4</th>\n",
       "      <td>global</td>\n",
       "      <td>-0.112755</td>\n",
       "      <td>0.157177</td>\n",
       "      <td>0.018026</td>\n",
       "      <td>-0.324289</td>\n",
       "      <td>0.305391</td>\n",
       "      <td>-0.167964</td>\n",
       "      <td>0.551484</td>\n",
       "      <td>0.145989</td>\n",
       "      <td>-0.189793</td>\n",
       "      <td>...</td>\n",
       "      <td>0.105124</td>\n",
       "      <td>0.260857</td>\n",
       "      <td>0.081290</td>\n",
       "      <td>0.295890</td>\n",
       "      <td>-0.020125</td>\n",
       "      <td>-0.000292</td>\n",
       "      <td>-0.069617</td>\n",
       "      <td>0.104263</td>\n",
       "      <td>-0.284216</td>\n",
       "      <td>NaN</td>\n",
       "    </tr>\n",
       "  </tbody>\n",
       "</table>\n",
       "<p>5 rows × 102 columns</p>\n",
       "</div>"
      ],
      "text/plain": [
       "  Unnamed: 0         0         1         2         3         4         5  \\\n",
       "0  inflation  0.021148  0.183663  0.185199  0.054305  0.213899 -0.689852   \n",
       "1     growth -0.024918  0.265209  0.225577 -0.037122  0.347899 -0.311437   \n",
       "2    exhibit  0.105068  0.126507  0.133156 -0.165486  0.220145 -0.144541   \n",
       "3       rate  0.117714  0.395059  0.324886 -0.112577  0.122653 -0.631941   \n",
       "4     global -0.112755  0.157177  0.018026 -0.324289  0.305391 -0.167964   \n",
       "\n",
       "          6         7         8  ...        91        92        93        94  \\\n",
       "0  0.153622  0.751659 -0.252999  ... -0.102017  0.296876  0.116780  0.620217   \n",
       "1  0.199655  0.348140 -0.221396  ...  0.152925  0.183782  0.123269  0.559711   \n",
       "2  0.417217  0.388043 -0.209632  ...  0.093380  0.095718  0.071120  0.643850   \n",
       "3  0.032977  0.676012 -0.056324  ... -0.034689  0.141461  0.279109  0.504290   \n",
       "4  0.551484  0.145989 -0.189793  ...  0.105124  0.260857  0.081290  0.295890   \n",
       "\n",
       "         95        96        97        98        99  100  \n",
       "0  0.361338 -0.186587 -0.198008  0.227130 -0.055244  NaN  \n",
       "1  0.137582  0.092444 -0.265798 -0.120053 -0.274399  NaN  \n",
       "2  0.066595 -0.003790 -0.279589  0.169439 -0.126515  NaN  \n",
       "3  0.312376  0.387416 -0.168994 -0.180282 -0.023368  NaN  \n",
       "4 -0.020125 -0.000292 -0.069617  0.104263 -0.284216  NaN  \n",
       "\n",
       "[5 rows x 102 columns]"
      ]
     },
     "execution_count": 12,
     "metadata": {},
     "output_type": "execute_result"
    }
   ],
   "source": [
    "embedding_df.head()"
   ]
  },
  {
   "cell_type": "code",
   "execution_count": null,
   "metadata": {},
   "outputs": [],
   "source": []
  }
 ],
 "metadata": {
  "kernelspec": {
   "display_name": "Python 3",
   "language": "python",
   "name": "python3"
  },
  "language_info": {
   "codemirror_mode": {
    "name": "ipython",
    "version": 3
   },
   "file_extension": ".py",
   "mimetype": "text/x-python",
   "name": "python",
   "nbconvert_exporter": "python",
   "pygments_lexer": "ipython3",
   "version": "3.10.9"
  },
  "orig_nbformat": 4
 },
 "nbformat": 4,
 "nbformat_minor": 2
}
